{
 "cells": [
  {
   "cell_type": "code",
   "execution_count": null,
   "id": "dc898b68",
   "metadata": {},
   "outputs": [],
   "source": [
    "1. Is the Python Standard Library included with PyInputPlus?"
   ]
  },
  {
   "cell_type": "code",
   "execution_count": null,
   "id": "5602fd2c",
   "metadata": {},
   "outputs": [],
   "source": [
    "Ans : No, PyInputPlus is not a part of Python Standard Library, \n",
    "    it needs to be installed explicitly using the command !pip install PyInputPlus\n",
    "    PyInputPlus is a third-party library that provides additional features and functions for handling user input"
   ]
  },
  {
   "cell_type": "code",
   "execution_count": null,
   "id": "f027bb68",
   "metadata": {},
   "outputs": [],
   "source": [
    "--------------------------------------------------------------------------------------------------------"
   ]
  },
  {
   "cell_type": "code",
   "execution_count": null,
   "id": "d22d4e92",
   "metadata": {},
   "outputs": [],
   "source": [
    "2. Why is PyInputPlus commonly imported with import pyinputplus as pypi?"
   ]
  },
  {
   "cell_type": "code",
   "execution_count": null,
   "id": "190efb10",
   "metadata": {},
   "outputs": [],
   "source": [
    " Ans : You can import the module with import pyinputplus as pyip so that you can enter a shorter name when calling the module's functions"
   ]
  },
  {
   "cell_type": "code",
   "execution_count": null,
   "id": "8111381a",
   "metadata": {},
   "outputs": [],
   "source": [
    "----------------------------------------------------------------------------------------------------------"
   ]
  },
  {
   "cell_type": "code",
   "execution_count": null,
   "id": "bb4fadd0",
   "metadata": {},
   "outputs": [],
   "source": [
    "3. How do you distinguish between inputInt() and inputFloat()?"
   ]
  },
  {
   "cell_type": "code",
   "execution_count": null,
   "id": "6ca25fc2",
   "metadata": {},
   "outputs": [],
   "source": [
    "Ans: inputInt() and inputFloat() based on the type of number you want the user to input. \n",
    "    If you want the user to input an integer value, you should use inputInt(). \n",
    "    If you want the user to input a floating-point value, you should use inputFloat()."
   ]
  },
  {
   "cell_type": "code",
   "execution_count": null,
   "id": "186bcb56",
   "metadata": {},
   "outputs": [],
   "source": [
    "------------------------------------------------------------------------------------------------------------------------"
   ]
  },
  {
   "cell_type": "code",
   "execution_count": null,
   "id": "45709dac",
   "metadata": {},
   "outputs": [],
   "source": [
    "4. Using PyInputPlus, how do you ensure that the user enters a whole number between 0 and 99?"
   ]
  },
  {
   "cell_type": "code",
   "execution_count": null,
   "id": "9f5312d9",
   "metadata": {},
   "outputs": [],
   "source": [
    "Ans: PyInputPlus module provides a function called as inputInt() which only returns only integer values. \n",
    "    inorder to restrict the input between 0 and 99, i'ii use parameters like min & max to ensure that user enters the values between the defined range only.\n",
    "\n",
    "import pyinputplus as pyip wholenumber = pyip.inputInt(prompt='Enter a number: ', min=0, max=100) print(wholenumber)"
   ]
  },
  {
   "cell_type": "code",
   "execution_count": null,
   "id": "7c6a8cb2",
   "metadata": {},
   "outputs": [],
   "source": [
    "---------------------------------------------------------------------------------------------------------------------------"
   ]
  },
  {
   "cell_type": "code",
   "execution_count": null,
   "id": "6b13b7e2",
   "metadata": {},
   "outputs": [],
   "source": [
    "5. What is transferred to the keyword arguments allowRegexes and blockRegexes?"
   ]
  },
  {
   "cell_type": "code",
   "execution_count": null,
   "id": "570b2447",
   "metadata": {},
   "outputs": [],
   "source": [
    "Ans: we can use allowRegexes and blockRegexes keyword arguments to take list of regular expression strings to determine what the pyinputplus function will reject or accept valid input"
   ]
  },
  {
   "cell_type": "code",
   "execution_count": null,
   "id": "be9cb9fe",
   "metadata": {},
   "outputs": [],
   "source": [
    "---------------------------------------------------------------------------------------------------------------------------"
   ]
  },
  {
   "cell_type": "code",
   "execution_count": null,
   "id": "9112247e",
   "metadata": {},
   "outputs": [],
   "source": [
    "6. If a blank input is entered three times, what does inputStr(limit=3) do?"
   ]
  },
  {
   "cell_type": "code",
   "execution_count": null,
   "id": "9d924ce1",
   "metadata": {},
   "outputs": [],
   "source": [
    "Ans: The statement inputStr(limit=3) will throw two exceptions ValidationException and RetryLimitException. \n",
    "    The first exception is thrown because blank values are not allowed by inputStr() function by default. \n",
    "    it we want to consider blank values as valid input, we have to set blank=True.\n",
    "\n",
    "    The second exception is occured because we have reached the max limit we have specified by using limit parameter. \n",
    "    inorder to avoid this exception we can use default parameter to return a default value when max limit is reached."
   ]
  },
  {
   "cell_type": "code",
   "execution_count": null,
   "id": "c2716e7b",
   "metadata": {},
   "outputs": [],
   "source": [
    "--------------------------------------------------------------------------------------------------------------"
   ]
  },
  {
   "cell_type": "code",
   "execution_count": null,
   "id": "a4cd9447",
   "metadata": {},
   "outputs": [],
   "source": [
    "7. If blank input is entered three times, what does inputStr(limit=3, default='hello') do?"
   ]
  },
  {
   "cell_type": "code",
   "execution_count": null,
   "id": "d5019e21",
   "metadata": {},
   "outputs": [],
   "source": [
    "Ans: Since the default parameter is set to hello. after blank input is entered three times instead of raising RetryLimitException exception. \n",
    "    the function will return hello as response to the calling function"
   ]
  },
  {
   "cell_type": "code",
   "execution_count": null,
   "id": "656ccc7e",
   "metadata": {},
   "outputs": [],
   "source": []
  },
  {
   "cell_type": "code",
   "execution_count": null,
   "id": "93108329",
   "metadata": {},
   "outputs": [],
   "source": []
  }
 ],
 "metadata": {
  "kernelspec": {
   "display_name": "Python 3 (ipykernel)",
   "language": "python",
   "name": "python3"
  },
  "language_info": {
   "codemirror_mode": {
    "name": "ipython",
    "version": 3
   },
   "file_extension": ".py",
   "mimetype": "text/x-python",
   "name": "python",
   "nbconvert_exporter": "python",
   "pygments_lexer": "ipython3",
   "version": "3.9.13"
  }
 },
 "nbformat": 4,
 "nbformat_minor": 5
}
