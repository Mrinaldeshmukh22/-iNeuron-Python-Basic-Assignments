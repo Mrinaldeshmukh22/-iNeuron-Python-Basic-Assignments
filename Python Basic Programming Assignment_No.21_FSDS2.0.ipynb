{
 "cells": [
  {
   "cell_type": "code",
   "execution_count": null,
   "id": "a93bcfb8",
   "metadata": {},
   "outputs": [],
   "source": [
    "Ques 1 : Write a function that takes a list and a number as arguments. Add the number to the end of\n",
    "the list, then remove the first element of the list. The function should then return the updated\n",
    "list."
   ]
  },
  {
   "cell_type": "code",
   "execution_count": 1,
   "id": "0ebbbf41",
   "metadata": {},
   "outputs": [],
   "source": [
    "def next_in_line(lst, num):\n",
    "    lst.append(num)  # add the number to the end of the list\n",
    "    lst.pop(0)  # remove the first element of the list\n",
    "    return lst  # return the updated list"
   ]
  },
  {
   "cell_type": "code",
   "execution_count": 2,
   "id": "4ccdfac1",
   "metadata": {},
   "outputs": [
    {
     "data": {
      "text/plain": [
       "[6, 7, 8, 9, 1]"
      ]
     },
     "execution_count": 2,
     "metadata": {},
     "output_type": "execute_result"
    }
   ],
   "source": [
    "next_in_line([5, 6, 7, 8, 9], 1)"
   ]
  },
  {
   "cell_type": "code",
   "execution_count": 3,
   "id": "44e30fb7",
   "metadata": {},
   "outputs": [
    {
     "data": {
      "text/plain": [
       "[6, 3, 23, 17, 10]"
      ]
     },
     "execution_count": 3,
     "metadata": {},
     "output_type": "execute_result"
    }
   ],
   "source": [
    "next_in_line([7, 6, 3, 23, 17], 10)"
   ]
  },
  {
   "cell_type": "code",
   "execution_count": null,
   "id": "04cd4752",
   "metadata": {},
   "outputs": [],
   "source": [
    "************************************************************************"
   ]
  },
  {
   "cell_type": "code",
   "execution_count": null,
   "id": "7113f305",
   "metadata": {},
   "outputs": [],
   "source": [
    "Question2 : \n",
    "Create the function that takes a list of dictionaries and returns the sum of people&#39;s budgets."
   ]
  },
  {
   "cell_type": "code",
   "execution_count": 4,
   "id": "27ce5d49",
   "metadata": {},
   "outputs": [],
   "source": [
    "def get_budgets(budgets_list):\n",
    "    total_budget = 0\n",
    "    for budget in budgets_list:\n",
    "        total_budget += budget['budget']\n",
    "    return total_budget"
   ]
  },
  {
   "cell_type": "code",
   "execution_count": 6,
   "id": "75eece12",
   "metadata": {},
   "outputs": [
    {
     "ename": "TypeError",
     "evalue": "'function' object is not subscriptable",
     "output_type": "error",
     "traceback": [
      "\u001b[1;31m---------------------------------------------------------------------------\u001b[0m",
      "\u001b[1;31mTypeError\u001b[0m                                 Traceback (most recent call last)",
      "\u001b[1;32m~\\AppData\\Local\\Temp\\ipykernel_9692\\764673364.py\u001b[0m in \u001b[0;36m<module>\u001b[1;34m\u001b[0m\n\u001b[1;32m----> 1\u001b[1;33m get_budgets[{\"name\":\"John\",\"age\":21,\"budget\":23000},\n\u001b[0m\u001b[0;32m      2\u001b[0m            \u001b[1;33m{\u001b[0m\u001b[1;34m\"name\"\u001b[0m\u001b[1;33m:\u001b[0m\u001b[1;34m\"Steve\"\u001b[0m\u001b[1;33m,\u001b[0m\u001b[1;34m\"age\"\u001b[0m\u001b[1;33m:\u001b[0m\u001b[1;36m32\u001b[0m\u001b[1;33m,\u001b[0m\u001b[1;34m\"budget\"\u001b[0m\u001b[1;33m:\u001b[0m \u001b[1;36m40000\u001b[0m\u001b[1;33m}\u001b[0m\u001b[1;33m,\u001b[0m\u001b[1;33m\u001b[0m\u001b[1;33m\u001b[0m\u001b[0m\n\u001b[0;32m      3\u001b[0m            {\"name\": \"Martin\",\"age\":16,\"budget\":2700}]\n",
      "\u001b[1;31mTypeError\u001b[0m: 'function' object is not subscriptable"
     ]
    }
   ],
   "source": [
    "get_budgets[{\"name\":\"John\",\"age\":21,\"budget\":23000},\n",
    "           {\"name\":\"Steve\",\"age\":32,\"budget\": 40000},\n",
    "           {\"name\": \"Martin\",\"age\":16,\"budget\":2700}]"
   ]
  },
  {
   "cell_type": "code",
   "execution_count": null,
   "id": "ca0a17ed",
   "metadata": {},
   "outputs": [],
   "source": [
    "************************************************************************"
   ]
  },
  {
   "cell_type": "code",
   "execution_count": null,
   "id": "3e7c860e",
   "metadata": {},
   "outputs": [],
   "source": [
    "Ques 3 : Create a function that takes a string and returns a string with its letters in alphabetical order."
   ]
  },
  {
   "cell_type": "code",
   "execution_count": 7,
   "id": "cfa4eeef",
   "metadata": {},
   "outputs": [],
   "source": [
    "def alphabet_soup(a):\n",
    "    str = \"\".join(sorted(a))\n",
    "    return str"
   ]
  },
  {
   "cell_type": "code",
   "execution_count": 8,
   "id": "40a83826",
   "metadata": {},
   "outputs": [
    {
     "data": {
      "text/plain": [
       "'ehllo'"
      ]
     },
     "execution_count": 8,
     "metadata": {},
     "output_type": "execute_result"
    }
   ],
   "source": [
    "alphabet_soup(\"hello\")"
   ]
  },
  {
   "cell_type": "code",
   "execution_count": 9,
   "id": "3bdbf3e0",
   "metadata": {},
   "outputs": [
    {
     "data": {
      "text/plain": [
       "'abdeit'"
      ]
     },
     "execution_count": 9,
     "metadata": {},
     "output_type": "execute_result"
    }
   ],
   "source": [
    "alphabet_soup(\"edabit\")"
   ]
  },
  {
   "cell_type": "code",
   "execution_count": 10,
   "id": "4f6582f0",
   "metadata": {},
   "outputs": [
    {
     "data": {
      "text/plain": [
       "'acehkr'"
      ]
     },
     "execution_count": 10,
     "metadata": {},
     "output_type": "execute_result"
    }
   ],
   "source": [
    "alphabet_soup(\"hacker\")"
   ]
  },
  {
   "cell_type": "code",
   "execution_count": null,
   "id": "87783644",
   "metadata": {},
   "outputs": [],
   "source": [
    "************************************************************************"
   ]
  },
  {
   "cell_type": "code",
   "execution_count": null,
   "id": "603508df",
   "metadata": {},
   "outputs": [],
   "source": [
    "Ques 5 : Write a function that takes a list of elements and returns only the integers."
   ]
  },
  {
   "cell_type": "code",
   "execution_count": 11,
   "id": "ef4384c6",
   "metadata": {},
   "outputs": [],
   "source": [
    "def return_only_integer(l):\n",
    "    l1 = []\n",
    "    for i in l:\n",
    "        if type(i)==int:\n",
    "            l1.append(i)\n",
    "    return l1"
   ]
  },
  {
   "cell_type": "code",
   "execution_count": 12,
   "id": "4ac3823d",
   "metadata": {},
   "outputs": [
    {
     "data": {
      "text/plain": [
       "[9, 2, 16]"
      ]
     },
     "execution_count": 12,
     "metadata": {},
     "output_type": "execute_result"
    }
   ],
   "source": [
    "return_only_integer([9, 2,\"space\",\"car\",\"lion\",16])"
   ]
  },
  {
   "cell_type": "code",
   "execution_count": 13,
   "id": "bcbf31c3",
   "metadata": {},
   "outputs": [
    {
     "data": {
      "text/plain": [
       "[1]"
      ]
     },
     "execution_count": 13,
     "metadata": {},
     "output_type": "execute_result"
    }
   ],
   "source": [
    "return_only_integer([\"string\",True,3.3,1])"
   ]
  },
  {
   "cell_type": "code",
   "execution_count": null,
   "id": "f9bc4116",
   "metadata": {},
   "outputs": [],
   "source": []
  }
 ],
 "metadata": {
  "kernelspec": {
   "display_name": "Python 3 (ipykernel)",
   "language": "python",
   "name": "python3"
  },
  "language_info": {
   "codemirror_mode": {
    "name": "ipython",
    "version": 3
   },
   "file_extension": ".py",
   "mimetype": "text/x-python",
   "name": "python",
   "nbconvert_exporter": "python",
   "pygments_lexer": "ipython3",
   "version": "3.9.13"
  }
 },
 "nbformat": 4,
 "nbformat_minor": 5
}
