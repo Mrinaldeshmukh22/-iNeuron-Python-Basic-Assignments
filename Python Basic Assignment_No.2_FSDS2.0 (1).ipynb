{
 "cells": [
  {
   "cell_type": "code",
   "execution_count": null,
   "id": "56852541",
   "metadata": {},
   "outputs": [],
   "source": [
    "Ques1: What are the two values of the Boolean data type? How do you write them"
   ]
  },
  {
   "cell_type": "code",
   "execution_count": null,
   "id": "dba8524b",
   "metadata": {},
   "outputs": [],
   "source": [
    "Ans: True and False, using capital T and F and remaining is lowercase"
   ]
  },
  {
   "cell_type": "code",
   "execution_count": null,
   "id": "e9c777f9",
   "metadata": {},
   "outputs": [],
   "source": [
    "----------------------------------------------------------------------------------------------------------------------------"
   ]
  },
  {
   "cell_type": "code",
   "execution_count": null,
   "id": "04972540",
   "metadata": {},
   "outputs": [],
   "source": [
    "Ques2: What are the three different types of Boolean operators?"
   ]
  },
  {
   "cell_type": "code",
   "execution_count": null,
   "id": "ba7f4270",
   "metadata": {},
   "outputs": [],
   "source": [
    "Ans: and, or, and not different types of Boolean operators"
   ]
  },
  {
   "cell_type": "code",
   "execution_count": null,
   "id": "2cc47cfc",
   "metadata": {},
   "outputs": [],
   "source": [
    "---------------------------------------------------------------------------------------------------------------------------"
   ]
  },
  {
   "cell_type": "code",
   "execution_count": null,
   "id": "7d86c575",
   "metadata": {},
   "outputs": [],
   "source": [
    "Ques3: Write out the truth tables of each Boolean operator (that is, every possible combination of Boolean values for the operator and what they evaluate to)."
   ]
  },
  {
   "cell_type": "code",
   "execution_count": null,
   "id": "7d70088c",
   "metadata": {},
   "outputs": [],
   "source": [
    "Ans: \n",
    "True and True is True.\n",
    "True and False is False.\n",
    "False and True is False.\n",
    "False and False is False.\n",
    "True or True is True.\n",
    "True or False is True.\n",
    "False or True is True.\n",
    "False or False is False.\n",
    "not True is False.\n",
    "not False is True."
   ]
  },
  {
   "cell_type": "code",
   "execution_count": null,
   "id": "791fc489",
   "metadata": {},
   "outputs": [],
   "source": [
    "----------------------------------------------------------------------------------------------------------------------------"
   ]
  },
  {
   "cell_type": "code",
   "execution_count": null,
   "id": "35f5fe92",
   "metadata": {},
   "outputs": [],
   "source": [
    "Ques4:What do the following expressions evaluate to?\n",
    "\n",
    "1.(5 > 4) and (3 == 5)\n",
    "2.not (5 > 4)\n",
    "3.(5 > 4) or (3 == 5)\n",
    "4.not ((5 > 4) or (3 == 5))\n",
    "5.(True and True) and (True == False)\n",
    "6.(not False) or (not True)"
   ]
  },
  {
   "cell_type": "code",
   "execution_count": null,
   "id": "ae91d3fd",
   "metadata": {},
   "outputs": [],
   "source": [
    "Ans:\n",
    "1.(5>4) and (3==5) | True and False  || False \n",
    "2.not (5 > 4) | not True | False\n",
    "3.(5 > 4) or (3 == 5) = True and False ||True\n",
    "4.not ((5 > 4) or (3 == 5)) | not(True or False) || False\n",
    "5.(True and True) and (True == False) | True and False || False\n",
    "6.(not False) or (not True) | True or False || True\n"
   ]
  },
  {
   "cell_type": "code",
   "execution_count": null,
   "id": "e392a98f",
   "metadata": {},
   "outputs": [],
   "source": [
    "1.(5 > 4) and (3 == 5)                False     \n",
    "2.not (5 > 4)                         False\n",
    "3.(5 > 4) or (3 == 5)                 True\n",
    "4.not ((5 > 4) or (3 == 5))           False \n",
    "5.(True and True) and (True == False) False\n",
    "6.(not False) or (not True)           True"
   ]
  },
  {
   "cell_type": "code",
   "execution_count": null,
   "id": "eb96953b",
   "metadata": {},
   "outputs": [],
   "source": [
    "---------------------------------------------------------------------------------------------------------------------------"
   ]
  },
  {
   "cell_type": "code",
   "execution_count": null,
   "id": "24e869db",
   "metadata": {},
   "outputs": [],
   "source": [
    "Ques 5 :What are the six comparison operators"
   ]
  },
  {
   "cell_type": "code",
   "execution_count": null,
   "id": "a47f8d6a",
   "metadata": {},
   "outputs": [],
   "source": [
    "Ans: The six different types of reference operators are : ==, !=, <, >, <=, and >=."
   ]
  },
  {
   "cell_type": "code",
   "execution_count": null,
   "id": "28ff5d0f",
   "metadata": {},
   "outputs": [],
   "source": [
    "-----------------------------------------------------------------------------------------------------------------------------"
   ]
  },
  {
   "cell_type": "code",
   "execution_count": null,
   "id": "e1a13e9e",
   "metadata": {},
   "outputs": [],
   "source": [
    "Ques 6 : What is the difference between the equal to operator and the assignment operator"
   ]
  },
  {
   "cell_type": "code",
   "execution_count": null,
   "id": "19254983",
   "metadata": {},
   "outputs": [],
   "source": [
    "Ans: == is the equal to operator that compares two values and gives result in from of True and False (Boolean), \n",
    "and = is the assignment operator that stores a value in a variable"
   ]
  },
  {
   "cell_type": "code",
   "execution_count": null,
   "id": "b66198ea",
   "metadata": {},
   "outputs": [],
   "source": [
    "----------------------------------------------------------------------------------------------------------------------------"
   ]
  },
  {
   "cell_type": "code",
   "execution_count": null,
   "id": "611b5e0d",
   "metadata": {},
   "outputs": [],
   "source": [
    "Ques 7 : Identify the three blocks in this code:"
   ]
  },
  {
   "cell_type": "code",
   "execution_count": 2,
   "id": "70e9cca5",
   "metadata": {},
   "outputs": [
    {
     "name": "stdout",
     "output_type": "stream",
     "text": [
      "spam\n"
     ]
    }
   ],
   "source": [
    "spam = 0\n",
    "if spam == 10:\n",
    "    print('eggs')\n",
    "    if spam > 5:\n",
    "        print('bacon')\n",
    "    else:\n",
    "        print('ham')\n",
    "    print('spam')\n",
    "print('spam')"
   ]
  },
  {
   "cell_type": "code",
   "execution_count": null,
   "id": "b5a239fa",
   "metadata": {},
   "outputs": [],
   "source": [
    "Ans: the three block is in if statment or if else condtion"
   ]
  },
  {
   "cell_type": "code",
   "execution_count": null,
   "id": "574ed7eb",
   "metadata": {},
   "outputs": [],
   "source": [
    "----------------------------------------------------------------------------------------------------------------------------"
   ]
  },
  {
   "cell_type": "code",
   "execution_count": null,
   "id": "d91de4cf",
   "metadata": {},
   "outputs": [],
   "source": [
    "Ques 8 :Explain what a condition is and where you would use one."
   ]
  },
  {
   "cell_type": "code",
   "execution_count": null,
   "id": "b00524a9",
   "metadata": {},
   "outputs": [],
   "source": [
    "Ans : A condition is an expression used in a flow control statement that evaluates to a Boolean value."
   ]
  },
  {
   "cell_type": "code",
   "execution_count": null,
   "id": "856df2de",
   "metadata": {},
   "outputs": [],
   "source": [
    "----------------------------------------------------------------------------------------------------------------------------"
   ]
  },
  {
   "cell_type": "code",
   "execution_count": null,
   "id": "3e202fe6",
   "metadata": {},
   "outputs": [],
   "source": [
    "Ques 9 : Write code that prints Hello if 1 is stored in spam, prints Howdy if 2 is stored in spam, and prints Greetings! if anything else is stored in spam."
   ]
  },
  {
   "cell_type": "code",
   "execution_count": 5,
   "id": "1dd93f30",
   "metadata": {},
   "outputs": [
    {
     "name": "stdout",
     "output_type": "stream",
     "text": [
      "Enter a number : 1\n",
      "Hello\n"
     ]
    }
   ],
   "source": [
    "spam = int(input(\"Enter a number : \"))\n",
    "if spam ==1:\n",
    "    print('Hello')\n",
    "elif spam==2:\n",
    "    print('Howdy')\n",
    "else:\n",
    "    print('Greetings!')"
   ]
  },
  {
   "cell_type": "code",
   "execution_count": null,
   "id": "1e54d032",
   "metadata": {},
   "outputs": [],
   "source": [
    "---------------------------------------------------------------------------------------------------------------------------"
   ]
  },
  {
   "cell_type": "code",
   "execution_count": null,
   "id": "d71f645a",
   "metadata": {},
   "outputs": [],
   "source": [
    "Ques 10: What keys can you press if your program is stuck in an infinite loop"
   ]
  },
  {
   "cell_type": "code",
   "execution_count": null,
   "id": "b20959b5",
   "metadata": {},
   "outputs": [],
   "source": [
    "Ans: We use CTRL-C to stop a program if it has been stuck in an infinite loop. CTRL-C use for quit the program."
   ]
  },
  {
   "cell_type": "code",
   "execution_count": null,
   "id": "4f87f007",
   "metadata": {},
   "outputs": [],
   "source": [
    "--------------------------------------------------------------------------------------------------------------------------"
   ]
  },
  {
   "cell_type": "code",
   "execution_count": null,
   "id": "6123e37b",
   "metadata": {},
   "outputs": [],
   "source": [
    "Ques 11 :What is the difference between break and continue"
   ]
  },
  {
   "cell_type": "code",
   "execution_count": null,
   "id": "9457a4ff",
   "metadata": {},
   "outputs": [],
   "source": [
    "Ans: break statement leaves a loop, the and continue statement jumps to the next iteration"
   ]
  },
  {
   "cell_type": "code",
   "execution_count": null,
   "id": "6509e483",
   "metadata": {},
   "outputs": [],
   "source": [
    "---------------------------------------------------------------------------------------------------------------------------------"
   ]
  },
  {
   "cell_type": "code",
   "execution_count": null,
   "id": "fa0b72db",
   "metadata": {},
   "outputs": [],
   "source": [
    "Ques 12: What is the difference between range(10), range(0, 10), and range(0, 10, 1) in a for loop?"
   ]
  },
  {
   "cell_type": "code",
   "execution_count": null,
   "id": "7aa74689",
   "metadata": {},
   "outputs": [],
   "source": [
    "They all do the same thing. The range(10) call ranges from 0 up to (but not including) 10, range(0, 10) explicitly tells the loop to start at 0, and range(0, 10, 1) explicitly tells the loop to increase the variable by 1 on each iteration."
   ]
  },
  {
   "cell_type": "code",
   "execution_count": null,
   "id": "4dd8d7c4",
   "metadata": {},
   "outputs": [],
   "source": [
    "---------------------------------------------------------------------------------------------------------------------------"
   ]
  },
  {
   "cell_type": "code",
   "execution_count": null,
   "id": "0323b0c0",
   "metadata": {},
   "outputs": [],
   "source": [
    "Ques 13: Write a short program that prints the numbers 1 to 10 using a for loop. Then write an equivalent program that prints the numbers 1 to 10 using a while loop."
   ]
  },
  {
   "cell_type": "code",
   "execution_count": 12,
   "id": "2eae5c8e",
   "metadata": {},
   "outputs": [
    {
     "name": "stdout",
     "output_type": "stream",
     "text": [
      "1\n",
      "2\n",
      "3\n",
      "4\n",
      "5\n",
      "6\n",
      "7\n",
      "8\n",
      "9\n",
      "10\n"
     ]
    }
   ],
   "source": [
    "for i in range(1,11):\n",
    "    print(i)"
   ]
  },
  {
   "cell_type": "code",
   "execution_count": 14,
   "id": "c7e70d6a",
   "metadata": {},
   "outputs": [
    {
     "name": "stdout",
     "output_type": "stream",
     "text": [
      "1\n",
      "2\n",
      "3\n",
      "4\n",
      "5\n",
      "6\n",
      "7\n",
      "8\n",
      "9\n",
      "10\n"
     ]
    }
   ],
   "source": [
    "i = 1\n",
    "while i <=10:\n",
    "    print(i)\n",
    "    i += 1"
   ]
  },
  {
   "cell_type": "code",
   "execution_count": null,
   "id": "2d3ae239",
   "metadata": {},
   "outputs": [],
   "source": [
    "-----------------------------------------------------------------------------------------------------------------------------"
   ]
  },
  {
   "cell_type": "code",
   "execution_count": null,
   "id": "a68eca52",
   "metadata": {},
   "outputs": [],
   "source": [
    "Ques 14 : If you had a bacon() function within a spam module, what would you call it after importing spam"
   ]
  },
  {
   "cell_type": "code",
   "execution_count": null,
   "id": "ea0b037d",
   "metadata": {},
   "outputs": [],
   "source": [
    "Ans:This function can be called with spam.bacon()."
   ]
  }
 ],
 "metadata": {
  "kernelspec": {
   "display_name": "Python 3 (ipykernel)",
   "language": "python",
   "name": "python3"
  },
  "language_info": {
   "codemirror_mode": {
    "name": "ipython",
    "version": 3
   },
   "file_extension": ".py",
   "mimetype": "text/x-python",
   "name": "python",
   "nbconvert_exporter": "python",
   "pygments_lexer": "ipython3",
   "version": "3.9.12"
  }
 },
 "nbformat": 4,
 "nbformat_minor": 5
}
