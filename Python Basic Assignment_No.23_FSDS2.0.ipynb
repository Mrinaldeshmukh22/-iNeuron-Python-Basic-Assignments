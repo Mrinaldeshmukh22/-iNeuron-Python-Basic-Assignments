{
 "cells": [
  {
   "cell_type": "code",
   "execution_count": null,
   "id": "c9ac64f1",
   "metadata": {},
   "outputs": [],
   "source": [
    "Ques 1 : What is the result of the code, and why? "
   ]
  },
  {
   "cell_type": "code",
   "execution_count": 1,
   "id": "59bc22e8",
   "metadata": {},
   "outputs": [
    {
     "name": "stdout",
     "output_type": "stream",
     "text": [
      "1 2 8\n"
     ]
    }
   ],
   "source": [
    "def func(a, b=6, c=8): \n",
    "    print(a, b, c)\n",
    "func(1, 2)"
   ]
  },
  {
   "cell_type": "code",
   "execution_count": null,
   "id": "1d2c28b4",
   "metadata": {},
   "outputs": [],
   "source": [
    "Ans:1)  The line func() takes two values, that is 1 and 2 respectively, but the func() is defined to take 3 values, as in func() we pass only two values, the third value comes from the default value, that is c = 8.\n",
    "2) prevous a value not define b value is b\n",
    "3) but when func() call a value is given 1 and b = 2 "
   ]
  },
  {
   "cell_type": "code",
   "execution_count": null,
   "id": "7fa341cc",
   "metadata": {},
   "outputs": [],
   "source": [
    " ----------------------------------------------------------------------------------------------------"
   ]
  },
  {
   "cell_type": "code",
   "execution_count": null,
   "id": "f58f8220",
   "metadata": {},
   "outputs": [],
   "source": [
    "Ques 2 :What is the result of this code, and why?"
   ]
  },
  {
   "cell_type": "code",
   "execution_count": 2,
   "id": "04e38efa",
   "metadata": {},
   "outputs": [
    {
     "name": "stdout",
     "output_type": "stream",
     "text": [
      "1 2 3\n"
     ]
    }
   ],
   "source": [
    "def func(a, b, c=5):\n",
    "    print(a, b, c)\n",
    "func(1, c=3, b=2)"
   ]
  },
  {
   "cell_type": "code",
   "execution_count": null,
   "id": "6d59dc25",
   "metadata": {},
   "outputs": [],
   "source": [
    "Ans:  1 ) The function func() have 3 parameter and c value is set bydefault 5 and a,b value not define \n",
    "2) In the function call func(1, c=3, b=2), the values 1, 2, and 3 are passed in for a, b, and c, respectively. The order of the parameters is not important when using keyword arguments, so c=3 is used to set the value of c even though it is the third parameter in the function definition."
   ]
  },
  {
   "cell_type": "code",
   "execution_count": null,
   "id": "e658ffaf",
   "metadata": {},
   "outputs": [],
   "source": [
    "---------------------------------------------------------------------------------------------------------------------"
   ]
  },
  {
   "cell_type": "code",
   "execution_count": null,
   "id": "a13986b4",
   "metadata": {},
   "outputs": [],
   "source": [
    "Ques 3: How about this code: what is its result, and why?"
   ]
  },
  {
   "cell_type": "code",
   "execution_count": 4,
   "id": "22e6ed87",
   "metadata": {},
   "outputs": [
    {
     "name": "stdout",
     "output_type": "stream",
     "text": [
      "1 (2, 3)\n"
     ]
    }
   ],
   "source": [
    "def func(a, *pargs):\n",
    "    print(a, pargs)\n",
    "func(1, 2, 3)"
   ]
  },
  {
   "cell_type": "code",
   "execution_count": null,
   "id": "08921e33",
   "metadata": {},
   "outputs": [],
   "source": [
    "Ans : 1) This is because the function func takes one mandatory argument a\n",
    "    2) Then *pargs is given ,variable-length argument list *pargs, which allows the function to accept an arbitrary number of positional arguments after the first one.\n",
    "    3) In this case, the function is called with func(1, 2, 3), so a is assigned the value of 1, and the remaining arguments 2 and 3 are packed into a tuple and assigned to pargs.\n",
    "    4) we cant give any no of argument for *pargs"
   ]
  },
  {
   "cell_type": "code",
   "execution_count": 5,
   "id": "62f2ae6d",
   "metadata": {},
   "outputs": [
    {
     "name": "stdout",
     "output_type": "stream",
     "text": [
      "1 (2, 3, 4, 5, 6, 6, 6)\n"
     ]
    }
   ],
   "source": [
    "def func(a, *pargs):\n",
    "    print(a, pargs)\n",
    "func(1, 2, 3,4,5,6,6,6)"
   ]
  },
  {
   "cell_type": "code",
   "execution_count": null,
   "id": "7ed09f24",
   "metadata": {},
   "outputs": [],
   "source": [
    "-------------------------------------------------------------------------------------------------------------------------"
   ]
  },
  {
   "cell_type": "code",
   "execution_count": null,
   "id": "6a1f6643",
   "metadata": {},
   "outputs": [],
   "source": [
    "Ques 4 : What does this code print, and why?"
   ]
  },
  {
   "cell_type": "code",
   "execution_count": 8,
   "id": "8840baa8",
   "metadata": {},
   "outputs": [
    {
     "name": "stdout",
     "output_type": "stream",
     "text": [
      "1 {'c': 3, 'b': 2}\n"
     ]
    }
   ],
   "source": [
    "def func(a, **kargs):\n",
    "    print(a, kargs)\n",
    "func(a=1, c=3, b=2)"
   ]
  },
  {
   "cell_type": "code",
   "execution_count": null,
   "id": "b7d4d10b",
   "metadata": {},
   "outputs": [],
   "source": [
    "1 ) **kwargs accept keyworded variable-length argument passed by the function call and kwargs as being a dictionary\n"
   ]
  },
  {
   "cell_type": "code",
   "execution_count": null,
   "id": "7d27a652",
   "metadata": {},
   "outputs": [],
   "source": [
    "----------------------------------------------------------------------------------------------------------------------"
   ]
  },
  {
   "cell_type": "code",
   "execution_count": null,
   "id": "2f8e65a4",
   "metadata": {},
   "outputs": [],
   "source": [
    "Ques 5 :What gets printed by this, and explain"
   ]
  },
  {
   "cell_type": "code",
   "execution_count": 12,
   "id": "dbaaa47a",
   "metadata": {},
   "outputs": [
    {
     "name": "stdout",
     "output_type": "stream",
     "text": [
      "1 5 6 5\n"
     ]
    }
   ],
   "source": [
    "def func(a, b, c=8, d=5): \n",
    "    print(a, b, c, d)\n",
    "func(1, *(5, 6))"
   ]
  },
  {
   "cell_type": "code",
   "execution_count": null,
   "id": "b774e717",
   "metadata": {},
   "outputs": [],
   "source": [
    "1) In the function call func(1, *(5, 6)) a values is 1\n",
    "2) In the function call func(1, *(5, 6)), the * before (5, 6) unpacks the tuple (5, 6) into separate arguments,which are assigned to b and c parameters of the function. So, b is assigned 5 and c is assigned 6.\n",
    "3) d default value is 5"
   ]
  },
  {
   "cell_type": "code",
   "execution_count": null,
   "id": "a96f89a5",
   "metadata": {},
   "outputs": [],
   "source": [
    "--------------------------------------------------------------------------------------------------------------------"
   ]
  },
  {
   "cell_type": "code",
   "execution_count": null,
   "id": "80a554ce",
   "metadata": {},
   "outputs": [],
   "source": [
    "Ques 6 :what is the result of this, and explain"
   ]
  },
  {
   "cell_type": "code",
   "execution_count": 15,
   "id": "3ca3b2df",
   "metadata": {},
   "outputs": [],
   "source": [
    "def func(a, b, c): \n",
    "    a = 2; b[0] = 'x'; c['a'] = 'y'\n",
    "l=1; m=[1]; n={'a':0}\n",
    "func(l, m, n)"
   ]
  },
  {
   "cell_type": "code",
   "execution_count": 16,
   "id": "a59ffd95",
   "metadata": {},
   "outputs": [
    {
     "data": {
      "text/plain": [
       "(1, ['x'], {'a': 'y'})"
      ]
     },
     "execution_count": 16,
     "metadata": {},
     "output_type": "execute_result"
    }
   ],
   "source": [
    "l,m,n"
   ]
  },
  {
   "cell_type": "code",
   "execution_count": null,
   "id": "a4208c39",
   "metadata": {},
   "outputs": [],
   "source": [
    "Ans :1) Within the function, a is assigned the value 2, b[0] is assigned the string 'x', and c['a'] is assigned the string 'y'."
   ]
  },
  {
   "cell_type": "code",
   "execution_count": null,
   "id": "48ca6b15",
   "metadata": {},
   "outputs": [],
   "source": []
  },
  {
   "cell_type": "code",
   "execution_count": null,
   "id": "4f9b3b4b",
   "metadata": {},
   "outputs": [],
   "source": []
  },
  {
   "cell_type": "code",
   "execution_count": null,
   "id": "1e2dec23",
   "metadata": {},
   "outputs": [],
   "source": []
  }
 ],
 "metadata": {
  "kernelspec": {
   "display_name": "Python 3 (ipykernel)",
   "language": "python",
   "name": "python3"
  },
  "language_info": {
   "codemirror_mode": {
    "name": "ipython",
    "version": 3
   },
   "file_extension": ".py",
   "mimetype": "text/x-python",
   "name": "python",
   "nbconvert_exporter": "python",
   "pygments_lexer": "ipython3",
   "version": "3.9.13"
  }
 },
 "nbformat": 4,
 "nbformat_minor": 5
}
