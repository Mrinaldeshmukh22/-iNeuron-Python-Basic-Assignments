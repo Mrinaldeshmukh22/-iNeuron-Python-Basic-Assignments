{
 "cells": [
  {
   "cell_type": "code",
   "execution_count": null,
   "id": "6e8ac965",
   "metadata": {},
   "outputs": [],
   "source": [
    "1. What advantages do Excel spreadsheets have over CSV spreadsheets?"
   ]
  },
  {
   "cell_type": "code",
   "execution_count": null,
   "id": "d0772c4e",
   "metadata": {},
   "outputs": [],
   "source": [
    "In Excel, spreadsheets can have values of datatypes other than strings; cells can have different fonts, sizes, \n",
    "or color settings; cells can have varying widths and heights; adjecent cells can be merged; and we can embed images \n",
    "and charts."
   ]
  },
  {
   "cell_type": "code",
   "execution_count": null,
   "id": "81ef9cef",
   "metadata": {},
   "outputs": [],
   "source": [
    "******************************************************************************************************************************"
   ]
  },
  {
   "cell_type": "code",
   "execution_count": null,
   "id": "d4c63c74",
   "metadata": {},
   "outputs": [],
   "source": [
    "2.What do you pass to csv.reader() and csv.writer() to create reader and writer objects?"
   ]
  },
  {
   "cell_type": "code",
   "execution_count": null,
   "id": "e9527367",
   "metadata": {},
   "outputs": [],
   "source": [
    "We pass a file object, obtained from call to open()."
   ]
  },
  {
   "cell_type": "code",
   "execution_count": null,
   "id": "2102e905",
   "metadata": {},
   "outputs": [],
   "source": [
    "******************************************************************************************************************************"
   ]
  },
  {
   "cell_type": "code",
   "execution_count": null,
   "id": "df7ebe45",
   "metadata": {},
   "outputs": [],
   "source": [
    "3. What modes do File objects for reader and writer objects need to be opened in?"
   ]
  },
  {
   "cell_type": "code",
   "execution_count": null,
   "id": "6dc1ad60",
   "metadata": {},
   "outputs": [],
   "source": [
    "File objects need to be opened in read-binary ('rb') for reader objects and write-binary ('wb') fro writer objects."
   ]
  },
  {
   "cell_type": "code",
   "execution_count": null,
   "id": "bf04bbbb",
   "metadata": {},
   "outputs": [],
   "source": [
    "******************************************************************************************************************************"
   ]
  },
  {
   "cell_type": "code",
   "execution_count": null,
   "id": "13ac2a24",
   "metadata": {},
   "outputs": [],
   "source": [
    "4. What method takes a list argument and writes it to a CSV file?"
   ]
  },
  {
   "cell_type": "code",
   "execution_count": null,
   "id": "70161e94",
   "metadata": {},
   "outputs": [],
   "source": [
    "The writerrow() method."
   ]
  },
  {
   "cell_type": "code",
   "execution_count": null,
   "id": "93ed7596",
   "metadata": {},
   "outputs": [],
   "source": [
    "******************************************************************************************************************************"
   ]
  },
  {
   "cell_type": "code",
   "execution_count": null,
   "id": "cb69dedb",
   "metadata": {},
   "outputs": [],
   "source": [
    "5. What do the keyword arguments delimiter and line terminator do?"
   ]
  },
  {
   "cell_type": "code",
   "execution_count": null,
   "id": "79577b7f",
   "metadata": {},
   "outputs": [],
   "source": [
    "The delimeter argument change the string used to separate cells in a row. The lineterminator argument changes the \n",
    "string used to separate rows."
   ]
  },
  {
   "cell_type": "code",
   "execution_count": null,
   "id": "80dd8337",
   "metadata": {},
   "outputs": [],
   "source": [
    "******************************************************************************************************************************"
   ]
  },
  {
   "cell_type": "code",
   "execution_count": null,
   "id": "9991096c",
   "metadata": {},
   "outputs": [],
   "source": [
    "6. What function takes a string of JSON data and returns a Python data structure?"
   ]
  },
  {
   "cell_type": "code",
   "execution_count": null,
   "id": "a25fc636",
   "metadata": {},
   "outputs": [],
   "source": [
    "json.loads()"
   ]
  },
  {
   "cell_type": "code",
   "execution_count": null,
   "id": "69bad6f6",
   "metadata": {},
   "outputs": [],
   "source": [
    "******************************************************************************************************************************"
   ]
  },
  {
   "cell_type": "code",
   "execution_count": null,
   "id": "73a202e0",
   "metadata": {},
   "outputs": [],
   "source": [
    "7. What function takes a Python data structure and returns a string of JSON data?"
   ]
  },
  {
   "cell_type": "code",
   "execution_count": null,
   "id": "e45bc8d4",
   "metadata": {},
   "outputs": [],
   "source": [
    "json.dumps()"
   ]
  },
  {
   "cell_type": "code",
   "execution_count": null,
   "id": "3b6e6f68",
   "metadata": {},
   "outputs": [],
   "source": [
    "******************************************************************************************************************************"
   ]
  },
  {
   "cell_type": "code",
   "execution_count": null,
   "id": "f04d4a05",
   "metadata": {},
   "outputs": [],
   "source": []
  }
 ],
 "metadata": {
  "kernelspec": {
   "display_name": "Python 3 (ipykernel)",
   "language": "python",
   "name": "python3"
  },
  "language_info": {
   "codemirror_mode": {
    "name": "ipython",
    "version": 3
   },
   "file_extension": ".py",
   "mimetype": "text/x-python",
   "name": "python",
   "nbconvert_exporter": "python",
   "pygments_lexer": "ipython3",
   "version": "3.9.13"
  }
 },
 "nbformat": 4,
 "nbformat_minor": 5
}
