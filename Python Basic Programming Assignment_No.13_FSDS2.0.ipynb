{
 "cells": [
  {
   "cell_type": "code",
   "execution_count": null,
   "id": "23b5161f",
   "metadata": {},
   "outputs": [],
   "source": [
    "Question 1:\n",
    "\n",
    "Write a program that calculates and prints the value according to the given formula:\n",
    "Q = Square root of [(2*C*D)/H]\n",
    "Following are the fixed values of C and H:\n",
    "C is 50. H is 30.\n",
    "D is the variable whose values should be input to your program in a comma-separated sequence.\n",
    "Example\n",
    "Let us assume the following comma separated input sequence is given to the program:\n",
    "100,150,180\n",
    "The output of the program should be:\n",
    "18,22,24"
   ]
  },
  {
   "cell_type": "code",
   "execution_count": 11,
   "id": "eefc877b",
   "metadata": {},
   "outputs": [],
   "source": [
    "import math\n",
    "\n",
    "def root():\n",
    "    D=input()\n",
    "    l = []\n",
    "    C = 50\n",
    "    H= 30\n",
    "    for i in D.split(\",\"):\n",
    "        d= int(i)\n",
    "        res=int(math.sqrt((2 * C * d)/H))\n",
    "        l.append(res)\n",
    "    return l"
   ]
  },
  {
   "cell_type": "code",
   "execution_count": 12,
   "id": "c738d7e8",
   "metadata": {},
   "outputs": [
    {
     "name": "stdout",
     "output_type": "stream",
     "text": [
      "100,150,180\n"
     ]
    },
    {
     "data": {
      "text/plain": [
       "[18, 22, 24]"
      ]
     },
     "execution_count": 12,
     "metadata": {},
     "output_type": "execute_result"
    }
   ],
   "source": [
    "root()"
   ]
  },
  {
   "cell_type": "code",
   "execution_count": null,
   "id": "3682df6f",
   "metadata": {},
   "outputs": [],
   "source": [
    "****************************************************************************************************************************************"
   ]
  },
  {
   "cell_type": "code",
   "execution_count": null,
   "id": "6f30a35a",
   "metadata": {},
   "outputs": [],
   "source": [
    "Question 2: Write a program which takes 2 digits, X,Y as input and generates a 2-dimensional array. The element value in the i-th row and j-th column of the array should be i*j.\n",
    "\n",
    "Note: i=0,1.., X-1; j=0,1,¡¬Y-1.\n",
    "Example\n",
    "Suppose the following inputs are given to the program:\n",
    "3,5\n",
    "Then, the output of the program should be:\n",
    "[[0, 0, 0, 0, 0], [0, 1, 2, 3, 4], [0, 2, 4, 6, 8]]"
   ]
  },
  {
   "cell_type": "code",
   "execution_count": 17,
   "id": "68f34ed7",
   "metadata": {},
   "outputs": [],
   "source": [
    "def array(X,Y):\n",
    "    rows, cols = (X, Y)\n",
    "    arr = [[i*j for i in range(cols)] for j in range(rows)]\n",
    "    return (arr)"
   ]
  },
  {
   "cell_type": "code",
   "execution_count": 18,
   "id": "03ff9505",
   "metadata": {},
   "outputs": [
    {
     "data": {
      "text/plain": [
       "[[0, 0, 0, 0, 0], [0, 1, 2, 3, 4], [0, 2, 4, 6, 8]]"
      ]
     },
     "execution_count": 18,
     "metadata": {},
     "output_type": "execute_result"
    }
   ],
   "source": [
    "array(3,5)"
   ]
  },
  {
   "cell_type": "code",
   "execution_count": null,
   "id": "c5316acd",
   "metadata": {},
   "outputs": [],
   "source": [
    "****************************************************************************************************************************************"
   ]
  },
  {
   "cell_type": "code",
   "execution_count": null,
   "id": "f37c9067",
   "metadata": {},
   "outputs": [],
   "source": [
    "Ques 3 :Write a program that accepts a comma separated sequence of words as input and prints the words in a comma-separated sequence after sorting them alphabetically.\n",
    "Suppose the following input is supplied to the program:\n",
    "without,hello,bag,world\n",
    "Then, the output should be:\n",
    "bag,hello,without,world"
   ]
  },
  {
   "cell_type": "code",
   "execution_count": 22,
   "id": "3b9945d0",
   "metadata": {},
   "outputs": [
    {
     "name": "stdout",
     "output_type": "stream",
     "text": [
      "Input words: without,hello,bag,world\n",
      "bag, hello, without, world\n"
     ]
    }
   ],
   "source": [
    "phrase = input(\"Input words: \")\n",
    "\n",
    "phrase_list = phrase.split(\",\")\n",
    "phrase_list.sort()\n",
    "print((', ').join(phrase_list))"
   ]
  },
  {
   "cell_type": "code",
   "execution_count": null,
   "id": "0bc040f7",
   "metadata": {},
   "outputs": [],
   "source": [
    "****************************************************************************************************************************************"
   ]
  },
  {
   "cell_type": "code",
   "execution_count": null,
   "id": "dd0d1b24",
   "metadata": {},
   "outputs": [],
   "source": [
    "Ques 4 :Write a program that accepts a sequence of whitespace separated words as input and prints the words after removing \n",
    "all duplicate words and sorting them alphanumerically.\n",
    "\n",
    "Suppose the following input is supplied to the program:\n",
    "\n",
    "hello world and practice makes perfect and hello world again\n",
    "\n",
    "Then, the output should be:\n",
    "\n",
    "again and hello makes perfect practice world"
   ]
  },
  {
   "cell_type": "code",
   "execution_count": 30,
   "id": "5ec5a165",
   "metadata": {},
   "outputs": [
    {
     "name": "stdout",
     "output_type": "stream",
     "text": [
      "hello world and practice makes perfect and hello world again\n",
      "again and hello makes perfect practice world\n"
     ]
    }
   ],
   "source": [
    "list = input()\n",
    "list_splited = list.split(\" \")\n",
    "word_list = []\n",
    "\n",
    "for i in list_splited:\n",
    "    if i not in word_list:\n",
    "        word_list.append(i)\n",
    "    else:\n",
    "        continue\n",
    "word_list.sort()\n",
    "#print(word_list)\n",
    "print((\" \").join(word_list))"
   ]
  },
  {
   "cell_type": "code",
   "execution_count": null,
   "id": "a9df955d",
   "metadata": {},
   "outputs": [],
   "source": [
    "****************************************************************************************************************************************"
   ]
  },
  {
   "cell_type": "code",
   "execution_count": null,
   "id": "fcd5be0c",
   "metadata": {},
   "outputs": [],
   "source": [
    "Question 5: Write a program that accepts a sentence and calculate the number of letters and digits.\n",
    "\n",
    "Suppose the following input is supplied to the program:\n",
    "\n",
    "hello world! 123\n",
    "\n",
    "Then, the output should be:\n",
    "\n",
    "LETTERS 10\n",
    "\n",
    "DIGITS 3"
   ]
  },
  {
   "cell_type": "code",
   "execution_count": 36,
   "id": "2a716839",
   "metadata": {},
   "outputs": [],
   "source": [
    "def countAlpha(str):\n",
    "    Letters=0\n",
    "    Digits=0\n",
    "    for i in str:\n",
    "        \n",
    "        if i.isalpha():\n",
    "            Letters=Letters+1\n",
    "        elif i.isdigit():\n",
    "            Digits=Digits+1\n",
    "    print('LETTERS=',Letters)\n",
    "    print('DIGITS=',Digits)\n",
    "            "
   ]
  },
  {
   "cell_type": "code",
   "execution_count": 37,
   "id": "ea61d9a7",
   "metadata": {},
   "outputs": [
    {
     "name": "stdout",
     "output_type": "stream",
     "text": [
      "LETTERS= 10\n",
      "DIGITS= 3\n"
     ]
    }
   ],
   "source": [
    "countAlpha('hello world! 123')"
   ]
  },
  {
   "cell_type": "code",
   "execution_count": null,
   "id": "c78778fb",
   "metadata": {},
   "outputs": [],
   "source": [
    "****************************************************************************************************************************************"
   ]
  },
  {
   "cell_type": "code",
   "execution_count": null,
   "id": "7dd409f1",
   "metadata": {},
   "outputs": [],
   "source": [
    "Ques 6 : A website requires the users to input username and password to register. \n",
    "Write a program to check the validity of password input by users.\n",
    "\n",
    "Following are the criteria for checking the password:\n",
    "At least 1 letter between [a-z]\n",
    "At least 1 number between [0-9]\n",
    "At least 1 letter between [A-Z]\n",
    "At least 1 character from [$#@]\n",
    "Minimum length of transaction password: 6\n",
    "Maximum length of transaction password: 12\n",
    "Your program should accept a sequence of comma separated passwords and will check them according to the above criteria. \n",
    "      Passwords that match the criteria are to be printed, each separated by a comma.\n",
    "\n",
    "Example\n",
    "\n",
    "If the following passwords are given as input to the program:\n",
    "ABd1234@1,a F1#,2w3E*,2We3345\n",
    "Then, the output of the program should be:\n",
    "ABd1234@1"
   ]
  },
  {
   "cell_type": "code",
   "execution_count": 39,
   "id": "4fad6214",
   "metadata": {},
   "outputs": [
    {
     "name": "stdout",
     "output_type": "stream",
     "text": [
      "Enter comma-separated passwords: ABd1234@1,a F1#,2w3E*,2We3345\n",
      "ABd1234@1\n"
     ]
    }
   ],
   "source": [
    "import re\n",
    "\n",
    "passwords = input(\"Enter comma-separated passwords: \").split(\",\")\n",
    "\n",
    "valid_passwords = []\n",
    "\n",
    "def check_password(password):\n",
    "    if len(password) < 6 or len(password) > 12:\n",
    "        return False\n",
    "    if not re.search(\"[a-z]\", password):\n",
    "        return False\n",
    "    if not re.search(\"[0-9]\", password):\n",
    "        return False\n",
    "    if not re.search(\"[A-Z]\", password):\n",
    "        return False\n",
    "    if not re.search(\"[$#@]\", password):\n",
    "        return False\n",
    "    else:\n",
    "        return True\n",
    "\n",
    "for password in passwords:\n",
    "    if check_password(password):\n",
    "        valid_passwords.append(password)\n",
    "\n",
    "print(\",\".join(valid_passwords))"
   ]
  },
  {
   "cell_type": "code",
   "execution_count": null,
   "id": "91f12c64",
   "metadata": {},
   "outputs": [],
   "source": []
  },
  {
   "cell_type": "code",
   "execution_count": null,
   "id": "6c2406e8",
   "metadata": {},
   "outputs": [],
   "source": []
  },
  {
   "cell_type": "code",
   "execution_count": null,
   "id": "65bdfd2c",
   "metadata": {},
   "outputs": [],
   "source": []
  },
  {
   "cell_type": "code",
   "execution_count": null,
   "id": "557f47b9",
   "metadata": {},
   "outputs": [],
   "source": []
  },
  {
   "cell_type": "code",
   "execution_count": null,
   "id": "ff30b100",
   "metadata": {},
   "outputs": [],
   "source": []
  }
 ],
 "metadata": {
  "kernelspec": {
   "display_name": "Python 3 (ipykernel)",
   "language": "python",
   "name": "python3"
  },
  "language_info": {
   "codemirror_mode": {
    "name": "ipython",
    "version": 3
   },
   "file_extension": ".py",
   "mimetype": "text/x-python",
   "name": "python",
   "nbconvert_exporter": "python",
   "pygments_lexer": "ipython3",
   "version": "3.9.13"
  }
 },
 "nbformat": 4,
 "nbformat_minor": 5
}
