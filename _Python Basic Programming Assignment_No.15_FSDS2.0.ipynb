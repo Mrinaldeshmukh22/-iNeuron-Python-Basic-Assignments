{
 "cells": [
  {
   "cell_type": "code",
   "execution_count": null,
   "id": "d94e2947",
   "metadata": {},
   "outputs": [],
   "source": [
    "Ques 1:Please write a program using generator to print the numbers which can be divisible by 5 and 7 between 0 and n \n",
    "    in comma separated form while n is input by console."
   ]
  },
  {
   "cell_type": "code",
   "execution_count": 3,
   "id": "5c585ce6",
   "metadata": {},
   "outputs": [],
   "source": [
    "def gen(n):\n",
    "    for i in range(0,n):\n",
    "        yield i"
   ]
  },
  {
   "cell_type": "code",
   "execution_count": 14,
   "id": "8fe682ed",
   "metadata": {},
   "outputs": [],
   "source": [
    "def div(n):\n",
    "    res=\"\"\n",
    "    for i in gen(n+1):\n",
    "        if i%5==0 and i%7==0:\n",
    "            res =res+str(i)+\",\"\n",
    "        else:\n",
    "            continue\n",
    "    print(res[:-1])"
   ]
  },
  {
   "cell_type": "code",
   "execution_count": 15,
   "id": "a5f3d538",
   "metadata": {},
   "outputs": [
    {
     "name": "stdout",
     "output_type": "stream",
     "text": [
      "0,35,70\n"
     ]
    }
   ],
   "source": [
    "div(100)"
   ]
  },
  {
   "cell_type": "code",
   "execution_count": null,
   "id": "831f24f4",
   "metadata": {},
   "outputs": [],
   "source": [
    "********************************************************************************************************************************"
   ]
  },
  {
   "cell_type": "code",
   "execution_count": null,
   "id": "5cb1228d",
   "metadata": {},
   "outputs": [],
   "source": [
    "Ques 2 : Please write a program using generator to print the even numbers between 0 and n in comma\n",
    "separated form while n is input by console."
   ]
  },
  {
   "cell_type": "code",
   "execution_count": null,
   "id": "b65b5763",
   "metadata": {},
   "outputs": [],
   "source": [
    "def gen(n):\n",
    "    for i in range(0,n):\n",
    "        yield i"
   ]
  },
  {
   "cell_type": "code",
   "execution_count": 34,
   "id": "667e2042",
   "metadata": {},
   "outputs": [],
   "source": [
    "def even(n):\n",
    "    res=\"\"\n",
    "    for i in gen(n+1):\n",
    "        if i % 2==0 :\n",
    "            res=res+str(i)+\",\"\n",
    "        else:\n",
    "            continue\n",
    "    print(res[:-1])\n",
    "        "
   ]
  },
  {
   "cell_type": "code",
   "execution_count": 35,
   "id": "f81835e7",
   "metadata": {},
   "outputs": [
    {
     "name": "stdout",
     "output_type": "stream",
     "text": [
      "0,2,4,6,8,10\n"
     ]
    }
   ],
   "source": [
    "even(10)"
   ]
  },
  {
   "cell_type": "code",
   "execution_count": null,
   "id": "8fa17233",
   "metadata": {},
   "outputs": [],
   "source": [
    "********************************************************************************************************************************"
   ]
  },
  {
   "cell_type": "code",
   "execution_count": null,
   "id": "067007fa",
   "metadata": {},
   "outputs": [],
   "source": [
    "Ques 3 : The Fibonacci Sequence is computed based on the following formula:"
   ]
  },
  {
   "cell_type": "code",
   "execution_count": 37,
   "id": "dd065f11",
   "metadata": {},
   "outputs": [],
   "source": [
    "def fin(n):\n",
    "    a, b = 0, 1\n",
    "\n",
    "    for i in range(n):\n",
    "        yield a\n",
    "        a, b = b, a + b"
   ]
  },
  {
   "cell_type": "code",
   "execution_count": 38,
   "id": "e473d0a2",
   "metadata": {},
   "outputs": [
    {
     "name": "stdout",
     "output_type": "stream",
     "text": [
      "How long? 7\n",
      "[0, 1, 1, 2, 3, 5, 8, 13]\n"
     ]
    }
   ],
   "source": [
    "ln = int(input('How long? '))\n",
    "print(list(fin(ln+1))) "
   ]
  },
  {
   "cell_type": "code",
   "execution_count": null,
   "id": "af445b60",
   "metadata": {},
   "outputs": [],
   "source": [
    "********************************************************************************************************************************"
   ]
  },
  {
   "cell_type": "code",
   "execution_count": null,
   "id": "4829e389",
   "metadata": {},
   "outputs": [],
   "source": [
    "Ques 4 : Assuming that we have some email addresses in the \"username@companyname.com\" format, \n",
    "please write program to print the user name of a given email address. Both user names and company names are composed of \n",
    "letters only."
   ]
  },
  {
   "cell_type": "code",
   "execution_count": 44,
   "id": "3f83f715",
   "metadata": {},
   "outputs": [],
   "source": [
    "def user(str):\n",
    "    x=str.split('@')\n",
    "    \n",
    "    return x[0]\n",
    "   "
   ]
  },
  {
   "cell_type": "code",
   "execution_count": 45,
   "id": "2ad32363",
   "metadata": {},
   "outputs": [
    {
     "data": {
      "text/plain": [
       "'john'"
      ]
     },
     "execution_count": 45,
     "metadata": {},
     "output_type": "execute_result"
    }
   ],
   "source": [
    "user('john@google.com')"
   ]
  },
  {
   "cell_type": "code",
   "execution_count": null,
   "id": "f808756f",
   "metadata": {},
   "outputs": [],
   "source": [
    "********************************************************************************************************************************"
   ]
  },
  {
   "cell_type": "code",
   "execution_count": null,
   "id": "f545d818",
   "metadata": {},
   "outputs": [],
   "source": [
    "Ques 5 : Define a class named Shape and its subclass Square. The Square class has an init function which takes \n",
    "a length as argument. Both classes have a area function which can print the area of the shape where Shape's \n",
    "area is 0 by default."
   ]
  },
  {
   "cell_type": "code",
   "execution_count": 46,
   "id": "76714711",
   "metadata": {},
   "outputs": [],
   "source": [
    "class Shape:\n",
    "    def area(self):\n",
    "        area=0\n",
    "        return area\n",
    "    \n",
    "\n",
    "    \n",
    "class Square(Shape):\n",
    "    def __init__(self,length):\n",
    "        self.length=length\n",
    "    def area(self):\n",
    "        area=self.length*self.length\n",
    "        return area"
   ]
  },
  {
   "cell_type": "code",
   "execution_count": 47,
   "id": "d334a228",
   "metadata": {},
   "outputs": [],
   "source": [
    "s=Square(4)"
   ]
  },
  {
   "cell_type": "code",
   "execution_count": 48,
   "id": "451e8b0b",
   "metadata": {},
   "outputs": [
    {
     "data": {
      "text/plain": [
       "16"
      ]
     },
     "execution_count": 48,
     "metadata": {},
     "output_type": "execute_result"
    }
   ],
   "source": [
    "s.area()"
   ]
  },
  {
   "cell_type": "code",
   "execution_count": null,
   "id": "16b98cd1",
   "metadata": {},
   "outputs": [],
   "source": [
    "********************************************************************************************************************************"
   ]
  }
 ],
 "metadata": {
  "kernelspec": {
   "display_name": "Python 3 (ipykernel)",
   "language": "python",
   "name": "python3"
  },
  "language_info": {
   "codemirror_mode": {
    "name": "ipython",
    "version": 3
   },
   "file_extension": ".py",
   "mimetype": "text/x-python",
   "name": "python",
   "nbconvert_exporter": "python",
   "pygments_lexer": "ipython3",
   "version": "3.9.13"
  }
 },
 "nbformat": 4,
 "nbformat_minor": 5
}
