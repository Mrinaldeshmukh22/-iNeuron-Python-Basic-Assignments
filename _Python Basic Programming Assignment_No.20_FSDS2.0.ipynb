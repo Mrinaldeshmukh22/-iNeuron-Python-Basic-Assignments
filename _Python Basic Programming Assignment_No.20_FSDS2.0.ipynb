{
 "cells": [
  {
   "cell_type": "code",
   "execution_count": null,
   "id": "75d65e6d",
   "metadata": {},
   "outputs": [],
   "source": [
    "Question1\n",
    "Create a function that takes a list of strings and integers, and filters out the list so that it\n",
    "returns a list of integers only."
   ]
  },
  {
   "cell_type": "code",
   "execution_count": 4,
   "id": "7a429de3",
   "metadata": {},
   "outputs": [],
   "source": [
    "def filter_list(l):\n",
    "    l1=[]\n",
    "    for i in l:\n",
    "        if type(i)==int:\n",
    "            l1.append(i)\n",
    "        else:\n",
    "            continue\n",
    "    return l1"
   ]
  },
  {
   "cell_type": "code",
   "execution_count": 5,
   "id": "752f053b",
   "metadata": {},
   "outputs": [
    {
     "data": {
      "text/plain": [
       "[1, 2, 3, 4]"
      ]
     },
     "execution_count": 5,
     "metadata": {},
     "output_type": "execute_result"
    }
   ],
   "source": [
    "filter_list([1,2,3,\"a\",\"b\",\"c\",4])"
   ]
  },
  {
   "cell_type": "code",
   "execution_count": 6,
   "id": "6c2a350d",
   "metadata": {},
   "outputs": [
    {
     "data": {
      "text/plain": [
       "[]"
      ]
     },
     "execution_count": 6,
     "metadata": {},
     "output_type": "execute_result"
    }
   ],
   "source": [
    "filter_list([\"Nothing\",\"Here\"])"
   ]
  },
  {
   "cell_type": "code",
   "execution_count": null,
   "id": "54a8d38a",
   "metadata": {},
   "outputs": [],
   "source": [
    "***************************************************************************"
   ]
  },
  {
   "cell_type": "code",
   "execution_count": null,
   "id": "c7d07e6c",
   "metadata": {},
   "outputs": [],
   "source": [
    "Ques 2 ) Given a list of numbers, create a function which returns the list but with each element&#39;s\n",
    "index in the list added to itself. This means you add 0 to the number at index 0, add 1 to the\n",
    "number at index 1, etc..."
   ]
  },
  {
   "cell_type": "code",
   "execution_count": 13,
   "id": "1770b49b",
   "metadata": {},
   "outputs": [],
   "source": [
    "def add_indexes(l):\n",
    "    l1=[]\n",
    "    for i in range(0,len(l)):\n",
    "        l1.append(l[i]+i)\n",
    "    return l1\n",
    "        "
   ]
  },
  {
   "cell_type": "code",
   "execution_count": 14,
   "id": "09432346",
   "metadata": {},
   "outputs": [
    {
     "data": {
      "text/plain": [
       "[0, 1, 2, 3, 4]"
      ]
     },
     "execution_count": 14,
     "metadata": {},
     "output_type": "execute_result"
    }
   ],
   "source": [
    "add_indexes([0, 0, 0, 0, 0])"
   ]
  },
  {
   "cell_type": "code",
   "execution_count": 15,
   "id": "79992d83",
   "metadata": {},
   "outputs": [
    {
     "data": {
      "text/plain": [
       "[1, 3, 5, 7, 9]"
      ]
     },
     "execution_count": 15,
     "metadata": {},
     "output_type": "execute_result"
    }
   ],
   "source": [
    "add_indexes([1, 2, 3, 4, 5])"
   ]
  },
  {
   "cell_type": "code",
   "execution_count": 16,
   "id": "9ce862e1",
   "metadata": {},
   "outputs": [
    {
     "data": {
      "text/plain": [
       "[5, 5, 5, 5, 5]"
      ]
     },
     "execution_count": 16,
     "metadata": {},
     "output_type": "execute_result"
    }
   ],
   "source": [
    "add_indexes([5, 4, 3, 2, 1])"
   ]
  },
  {
   "cell_type": "code",
   "execution_count": null,
   "id": "d79808fd",
   "metadata": {},
   "outputs": [],
   "source": [
    "***************************************************************************"
   ]
  },
  {
   "cell_type": "code",
   "execution_count": null,
   "id": "267417b9",
   "metadata": {},
   "outputs": [],
   "source": [
    "Ques 3 : Create a function that takes the height and radius of a cone as arguments and returns the volume of the cone rounded to the nearest hundredth. See the resources tab for the formula."
   ]
  },
  {
   "cell_type": "code",
   "execution_count": 21,
   "id": "0f18eac1",
   "metadata": {},
   "outputs": [],
   "source": [
    "def cone_volume(h,r) :\n",
    "    return round((1/3)*(3.14*h*r*r),2)"
   ]
  },
  {
   "cell_type": "code",
   "execution_count": 22,
   "id": "2d05a135",
   "metadata": {},
   "outputs": [
    {
     "data": {
      "text/plain": [
       "12.56"
      ]
     },
     "execution_count": 22,
     "metadata": {},
     "output_type": "execute_result"
    }
   ],
   "source": [
    "cone_volume(3, 2) "
   ]
  },
  {
   "cell_type": "code",
   "execution_count": 25,
   "id": "ed238a5c",
   "metadata": {},
   "outputs": [
    {
     "data": {
      "text/plain": [
       "0.0"
      ]
     },
     "execution_count": 25,
     "metadata": {},
     "output_type": "execute_result"
    }
   ],
   "source": [
    "cone_volume(18, 0) "
   ]
  },
  {
   "cell_type": "code",
   "execution_count": null,
   "id": "93a56907",
   "metadata": {},
   "outputs": [],
   "source": [
    "***************************************************************************"
   ]
  },
  {
   "cell_type": "code",
   "execution_count": null,
   "id": "3cff785e",
   "metadata": {},
   "outputs": [],
   "source": [
    "Ques 4 : \n",
    "This Triangular Number Sequence is generated from a pattern of dots that form a triangle. The first 5 numbers of the sequence, or dots, are: 1, 3, 6, 10, 15 This means that the first triangle has just one dot, the second one has three dots, the third one has 6 dots and so on. Write a function that gives the number of dots with its corresponding triangle number of the sequence."
   ]
  },
  {
   "cell_type": "code",
   "execution_count": 26,
   "id": "6d127a47",
   "metadata": {},
   "outputs": [],
   "source": [
    "def triangle(n):\n",
    "    return int(n*(n+1)/2)"
   ]
  },
  {
   "cell_type": "code",
   "execution_count": 28,
   "id": "ac2a6dbc",
   "metadata": {},
   "outputs": [
    {
     "data": {
      "text/plain": [
       "1"
      ]
     },
     "execution_count": 28,
     "metadata": {},
     "output_type": "execute_result"
    }
   ],
   "source": [
    "triangle(1)"
   ]
  },
  {
   "cell_type": "code",
   "execution_count": 29,
   "id": "5ddeddc2",
   "metadata": {},
   "outputs": [
    {
     "data": {
      "text/plain": [
       "21"
      ]
     },
     "execution_count": 29,
     "metadata": {},
     "output_type": "execute_result"
    }
   ],
   "source": [
    "triangle(6) "
   ]
  },
  {
   "cell_type": "code",
   "execution_count": 30,
   "id": "11ae4994",
   "metadata": {},
   "outputs": [
    {
     "data": {
      "text/plain": [
       "23220"
      ]
     },
     "execution_count": 30,
     "metadata": {},
     "output_type": "execute_result"
    }
   ],
   "source": [
    "triangle(215)"
   ]
  },
  {
   "cell_type": "code",
   "execution_count": null,
   "id": "1b5754c7",
   "metadata": {},
   "outputs": [],
   "source": [
    "***************************************************************************"
   ]
  },
  {
   "cell_type": "code",
   "execution_count": null,
   "id": "b9368edc",
   "metadata": {},
   "outputs": [],
   "source": [
    "Ques 5 : Create a function that takes a list of numbers between 1 and 10 (excluding one number) and returns the missing number."
   ]
  },
  {
   "cell_type": "code",
   "execution_count": 31,
   "id": "a460729d",
   "metadata": {},
   "outputs": [],
   "source": [
    "def missing_num(l):\n",
    "    l.sort()\n",
    "    for i in range (0,len(l)):\n",
    "        if l[i]!=i+1:\n",
    "            return i+1\n",
    "        else:\n",
    "            continue\n",
    "    return 10"
   ]
  },
  {
   "cell_type": "code",
   "execution_count": 32,
   "id": "21541410",
   "metadata": {},
   "outputs": [
    {
     "data": {
      "text/plain": [
       "5"
      ]
     },
     "execution_count": 32,
     "metadata": {},
     "output_type": "execute_result"
    }
   ],
   "source": [
    "missing_num([1, 2, 3, 4, 6, 7, 8, 9, 10]) "
   ]
  },
  {
   "cell_type": "code",
   "execution_count": 33,
   "id": "cfec97cf",
   "metadata": {},
   "outputs": [
    {
     "data": {
      "text/plain": [
       "10"
      ]
     },
     "execution_count": 33,
     "metadata": {},
     "output_type": "execute_result"
    }
   ],
   "source": [
    "missing_num([7, 2, 3, 6, 5, 9, 1, 4, 8]) "
   ]
  },
  {
   "cell_type": "code",
   "execution_count": 34,
   "id": "47e6cf8c",
   "metadata": {},
   "outputs": [
    {
     "data": {
      "text/plain": [
       "7"
      ]
     },
     "execution_count": 34,
     "metadata": {},
     "output_type": "execute_result"
    }
   ],
   "source": [
    "missing_num([10, 5, 1, 2, 4, 6, 8, 3, 9]) "
   ]
  },
  {
   "cell_type": "code",
   "execution_count": null,
   "id": "32248b46",
   "metadata": {},
   "outputs": [],
   "source": [
    "**************************************************************************"
   ]
  },
  {
   "cell_type": "code",
   "execution_count": null,
   "id": "98697990",
   "metadata": {},
   "outputs": [],
   "source": []
  },
  {
   "cell_type": "code",
   "execution_count": null,
   "id": "c04c2184",
   "metadata": {},
   "outputs": [],
   "source": []
  }
 ],
 "metadata": {
  "kernelspec": {
   "display_name": "Python 3 (ipykernel)",
   "language": "python",
   "name": "python3"
  },
  "language_info": {
   "codemirror_mode": {
    "name": "ipython",
    "version": 3
   },
   "file_extension": ".py",
   "mimetype": "text/x-python",
   "name": "python",
   "nbconvert_exporter": "python",
   "pygments_lexer": "ipython3",
   "version": "3.9.13"
  }
 },
 "nbformat": 4,
 "nbformat_minor": 5
}
