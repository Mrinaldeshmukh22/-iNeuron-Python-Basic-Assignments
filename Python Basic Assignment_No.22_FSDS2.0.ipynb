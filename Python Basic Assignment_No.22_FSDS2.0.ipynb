{
 "cells": [
  {
   "cell_type": "code",
   "execution_count": null,
   "id": "de535f23",
   "metadata": {},
   "outputs": [],
   "source": [
    "Ques 1 : What is the result of the code, and explain?"
   ]
  },
  {
   "cell_type": "code",
   "execution_count": 1,
   "id": "00b627b1",
   "metadata": {},
   "outputs": [
    {
     "name": "stdout",
     "output_type": "stream",
     "text": [
      "iNeuron\n"
     ]
    }
   ],
   "source": [
    "X = 'iNeuron'\n",
    "\n",
    "def func():\n",
    "    print(X)\n",
    "\n",
    "func()"
   ]
  },
  {
   "cell_type": "code",
   "execution_count": null,
   "id": "e0018c04",
   "metadata": {},
   "outputs": [],
   "source": [
    "Ans: result of code is x value means iNeuron , here The code defines a variable X with the value of the string 'iNeuron' and then defines a function , func that prints the value of X. Finally, the function func is called.\n",
    "When the function is called, it prints the value of X, which is 'iNeuron'."
   ]
  },
  {
   "cell_type": "code",
   "execution_count": null,
   "id": "bf450696",
   "metadata": {},
   "outputs": [],
   "source": [
    "------------------------------------------------------------------------------------------------------------------------"
   ]
  },
  {
   "cell_type": "code",
   "execution_count": null,
   "id": "0c9ece8b",
   "metadata": {},
   "outputs": [],
   "source": [
    "Ques 2 : What is the result of the code, and explain"
   ]
  },
  {
   "cell_type": "code",
   "execution_count": 5,
   "id": "0d3e70aa",
   "metadata": {},
   "outputs": [],
   "source": [
    "X = 'iNeuron'\n",
    "\n",
    "def func():\n",
    "    X = 'NI!'\n",
    "\n",
    "func()"
   ]
  },
  {
   "cell_type": "code",
   "execution_count": 4,
   "id": "bd4b6069",
   "metadata": {},
   "outputs": [
    {
     "name": "stdout",
     "output_type": "stream",
     "text": [
      "iNeuron\n"
     ]
    }
   ],
   "source": [
    "print(X)"
   ]
  },
  {
   "cell_type": "code",
   "execution_count": null,
   "id": "8f1f9063",
   "metadata": {},
   "outputs": [],
   "source": [
    "Ans:First the value of x is ineuron Then next line, func() Call the function we defined, with \"NI\" as the value of X inside the funtion means here x is local variable , \n",
    "but doesn't prints it, as there is no print statement inside the function. The line, print(X), prints the value of X, which is \"iNeuron\", which is outside func()."
   ]
  },
  {
   "cell_type": "code",
   "execution_count": null,
   "id": "01a2d045",
   "metadata": {},
   "outputs": [],
   "source": [
    "---------------------------------------------------------------------------------------------------------------------"
   ]
  },
  {
   "cell_type": "code",
   "execution_count": null,
   "id": "e640a770",
   "metadata": {},
   "outputs": [],
   "source": [
    "Ques 3 :What does this code print, and why?"
   ]
  },
  {
   "cell_type": "code",
   "execution_count": 6,
   "id": "e85e8e49",
   "metadata": {},
   "outputs": [
    {
     "name": "stdout",
     "output_type": "stream",
     "text": [
      "NI!\n"
     ]
    }
   ],
   "source": [
    "X = 'iNeuron'\n",
    "def func():\n",
    "    X = 'NI!'\n",
    "    print (X)\n",
    "func()"
   ]
  },
  {
   "cell_type": "code",
   "execution_count": 7,
   "id": "dc7cd3f3",
   "metadata": {},
   "outputs": [
    {
     "name": "stdout",
     "output_type": "stream",
     "text": [
      "iNeuron\n"
     ]
    }
   ],
   "source": [
    "print(X)"
   ]
  },
  {
   "cell_type": "code",
   "execution_count": null,
   "id": "8cd8a9f0",
   "metadata": {},
   "outputs": [],
   "source": [
    "Ans :1) first assigns the value 'iNeuron' to the variable X\n",
    "    2) Next, it defines a function called 'func', which creates a new variable called X and assigns it the value 'NI'\n",
    "    3) this new variable is local to the function, which means that it only exists within the function's scope and is not visible outside of it. \n",
    "    4) Then, the code calls the function 'func', which simply prints the value of the local variable X, which is 'NI'\n",
    "    5) Finally, the code prints the value of the variable X again, but this time it is the global variable X that was defined outside of the function. Therefore, it prints the original value 'iNeuron'."
   ]
  },
  {
   "cell_type": "code",
   "execution_count": null,
   "id": "eda79413",
   "metadata": {},
   "outputs": [],
   "source": [
    "--------------------------------------------------------------------------------------------------------------------------"
   ]
  },
  {
   "cell_type": "code",
   "execution_count": null,
   "id": "b237d415",
   "metadata": {},
   "outputs": [],
   "source": [
    "Ques 4 :What output does this code produce? Why?"
   ]
  },
  {
   "cell_type": "code",
   "execution_count": 8,
   "id": "5019ed29",
   "metadata": {},
   "outputs": [],
   "source": [
    "X = 'iNeuron'\n",
    "def func():\n",
    "    global X\n",
    "    X = \"NI\"\n",
    "func()"
   ]
  },
  {
   "cell_type": "code",
   "execution_count": 10,
   "id": "6479dd7e",
   "metadata": {},
   "outputs": [
    {
     "name": "stdout",
     "output_type": "stream",
     "text": [
      "NI\n"
     ]
    }
   ],
   "source": [
    "print(X)"
   ]
  },
  {
   "cell_type": "code",
   "execution_count": null,
   "id": "53820978",
   "metadata": {},
   "outputs": [],
   "source": [
    "Ans : The line, func() Call the function we defined, with \"NI\" as the value of X inside the funtion, but doesn't prints it, as there is no print statement inside the function, and we have used global keyword, which means, global keyword allows us to modify the variable, that is \"X\", outside of the current function.\n",
    "The line, print(X), prints the value of X, which is now \"NI\", as we used global keyword inside the function."
   ]
  },
  {
   "cell_type": "code",
   "execution_count": null,
   "id": "c7366bb0",
   "metadata": {},
   "outputs": [],
   "source": [
    "---------------------------------------------------------------------------------------------------------------------"
   ]
  },
  {
   "cell_type": "code",
   "execution_count": null,
   "id": "35390f82",
   "metadata": {},
   "outputs": [],
   "source": [
    "Ques 5 :What about this code—what’s the output, and why?"
   ]
  },
  {
   "cell_type": "code",
   "execution_count": 11,
   "id": "c24b26e7",
   "metadata": {},
   "outputs": [
    {
     "name": "stdout",
     "output_type": "stream",
     "text": [
      "iNeuron\n"
     ]
    }
   ],
   "source": [
    "X = 'iNeuron'\n",
    "def func():\n",
    "    X = \"NI\"\n",
    "def nested():\n",
    "    print(X)\n",
    "nested()"
   ]
  },
  {
   "cell_type": "code",
   "execution_count": 13,
   "id": "d4f919e0",
   "metadata": {},
   "outputs": [],
   "source": [
    "func()"
   ]
  },
  {
   "cell_type": "code",
   "execution_count": 14,
   "id": "ea70ed36",
   "metadata": {},
   "outputs": [
    {
     "data": {
      "text/plain": [
       "'iNeuron'"
      ]
     },
     "execution_count": 14,
     "metadata": {},
     "output_type": "execute_result"
    }
   ],
   "source": [
    "X"
   ]
  },
  {
   "cell_type": "code",
   "execution_count": null,
   "id": "c1e47486",
   "metadata": {},
   "outputs": [],
   "source": [
    "Ans : 1 ) First, the variable X is assigned the string value 'iNeuron'.\n",
    "    2) then func() is create and x value is NI but its local variable only for that functn \n",
    "    3) the nested func()is create here going to print goble x value ie \"Ineuron\" \n",
    "    4) Finally, the function func() is called, but it does not have any output. It only creates a new variable X within its own scope, which does not affect the value of the variable X that was defined outside of the functions\n",
    "    5) then value of X is ineuron print goble variable here "
   ]
  },
  {
   "cell_type": "code",
   "execution_count": 15,
   "id": "4850591b",
   "metadata": {},
   "outputs": [],
   "source": [
    "X = 'iNeuron'\n",
    "def func():\n",
    "    X = \"NI\""
   ]
  },
  {
   "cell_type": "code",
   "execution_count": 16,
   "id": "70bd2486",
   "metadata": {},
   "outputs": [],
   "source": [
    "func()"
   ]
  },
  {
   "cell_type": "code",
   "execution_count": 17,
   "id": "4e57b403",
   "metadata": {},
   "outputs": [
    {
     "data": {
      "text/plain": [
       "'iNeuron'"
      ]
     },
     "execution_count": 17,
     "metadata": {},
     "output_type": "execute_result"
    }
   ],
   "source": [
    "X"
   ]
  },
  {
   "cell_type": "code",
   "execution_count": null,
   "id": "962e34b8",
   "metadata": {},
   "outputs": [],
   "source": [
    "--------------------------------------------------------------------------------------------------------------------------"
   ]
  },
  {
   "cell_type": "code",
   "execution_count": null,
   "id": "ada475f4",
   "metadata": {},
   "outputs": [],
   "source": [
    "6. How about this code: what is its output in Python 3, and explain?"
   ]
  },
  {
   "cell_type": "code",
   "execution_count": 1,
   "id": "88237736",
   "metadata": {},
   "outputs": [],
   "source": [
    "def func():\n",
    "    X = 'NI'\n",
    "    def nested():\n",
    "        nonlocal X\n",
    "        X = 'Spam'\n",
    "    nested()"
   ]
  },
  {
   "cell_type": "code",
   "execution_count": 2,
   "id": "e1a5ae09",
   "metadata": {},
   "outputs": [
    {
     "ename": "NameError",
     "evalue": "name 'X' is not defined",
     "output_type": "error",
     "traceback": [
      "\u001b[1;31m---------------------------------------------------------------------------\u001b[0m",
      "\u001b[1;31mNameError\u001b[0m                                 Traceback (most recent call last)",
      "\u001b[1;32m~\\AppData\\Local\\Temp\\ipykernel_27772\\1775643888.py\u001b[0m in \u001b[0;36m<module>\u001b[1;34m\u001b[0m\n\u001b[1;32m----> 1\u001b[1;33m \u001b[0mprint\u001b[0m\u001b[1;33m(\u001b[0m\u001b[0mX\u001b[0m\u001b[1;33m)\u001b[0m\u001b[1;33m\u001b[0m\u001b[1;33m\u001b[0m\u001b[0m\n\u001b[0m",
      "\u001b[1;31mNameError\u001b[0m: name 'X' is not defined"
     ]
    }
   ],
   "source": [
    "print(X)"
   ]
  },
  {
   "cell_type": "code",
   "execution_count": 3,
   "id": "47745045",
   "metadata": {},
   "outputs": [],
   "source": [
    "func()"
   ]
  },
  {
   "cell_type": "code",
   "execution_count": null,
   "id": "37b9af03",
   "metadata": {},
   "outputs": [],
   "source": [
    "Ans: 1) The code will result in a NameError because X is not defined outside of the func() function.\n",
    "    2) nested() function uses the nonlocal keyword to indicate that the X variable being referred to is the one defined in the outer func() function, not a new local variable.\n",
    "Inside nested(), the value of X is changed to 'Spam'.\n",
    "    3) Finally, nested() function is called from func().\n",
    "    4) The code then tries to print the value of X, which is not accessible outside of the func() function, hence resulting in a NameError."
   ]
  },
  {
   "cell_type": "code",
   "execution_count": null,
   "id": "f1b4b333",
   "metadata": {},
   "outputs": [],
   "source": [
    "---------------------------------------------------------------------------------------------------------------------------"
   ]
  }
 ],
 "metadata": {
  "kernelspec": {
   "display_name": "Python 3 (ipykernel)",
   "language": "python",
   "name": "python3"
  },
  "language_info": {
   "codemirror_mode": {
    "name": "ipython",
    "version": 3
   },
   "file_extension": ".py",
   "mimetype": "text/x-python",
   "name": "python",
   "nbconvert_exporter": "python",
   "pygments_lexer": "ipython3",
   "version": "3.9.13"
  }
 },
 "nbformat": 4,
 "nbformat_minor": 5
}
