{
 "cells": [
  {
   "cell_type": "code",
   "execution_count": null,
   "id": "7e6a0fcd",
   "metadata": {},
   "outputs": [],
   "source": [
    "Ques 1 : What are functions advantageous to have in your programs?"
   ]
  },
  {
   "cell_type": "code",
   "execution_count": null,
   "id": "57bd795e",
   "metadata": {},
   "outputs": [],
   "source": [
    "Ans :Code reuse function allow you to reuse the code again and again in muliple program and Functions reduce the need for duplicate code. This makes programs shorter, easier to read, and easier to update."
   ]
  },
  {
   "cell_type": "code",
   "execution_count": null,
   "id": "26dc2ba9",
   "metadata": {},
   "outputs": [],
   "source": [
    "----------------------------------------------------------------------------------------------------------------------------"
   ]
  },
  {
   "cell_type": "code",
   "execution_count": null,
   "id": "1e91ace9",
   "metadata": {},
   "outputs": [],
   "source": [
    "Ques 2 : When does the code in a function run: when it's specified or when it's called?"
   ]
  },
  {
   "cell_type": "code",
   "execution_count": null,
   "id": "4d9548a0",
   "metadata": {},
   "outputs": [],
   "source": [
    "The code in a function executes when the function is called, not when the function is defined."
   ]
  },
  {
   "cell_type": "code",
   "execution_count": 2,
   "id": "7e26d553",
   "metadata": {},
   "outputs": [],
   "source": [
    "def test1():\n",
    "    print(\"this is from test1 function\")"
   ]
  },
  {
   "cell_type": "code",
   "execution_count": null,
   "id": "b5ac7ba9",
   "metadata": {},
   "outputs": [],
   "source": [
    "function is not executes in above program we need to called it then only it executes"
   ]
  },
  {
   "cell_type": "code",
   "execution_count": 4,
   "id": "80eb7afe",
   "metadata": {},
   "outputs": [
    {
     "name": "stdout",
     "output_type": "stream",
     "text": [
      "this is from test1 function\n"
     ]
    }
   ],
   "source": [
    "test1()"
   ]
  },
  {
   "cell_type": "code",
   "execution_count": null,
   "id": "2cf40d05",
   "metadata": {},
   "outputs": [],
   "source": [
    "---------------------------------------------------------------------------------------------------------------------------"
   ]
  },
  {
   "cell_type": "code",
   "execution_count": null,
   "id": "7adb5c3b",
   "metadata": {},
   "outputs": [],
   "source": [
    "Ques3: What statement creates a function?"
   ]
  },
  {
   "cell_type": "code",
   "execution_count": null,
   "id": "573e4720",
   "metadata": {},
   "outputs": [],
   "source": [
    "Ans : The def statement defines, i.e. creates a function. which we use at the begining while creating the function."
   ]
  },
  {
   "cell_type": "code",
   "execution_count": null,
   "id": "08a2222d",
   "metadata": {},
   "outputs": [],
   "source": [
    "----------------------------------------------------------------------------------------------------------------------------"
   ]
  },
  {
   "cell_type": "code",
   "execution_count": null,
   "id": "e222422c",
   "metadata": {},
   "outputs": [],
   "source": [
    "Ques 4 : What is the difference between a function and a function call?"
   ]
  },
  {
   "cell_type": "code",
   "execution_count": null,
   "id": "17ac2f5d",
   "metadata": {},
   "outputs": [],
   "source": [
    "Ans : function is a block of code that we defined and it execute when we called by the name while A function call is what moves the program execution into the function, and the function call evaluates to the function's return value."
   ]
  },
  {
   "cell_type": "code",
   "execution_count": null,
   "id": "d79b6632",
   "metadata": {},
   "outputs": [],
   "source": [
    "----------------------------------------------------------------------------------------------------------------------------"
   ]
  },
  {
   "cell_type": "code",
   "execution_count": null,
   "id": "49c75056",
   "metadata": {},
   "outputs": [],
   "source": [
    "Ques 5 : How many global scopes are there in a Python program? How many local scopes?"
   ]
  },
  {
   "cell_type": "code",
   "execution_count": null,
   "id": "6e6fd196",
   "metadata": {},
   "outputs": [],
   "source": [
    "ans: There is one global scope, and a multiple local scope is there and it created whenever a function is called"
   ]
  },
  {
   "cell_type": "code",
   "execution_count": null,
   "id": "23be227f",
   "metadata": {},
   "outputs": [],
   "source": [
    "---------------------------------------------------------------------------------------------------------------------------"
   ]
  },
  {
   "cell_type": "code",
   "execution_count": null,
   "id": "49d4d3fc",
   "metadata": {},
   "outputs": [],
   "source": [
    "Ques 6 :What happens to variables in a local scope when the function call returns?"
   ]
  },
  {
   "cell_type": "code",
   "execution_count": null,
   "id": "685157e0",
   "metadata": {},
   "outputs": [],
   "source": [
    "Ans: when a function call returns the local variable defined within function are not accessible ,the local scope is destroyed, and all the variables in it are forgotten."
   ]
  },
  {
   "cell_type": "code",
   "execution_count": 5,
   "id": "526d8a33",
   "metadata": {},
   "outputs": [],
   "source": [
    "def test2():\n",
    "    x=100 # local variable\n",
    "    print(x)"
   ]
  },
  {
   "cell_type": "code",
   "execution_count": 6,
   "id": "873563ad",
   "metadata": {},
   "outputs": [
    {
     "name": "stdout",
     "output_type": "stream",
     "text": [
      "100\n"
     ]
    }
   ],
   "source": [
    "test2()"
   ]
  },
  {
   "cell_type": "code",
   "execution_count": 8,
   "id": "9d5c17a4",
   "metadata": {},
   "outputs": [
    {
     "ename": "NameError",
     "evalue": "name 'x' is not defined",
     "output_type": "error",
     "traceback": [
      "\u001b[1;31m---------------------------------------------------------------------------\u001b[0m",
      "\u001b[1;31mNameError\u001b[0m                                 Traceback (most recent call last)",
      "Input \u001b[1;32mIn [8]\u001b[0m, in \u001b[0;36m<cell line: 1>\u001b[1;34m()\u001b[0m\n\u001b[1;32m----> 1\u001b[0m \u001b[38;5;28mprint\u001b[39m(\u001b[43mx\u001b[49m)\n",
      "\u001b[1;31mNameError\u001b[0m: name 'x' is not defined"
     ]
    }
   ],
   "source": [
    "print(x)"
   ]
  },
  {
   "cell_type": "code",
   "execution_count": null,
   "id": "b1bcbd3c",
   "metadata": {},
   "outputs": [],
   "source": [
    "in above code we only acesss inside the code and not accessable out side the code when function test2() call it return at that time local scope of function is destroyed."
   ]
  },
  {
   "cell_type": "code",
   "execution_count": null,
   "id": "893631b1",
   "metadata": {},
   "outputs": [],
   "source": [
    "---------------------------------------------------------------------------------------------------------------------------"
   ]
  },
  {
   "cell_type": "code",
   "execution_count": null,
   "id": "64df3eca",
   "metadata": {},
   "outputs": [],
   "source": [
    "Ques 7 : What is the concept of a return value? Is it possible to have a return value in an expression?"
   ]
  },
  {
   "cell_type": "code",
   "execution_count": null,
   "id": "b84ac54b",
   "metadata": {},
   "outputs": [],
   "source": [
    "A return value is the value that a function call evaluates to. Like any value, a return value can be used as part of an expression."
   ]
  },
  {
   "cell_type": "code",
   "execution_count": null,
   "id": "8b286de0",
   "metadata": {},
   "outputs": [],
   "source": [
    "-----------------------------------------------------------------------------------------------------------------------------"
   ]
  },
  {
   "cell_type": "code",
   "execution_count": null,
   "id": "94b614d8",
   "metadata": {},
   "outputs": [],
   "source": [
    "Ques 8 : If a function does not have a return statement, what is the return value of a call to that function?"
   ]
  },
  {
   "cell_type": "code",
   "execution_count": null,
   "id": "d1d18cdc",
   "metadata": {},
   "outputs": [],
   "source": [
    "If there is no return statement for a function, its return value is None."
   ]
  },
  {
   "cell_type": "code",
   "execution_count": 11,
   "id": "2b7ebca8",
   "metadata": {},
   "outputs": [],
   "source": [
    "# without return\n",
    "def test3():\n",
    "    print(\"hi\")"
   ]
  },
  {
   "cell_type": "code",
   "execution_count": 12,
   "id": "19f541cd",
   "metadata": {},
   "outputs": [
    {
     "name": "stdout",
     "output_type": "stream",
     "text": [
      "hi\n"
     ]
    }
   ],
   "source": [
    "x=test3()"
   ]
  },
  {
   "cell_type": "code",
   "execution_count": 13,
   "id": "65a18a41",
   "metadata": {},
   "outputs": [
    {
     "name": "stdout",
     "output_type": "stream",
     "text": [
      "None\n"
     ]
    }
   ],
   "source": [
    "print(x)"
   ]
  },
  {
   "cell_type": "code",
   "execution_count": 5,
   "id": "91dbdc0b",
   "metadata": {},
   "outputs": [],
   "source": [
    "# with return\n",
    "def test4():\n",
    "    a= 10\n",
    "    return a"
   ]
  },
  {
   "cell_type": "code",
   "execution_count": 6,
   "id": "7a34643a",
   "metadata": {},
   "outputs": [
    {
     "data": {
      "text/plain": [
       "10"
      ]
     },
     "execution_count": 6,
     "metadata": {},
     "output_type": "execute_result"
    }
   ],
   "source": [
    "test4()"
   ]
  },
  {
   "cell_type": "code",
   "execution_count": 7,
   "id": "a331476b",
   "metadata": {},
   "outputs": [
    {
     "data": {
      "text/plain": [
       "int"
      ]
     },
     "execution_count": 7,
     "metadata": {},
     "output_type": "execute_result"
    }
   ],
   "source": [
    "type(test4())"
   ]
  },
  {
   "cell_type": "code",
   "execution_count": null,
   "id": "d3e8986c",
   "metadata": {},
   "outputs": [],
   "source": [
    "---------------------------------------------------------------------------------------------------------------------------"
   ]
  },
  {
   "cell_type": "code",
   "execution_count": null,
   "id": "4369c1b9",
   "metadata": {},
   "outputs": [],
   "source": [
    "Ques9 : How do you make a function variable refer to the global variable"
   ]
  },
  {
   "cell_type": "code",
   "execution_count": null,
   "id": "47a07aa4",
   "metadata": {},
   "outputs": [],
   "source": [
    "ans:A global statement will force a variable in a function to refer to the global variable."
   ]
  },
  {
   "cell_type": "code",
   "execution_count": null,
   "id": "7cb1e40e",
   "metadata": {},
   "outputs": [],
   "source": [
    "--------------------------------------------------------------------------------------------------------------------------"
   ]
  },
  {
   "cell_type": "code",
   "execution_count": null,
   "id": "9f834efb",
   "metadata": {},
   "outputs": [],
   "source": [
    "Ques 10 :What is the data type of None?"
   ]
  },
  {
   "cell_type": "code",
   "execution_count": null,
   "id": "b1da6e42",
   "metadata": {},
   "outputs": [],
   "source": [
    "The data type of None is NoneType."
   ]
  },
  {
   "cell_type": "code",
   "execution_count": 14,
   "id": "d6bfe446",
   "metadata": {},
   "outputs": [
    {
     "name": "stdout",
     "output_type": "stream",
     "text": [
      "None\n"
     ]
    },
    {
     "data": {
      "text/plain": [
       "NoneType"
      ]
     },
     "execution_count": 14,
     "metadata": {},
     "output_type": "execute_result"
    }
   ],
   "source": [
    "type(print(x))"
   ]
  },
  {
   "cell_type": "code",
   "execution_count": null,
   "id": "bed4aa31",
   "metadata": {},
   "outputs": [],
   "source": [
    "----------------------------------------------------------------------------------------------------------------------------"
   ]
  },
  {
   "cell_type": "code",
   "execution_count": null,
   "id": "97a7fe79",
   "metadata": {},
   "outputs": [],
   "source": [
    "Ques 11:What does the sentence import areallyourpetsnamederic do?"
   ]
  },
  {
   "cell_type": "code",
   "execution_count": null,
   "id": "c798d08f",
   "metadata": {},
   "outputs": [],
   "source": [
    "Ans: That import statement imports a module named areallyourpetsnamederic."
   ]
  },
  {
   "cell_type": "code",
   "execution_count": null,
   "id": "c82fa9f1",
   "metadata": {},
   "outputs": [],
   "source": [
    "--------------------------------------------------------------------------------------------------------------------------"
   ]
  },
  {
   "cell_type": "code",
   "execution_count": null,
   "id": "1ce0bd6e",
   "metadata": {},
   "outputs": [],
   "source": [
    "Ques 12 : If you had a bacon() feature in a spam module, what would you call it after importing spam?"
   ]
  },
  {
   "cell_type": "code",
   "execution_count": null,
   "id": "3a7eb69d",
   "metadata": {},
   "outputs": [],
   "source": [
    "Ans: This function can be called with spam.bacon()."
   ]
  },
  {
   "cell_type": "code",
   "execution_count": null,
   "id": "c1894560",
   "metadata": {},
   "outputs": [],
   "source": [
    "---------------------------------------------------------------------------------------------------------------------------"
   ]
  },
  {
   "cell_type": "code",
   "execution_count": null,
   "id": "811e5667",
   "metadata": {},
   "outputs": [],
   "source": [
    "Ques 13 :What can you do to save a programme from crashing if it encounters an error?"
   ]
  },
  {
   "cell_type": "code",
   "execution_count": null,
   "id": "cecb984c",
   "metadata": {},
   "outputs": [],
   "source": [
    "Ans: try and except statment it allow you to handle error and execeptions occure in code "
   ]
  },
  {
   "cell_type": "code",
   "execution_count": null,
   "id": "6a3f01c8",
   "metadata": {},
   "outputs": [],
   "source": [
    "---------------------------------------------------------------------------------------------------------------------------"
   ]
  },
  {
   "cell_type": "code",
   "execution_count": null,
   "id": "2a180bc6",
   "metadata": {},
   "outputs": [],
   "source": [
    "Ques 14 : What is the purpose of the try clause? What is the purpose of the except clause?"
   ]
  },
  {
   "cell_type": "code",
   "execution_count": null,
   "id": "5bff9bd4",
   "metadata": {},
   "outputs": [],
   "source": [
    "Ans : inside the try block write a code that may cause an error and except block to specify what to do incase of error occures "
   ]
  },
  {
   "cell_type": "code",
   "execution_count": null,
   "id": "6aa3fc17",
   "metadata": {},
   "outputs": [],
   "source": [
    "-------------------------------------------------------------------------------------------------------------------------------"
   ]
  }
 ],
 "metadata": {
  "kernelspec": {
   "display_name": "Python 3 (ipykernel)",
   "language": "python",
   "name": "python3"
  },
  "language_info": {
   "codemirror_mode": {
    "name": "ipython",
    "version": 3
   },
   "file_extension": ".py",
   "mimetype": "text/x-python",
   "name": "python",
   "nbconvert_exporter": "python",
   "pygments_lexer": "ipython3",
   "version": "3.9.12"
  }
 },
 "nbformat": 4,
 "nbformat_minor": 5
}
