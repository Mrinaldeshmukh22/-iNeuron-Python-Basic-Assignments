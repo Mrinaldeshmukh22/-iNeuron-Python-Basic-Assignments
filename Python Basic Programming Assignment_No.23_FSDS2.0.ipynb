{
 "cells": [
  {
   "cell_type": "code",
   "execution_count": null,
   "id": "3dc76f96",
   "metadata": {},
   "outputs": [],
   "source": [
    "Ques 1 : Create a function that takes a number as an argument and returns True or False depending\n",
    "on whether the number is symmetrical or not. A number is symmetrical when it is the same as\n",
    "its reverse."
   ]
  },
  {
   "cell_type": "code",
   "execution_count": 6,
   "id": "b32bb647",
   "metadata": {},
   "outputs": [],
   "source": [
    "def is_symmetrical(x):\n",
    "    s = str(x)\n",
    "    reverse = s[::-1]\n",
    "\n",
    "    if s == reverse:\n",
    "        return True\n",
    "    else:\n",
    "        return False"
   ]
  },
  {
   "cell_type": "code",
   "execution_count": 7,
   "id": "0d08eac2",
   "metadata": {},
   "outputs": [
    {
     "data": {
      "text/plain": [
       "False"
      ]
     },
     "execution_count": 7,
     "metadata": {},
     "output_type": "execute_result"
    }
   ],
   "source": [
    "is_symmetrical(12567) "
   ]
  },
  {
   "cell_type": "code",
   "execution_count": 8,
   "id": "eb46bdcc",
   "metadata": {},
   "outputs": [
    {
     "data": {
      "text/plain": [
       "True"
      ]
     },
     "execution_count": 8,
     "metadata": {},
     "output_type": "execute_result"
    }
   ],
   "source": [
    "is_symmetrical(7227)"
   ]
  },
  {
   "cell_type": "code",
   "execution_count": null,
   "id": "6bf65833",
   "metadata": {},
   "outputs": [],
   "source": [
    "*****************************************************************************"
   ]
  },
  {
   "cell_type": "code",
   "execution_count": null,
   "id": "58f7cd23",
   "metadata": {},
   "outputs": [],
   "source": [
    "Ques 2 : Given a string of numbers separated by a comma and space, return the product of the\n",
    "numbers."
   ]
  },
  {
   "cell_type": "code",
   "execution_count": 15,
   "id": "c6551490",
   "metadata": {},
   "outputs": [],
   "source": [
    "def multiply_nums(a) :\n",
    "    prod=1\n",
    "    for i in a.split(\", \"):\n",
    "        prod=prod*int(i)\n",
    "    return prod"
   ]
  },
  {
   "cell_type": "code",
   "execution_count": 16,
   "id": "38672bb3",
   "metadata": {},
   "outputs": [
    {
     "data": {
      "text/plain": [
       "6"
      ]
     },
     "execution_count": 16,
     "metadata": {},
     "output_type": "execute_result"
    }
   ],
   "source": [
    "multiply_nums(\"2, 3\") "
   ]
  },
  {
   "cell_type": "code",
   "execution_count": 17,
   "id": "d5753c62",
   "metadata": {},
   "outputs": [
    {
     "data": {
      "text/plain": [
       "24"
      ]
     },
     "execution_count": 17,
     "metadata": {},
     "output_type": "execute_result"
    }
   ],
   "source": [
    "multiply_nums(\"1, 2, 3, 4\") "
   ]
  },
  {
   "cell_type": "code",
   "execution_count": null,
   "id": "b5a80d5f",
   "metadata": {},
   "outputs": [],
   "source": [
    "*****************************************************************************"
   ]
  },
  {
   "cell_type": "code",
   "execution_count": null,
   "id": "d289d75f",
   "metadata": {},
   "outputs": [],
   "source": [
    "Ques 3 : Create a function that squares every digit of a number."
   ]
  },
  {
   "cell_type": "code",
   "execution_count": 18,
   "id": "f4696476",
   "metadata": {},
   "outputs": [],
   "source": [
    "def square_digits(a) :\n",
    "    s=''\n",
    "    for i in str(a):\n",
    "        p=1\n",
    "        p=int(i)*int(i)\n",
    "        s=s+str(p)\n",
    "    return (int(s))\n",
    "    "
   ]
  },
  {
   "cell_type": "code",
   "execution_count": 19,
   "id": "5b6c706d",
   "metadata": {},
   "outputs": [
    {
     "data": {
      "text/plain": [
       "811181"
      ]
     },
     "execution_count": 19,
     "metadata": {},
     "output_type": "execute_result"
    }
   ],
   "source": [
    "square_digits(9119) "
   ]
  },
  {
   "cell_type": "code",
   "execution_count": 20,
   "id": "2621ca1f",
   "metadata": {},
   "outputs": [
    {
     "data": {
      "text/plain": [
       "416649"
      ]
     },
     "execution_count": 20,
     "metadata": {},
     "output_type": "execute_result"
    }
   ],
   "source": [
    "square_digits(2483)"
   ]
  },
  {
   "cell_type": "code",
   "execution_count": null,
   "id": "6a8456be",
   "metadata": {},
   "outputs": [],
   "source": [
    "*****************************************************************************"
   ]
  },
  {
   "cell_type": "code",
   "execution_count": null,
   "id": "d2525ec8",
   "metadata": {},
   "outputs": [],
   "source": [
    "Ques 4 : Create a function that sorts a list and removes all duplicate items from it."
   ]
  },
  {
   "cell_type": "code",
   "execution_count": 21,
   "id": "b7e160b9",
   "metadata": {},
   "outputs": [],
   "source": [
    "def setify(l):\n",
    "    l.sort()\n",
    "    s=set(l)\n",
    "    return list(s)"
   ]
  },
  {
   "cell_type": "code",
   "execution_count": 23,
   "id": "01c9218d",
   "metadata": {},
   "outputs": [
    {
     "data": {
      "text/plain": [
       "[1, 3, 5]"
      ]
     },
     "execution_count": 23,
     "metadata": {},
     "output_type": "execute_result"
    }
   ],
   "source": [
    "setify([1, 3, 3, 5, 5])"
   ]
  },
  {
   "cell_type": "code",
   "execution_count": 24,
   "id": "24301c6c",
   "metadata": {},
   "outputs": [
    {
     "data": {
      "text/plain": [
       "[1, 2, 3]"
      ]
     },
     "execution_count": 24,
     "metadata": {},
     "output_type": "execute_result"
    }
   ],
   "source": [
    "setify([3, 3, 3, 2, 1]) "
   ]
  },
  {
   "cell_type": "code",
   "execution_count": null,
   "id": "65006215",
   "metadata": {},
   "outputs": [],
   "source": [
    "*****************************************************************************"
   ]
  },
  {
   "cell_type": "code",
   "execution_count": null,
   "id": "95e33e37",
   "metadata": {},
   "outputs": [],
   "source": [
    "Ques 5 : Create a function that returns the mean of all digits."
   ]
  },
  {
   "cell_type": "code",
   "execution_count": 25,
   "id": "e552bf0e",
   "metadata": {},
   "outputs": [],
   "source": [
    "def mean(a) :\n",
    "    c=0\n",
    "    sum=0\n",
    "    for i in str(a):\n",
    "        c+=1\n",
    "        sum=sum+int(i)\n",
    "    return int(sum/c)\n",
    "        "
   ]
  },
  {
   "cell_type": "code",
   "execution_count": 26,
   "id": "33f0041b",
   "metadata": {},
   "outputs": [
    {
     "data": {
      "text/plain": [
       "3"
      ]
     },
     "execution_count": 26,
     "metadata": {},
     "output_type": "execute_result"
    }
   ],
   "source": [
    "mean(12345)"
   ]
  },
  {
   "cell_type": "code",
   "execution_count": null,
   "id": "90586018",
   "metadata": {},
   "outputs": [],
   "source": []
  }
 ],
 "metadata": {
  "kernelspec": {
   "display_name": "Python 3 (ipykernel)",
   "language": "python",
   "name": "python3"
  },
  "language_info": {
   "codemirror_mode": {
    "name": "ipython",
    "version": 3
   },
   "file_extension": ".py",
   "mimetype": "text/x-python",
   "name": "python",
   "nbconvert_exporter": "python",
   "pygments_lexer": "ipython3",
   "version": "3.9.13"
  }
 },
 "nbformat": 4,
 "nbformat_minor": 5
}
