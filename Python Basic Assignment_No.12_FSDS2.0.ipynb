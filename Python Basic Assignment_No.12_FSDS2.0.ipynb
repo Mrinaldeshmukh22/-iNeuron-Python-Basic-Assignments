{
 "cells": [
  {
   "cell_type": "markdown",
   "id": "liberal-account",
   "metadata": {},
   "source": [
    "Ques 1 In what modes should the PdfFileReader() and PdfFileWriter() File objects will be opened?\n",
    "\n",
    "- Answer -\n",
    "PdfFileReader() needs to be opened in read-binary mode by passing 'rb' as the second argument to open(). Likewise, the File object passed to PyPDF2. PdfFileWriter() needs to be opened in write-binary mode with 'wb'.\n"
   ]
  },
  {
   "cell_type": "code",
   "execution_count": null,
   "id": "6afdfb6c",
   "metadata": {},
   "outputs": [],
   "source": [
    "*************************************************************************************************************************"
   ]
  },
  {
   "cell_type": "markdown",
   "id": "sharing-council",
   "metadata": {},
   "source": [
    "Ques 2 From a PdfFileReader object, how do you get a Page object for page 5?\n",
    "\n",
    "- Answer -\n",
    "> Calling getPage(4) will return a page object  for page 5, since page 0 is the first page.\n"
   ]
  },
  {
   "cell_type": "code",
   "execution_count": null,
   "id": "0373c09a",
   "metadata": {},
   "outputs": [],
   "source": [
    "*************************************************************************************************************************"
   ]
  },
  {
   "cell_type": "markdown",
   "id": "acute-talent",
   "metadata": {},
   "source": [
    "Ques 3\n",
    "> What PdfFileReader variable stores the number of pages in the PDF document?\n",
    "\n",
    "- Answer -\n",
    "> The total number of pages in the document is stored in the numPages variable of a PdfFileReader object.\n"
   ]
  },
  {
   "cell_type": "code",
   "execution_count": null,
   "id": "465d5bb6",
   "metadata": {},
   "outputs": [],
   "source": [
    "*************************************************************************************************************************"
   ]
  },
  {
   "cell_type": "markdown",
   "id": "outdoor-setup",
   "metadata": {},
   "source": [
    "Ques 4\n",
    "> If a PdfFileReader object’s PDF is encrypted with the password swordfish, what must you do before you can obtain Page objects from it?\n",
    "\n",
    "- Answer -\n",
    "> To read an encrypted PDF, call the decrypt() function and pass the password as a string, in our case it is swordfish. After we call decrypt() with the correct password, you’ll see that calling getPage() no longer causes an error. Call decrypt('swordfish').\n"
   ]
  },
  {
   "cell_type": "code",
   "execution_count": null,
   "id": "d674ba9b",
   "metadata": {},
   "outputs": [],
   "source": [
    "*************************************************************************************************************************"
   ]
  },
  {
   "cell_type": "markdown",
   "id": "caring-viewer",
   "metadata": {},
   "source": [
    "Ques 5 What methods do you use to rotate a page?\n",
    "\n",
    "- Answer -\n",
    "> The pages of a PDF can be rotated in 90-degree increments with the rotateClockwise() and rotateCounterClockwise() methods.\n"
   ]
  },
  {
   "cell_type": "code",
   "execution_count": null,
   "id": "3535aab2",
   "metadata": {},
   "outputs": [],
   "source": [
    "*************************************************************************************************************************"
   ]
  },
  {
   "cell_type": "markdown",
   "id": "complimentary-cabinet",
   "metadata": {},
   "source": [
    "Ques 6 What is the difference between a Run object and a Paragraph object?\n",
    "\n",
    "- Answer -\n",
    "> A document contains multiple paragraphs. A paragraph begins on a new line and contains multiple runs. Runs are contiguous groups of charecters within a paragraph.\n"
   ]
  },
  {
   "cell_type": "code",
   "execution_count": null,
   "id": "9ab73dd1",
   "metadata": {},
   "outputs": [],
   "source": [
    "*************************************************************************************************************************"
   ]
  },
  {
   "cell_type": "markdown",
   "id": "special-graduation",
   "metadata": {},
   "source": [
    "Ques 7 How do you obtain a list of Paragraph objects for a Document object that’s stored in a variable named doc?\n",
    "\n",
    "- Answer -\n",
    "> len(doc.paragraphs)\n"
   ]
  },
  {
   "cell_type": "code",
   "execution_count": null,
   "id": "55d9e792",
   "metadata": {},
   "outputs": [],
   "source": [
    "*************************************************************************************************************************"
   ]
  },
  {
   "cell_type": "markdown",
   "id": "conscious-adult",
   "metadata": {},
   "source": [
    "Ques 8\n",
    "> What type of object has bold, underline, italic, strike, and outline variables?\n",
    "\n",
    "- Answer -\n",
    "> Run Object\n"
   ]
  },
  {
   "cell_type": "code",
   "execution_count": null,
   "id": "21e1cd60",
   "metadata": {},
   "outputs": [],
   "source": [
    "*************************************************************************************************************************"
   ]
  },
  {
   "cell_type": "markdown",
   "id": "dynamic-madison",
   "metadata": {},
   "source": [
    "Ques 9\n",
    "> What is the difference between False, True, and None for the bold variable?\n",
    "\n",
    "- Answer -\n",
    "> True always makes the run object  bolded and False makes it always not bolded, no matter what the style's bold settings is. None will make the Run object just use the style's bold settings."
   ]
  },
  {
   "cell_type": "code",
   "execution_count": null,
   "id": "e920414a",
   "metadata": {},
   "outputs": [],
   "source": [
    "*************************************************************************************************************************"
   ]
  },
  {
   "cell_type": "markdown",
   "id": "continuing-drama",
   "metadata": {},
   "source": [
    "Ques 10 How do you create a Document object for a new Word document?\n",
    "\n",
    "- Answer -\n",
    "> mydoc = docx.Document()\n"
   ]
  },
  {
   "cell_type": "code",
   "execution_count": null,
   "id": "a3e42fac",
   "metadata": {},
   "outputs": [],
   "source": [
    "*************************************************************************************************************************"
   ]
  },
  {
   "cell_type": "markdown",
   "id": "dietary-russia",
   "metadata": {},
   "source": [
    "Ques 11 How do you add a paragraph with the text 'Hello, there!' to a Document object stored in a variable named doc?\n",
    "\n",
    "- Answer -\n",
    "> doc.add_paragraph('Hello, there!')\n"
   ]
  },
  {
   "cell_type": "code",
   "execution_count": null,
   "id": "a2cd928d",
   "metadata": {},
   "outputs": [],
   "source": [
    "*************************************************************************************************************************"
   ]
  },
  {
   "cell_type": "markdown",
   "id": "allied-institute",
   "metadata": {},
   "source": [
    "Ques 12 What integers represent the levels of headings available in Word documents?\n",
    "\n",
    "- Answer -\n",
    "> The arguments to add_heading() are a string of the heading text and an integer from 0 to 4. The integer 0 makes the heading the Title style, which is used for the top of the document. Integers 1 to 4 are for various heading levels, with 1 being the main heading and 4 the lowest subheading. The add_heading() function returns a Paragraph object to save you the step of extracting it from the Document object as a separate step.\n"
   ]
  },
  {
   "cell_type": "code",
   "execution_count": null,
   "id": "49ee4377",
   "metadata": {},
   "outputs": [],
   "source": [
    "*************************************************************************************************************************"
   ]
  }
 ],
 "metadata": {
  "kernelspec": {
   "display_name": "Python 3 (ipykernel)",
   "language": "python",
   "name": "python3"
  },
  "language_info": {
   "codemirror_mode": {
    "name": "ipython",
    "version": 3
   },
   "file_extension": ".py",
   "mimetype": "text/x-python",
   "name": "python",
   "nbconvert_exporter": "python",
   "pygments_lexer": "ipython3",
   "version": "3.9.13"
  },
  "toc": {
   "base_numbering": 1,
   "nav_menu": {},
   "number_sections": true,
   "sideBar": true,
   "skip_h1_title": false,
   "title_cell": "Table of Contents",
   "title_sidebar": "Contents",
   "toc_cell": false,
   "toc_position": {},
   "toc_section_display": true,
   "toc_window_display": false
  }
 },
 "nbformat": 4,
 "nbformat_minor": 5
}
