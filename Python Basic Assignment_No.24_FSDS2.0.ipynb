{
 "cells": [
  {
   "cell_type": "code",
   "execution_count": null,
   "id": "a247de11",
   "metadata": {},
   "outputs": [],
   "source": [
    "Ques 1 : What is the relationship between def statements and lambda expressions ?"
   ]
  },
  {
   "cell_type": "code",
   "execution_count": null,
   "id": "4567feec",
   "metadata": {},
   "outputs": [],
   "source": [
    "Ans: As an expression, lambda returns a value that can optionally be assigned a name. \n",
    "    In contrast, the def statement always assigns the new function to the name in the header, instead of returning is as a result. \n",
    "    lambda's body is a single expression, not a block of statements"
   ]
  },
  {
   "cell_type": "code",
   "execution_count": null,
   "id": "e44b4fac",
   "metadata": {},
   "outputs": [],
   "source": [
    "--------------------------------------------------------------------------------------------------------------------------"
   ]
  },
  {
   "cell_type": "code",
   "execution_count": null,
   "id": "6d2aa681",
   "metadata": {},
   "outputs": [],
   "source": [
    "Ques 2  : What is the benefit of lambda?"
   ]
  },
  {
   "cell_type": "code",
   "execution_count": null,
   "id": "981a64db",
   "metadata": {},
   "outputs": [],
   "source": [
    "Ans:\n",
    "    The lambda keyword in Python provides a shortcut for declaring small anonymous functions. \n",
    "    Lambda functions behave just like regular functions declared with the def keyword. \n",
    "    They can be used whenever function objects are required.\n",
    "    Lambda functions are inline functions and thus execute comparatively faster."
   ]
  },
  {
   "cell_type": "code",
   "execution_count": null,
   "id": "517c54de",
   "metadata": {},
   "outputs": [],
   "source": [
    "----------------------------------------------------------------------------------------------------------------------"
   ]
  },
  {
   "cell_type": "code",
   "execution_count": null,
   "id": "7800c371",
   "metadata": {},
   "outputs": [],
   "source": [
    "Ques 3 : Compare and contrast map, filter, and reduce."
   ]
  },
  {
   "cell_type": "code",
   "execution_count": null,
   "id": "eb87a93a",
   "metadata": {},
   "outputs": [],
   "source": [
    "Ans :  map(), filter(), and reduce() are three built-in functions\n",
    "1) map() applies a function to each item in an iterable and returns a new iterable with the modified values.\n",
    "2) filter() returns a new iterable containing the items from an iterable for which a given function returns True.\n",
    "3) reduce() applies a function to the items in an iterable and reduces it to a single value."
   ]
  },
  {
   "cell_type": "code",
   "execution_count": null,
   "id": "bd89efad",
   "metadata": {},
   "outputs": [],
   "source": [
    "--------------------------------------------------------------------------------------------------------------------"
   ]
  },
  {
   "cell_type": "code",
   "execution_count": null,
   "id": "207938cd",
   "metadata": {},
   "outputs": [],
   "source": [
    "Ques 4 : What are function annotations, and how are they used?"
   ]
  },
  {
   "cell_type": "code",
   "execution_count": null,
   "id": "cea2821b",
   "metadata": {},
   "outputs": [],
   "source": [
    "Function annotations are completely optional both for parameters and return value. \n",
    "Function annotations provide a way of associating various parts of a function with arbitrary python expressions at compile time.\n",
    "\n",
    "Syntax of function annotations for simple parameters and for excess parameters respectively:\n",
    "\n",
    "def foobar(a: expression, b: expression = 5):\n",
    "\n",
    "def foobar(args: int, kwargs: int):\n",
    "\n",
    "def foobar(a)->str:"
   ]
  },
  {
   "cell_type": "code",
   "execution_count": null,
   "id": "8b188786",
   "metadata": {},
   "outputs": [],
   "source": [
    "--------------------------------------------------------------------------------------------------------------------------"
   ]
  },
  {
   "cell_type": "code",
   "execution_count": null,
   "id": "960bcc18",
   "metadata": {},
   "outputs": [],
   "source": [
    "Ques 5 : What are recursive functions, and how are they used?"
   ]
  },
  {
   "cell_type": "code",
   "execution_count": null,
   "id": "3aef73a4",
   "metadata": {},
   "outputs": [],
   "source": [
    "Ans: A recursive function is a function that calls itself within its definition. \n",
    "This technique is used in programming when a problem can be broken down into smaller sub-problems that are similar in nature to the original problem."
   ]
  },
  {
   "cell_type": "code",
   "execution_count": 2,
   "id": "dee3ab64",
   "metadata": {},
   "outputs": [],
   "source": [
    "def factorial(n):\n",
    "    if n == 0:\n",
    "        return 1\n",
    "    else:\n",
    "        return n * factorial(n-1)"
   ]
  },
  {
   "cell_type": "code",
   "execution_count": 4,
   "id": "a09a88fc",
   "metadata": {},
   "outputs": [
    {
     "data": {
      "text/plain": [
       "1"
      ]
     },
     "execution_count": 4,
     "metadata": {},
     "output_type": "execute_result"
    }
   ],
   "source": [
    "factorial(0)"
   ]
  },
  {
   "cell_type": "code",
   "execution_count": 6,
   "id": "4cb31433",
   "metadata": {},
   "outputs": [
    {
     "data": {
      "text/plain": [
       "120"
      ]
     },
     "execution_count": 6,
     "metadata": {},
     "output_type": "execute_result"
    }
   ],
   "source": [
    "factorial(5)"
   ]
  },
  {
   "cell_type": "code",
   "execution_count": null,
   "id": "5c1dbb25",
   "metadata": {},
   "outputs": [],
   "source": [
    "---------------------------------------------------------------------------------------------------------------------------"
   ]
  },
  {
   "cell_type": "code",
   "execution_count": null,
   "id": "61215e62",
   "metadata": {},
   "outputs": [],
   "source": [
    "Ques 6 :What are some general design guidelines for coding functions?"
   ]
  },
  {
   "cell_type": "code",
   "execution_count": null,
   "id": "72ed7ca5",
   "metadata": {},
   "outputs": [],
   "source": [
    "Ans : \n",
    "    1)Use clear and descriptive function names\n",
    "    2)Use docstrings to document your functions\n",
    "    3)Use exceptions to handle errors\n",
    "    4)Use type annotations\n",
    "    5)Use of regular and updated comments are valuable to both the coders and users"
   ]
  },
  {
   "cell_type": "code",
   "execution_count": null,
   "id": "4d60db67",
   "metadata": {},
   "outputs": [],
   "source": [
    "-----------------------------------------------------------------------------------------------------------------------------"
   ]
  },
  {
   "cell_type": "code",
   "execution_count": null,
   "id": "7007191a",
   "metadata": {},
   "outputs": [],
   "source": [
    "Ques 7 : Name three or more ways that functions can communicate results to a caller."
   ]
  },
  {
   "cell_type": "code",
   "execution_count": null,
   "id": "e2d9c511",
   "metadata": {},
   "outputs": [],
   "source": [
    "Ans : \n",
    "    1) To call a function, we specify the function name with the round brackets.\n",
    "    2) Use of return keyword inside function which returns the results to the caller.\n",
    "    3) Use of print statement inside function which prints the results to the caller."
   ]
  },
  {
   "cell_type": "code",
   "execution_count": null,
   "id": "a5f8d2bf",
   "metadata": {},
   "outputs": [],
   "source": [
    "----------------------------------------------------------------------------------------------------------------------------"
   ]
  }
 ],
 "metadata": {
  "kernelspec": {
   "display_name": "Python 3 (ipykernel)",
   "language": "python",
   "name": "python3"
  },
  "language_info": {
   "codemirror_mode": {
    "name": "ipython",
    "version": 3
   },
   "file_extension": ".py",
   "mimetype": "text/x-python",
   "name": "python",
   "nbconvert_exporter": "python",
   "pygments_lexer": "ipython3",
   "version": "3.9.13"
  }
 },
 "nbformat": 4,
 "nbformat_minor": 5
}
