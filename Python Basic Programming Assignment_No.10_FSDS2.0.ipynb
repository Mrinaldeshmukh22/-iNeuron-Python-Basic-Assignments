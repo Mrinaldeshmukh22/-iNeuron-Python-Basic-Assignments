{
 "cells": [
  {
   "cell_type": "code",
   "execution_count": null,
   "id": "66565ef9",
   "metadata": {},
   "outputs": [],
   "source": [
    "1. Write a Python program to find sum of elements in list?"
   ]
  },
  {
   "cell_type": "code",
   "execution_count": 2,
   "id": "fd62d7d4",
   "metadata": {},
   "outputs": [
    {
     "name": "stdout",
     "output_type": "stream",
     "text": [
      "Sum of element in list is: 28\n"
     ]
    }
   ],
   "source": [
    "l = [1,2,3,4,5,6,7]\n",
    "sum=0\n",
    "for i in l:\n",
    "    sum+=i\n",
    "print(\"Sum of element in list is:\" ,sum)"
   ]
  },
  {
   "cell_type": "code",
   "execution_count": null,
   "id": "9283f38a",
   "metadata": {},
   "outputs": [],
   "source": [
    "*************************************************************************************"
   ]
  },
  {
   "cell_type": "code",
   "execution_count": null,
   "id": "719d9483",
   "metadata": {},
   "outputs": [],
   "source": [
    "2. Write a Python program to Multiply all numbers in the list?"
   ]
  },
  {
   "cell_type": "code",
   "execution_count": 1,
   "id": "94787ea4",
   "metadata": {},
   "outputs": [],
   "source": [
    "def multiply_list(numbers):\n",
    "    result = 1\n",
    "    for num in numbers:\n",
    "        result *= num\n",
    "    return result"
   ]
  },
  {
   "cell_type": "code",
   "execution_count": 2,
   "id": "bbe95487",
   "metadata": {},
   "outputs": [
    {
     "name": "stdout",
     "output_type": "stream",
     "text": [
      "120\n"
     ]
    }
   ],
   "source": [
    "my_list = [2, 3, 4, 5]\n",
    "print(multiply_list(my_list))"
   ]
  },
  {
   "cell_type": "code",
   "execution_count": null,
   "id": "d3b38590",
   "metadata": {},
   "outputs": [],
   "source": [
    "*************************************************************************************"
   ]
  },
  {
   "cell_type": "code",
   "execution_count": null,
   "id": "a32e95e1",
   "metadata": {},
   "outputs": [],
   "source": [
    "3. Write a Python program to find smallest number in a list?"
   ]
  },
  {
   "cell_type": "code",
   "execution_count": 20,
   "id": "4db83166",
   "metadata": {},
   "outputs": [
    {
     "name": "stdout",
     "output_type": "stream",
     "text": [
      "Smallest no is:  0\n"
     ]
    }
   ],
   "source": [
    "list = [0,1,2,3,7,8,9]\n",
    "# Set the smallest number to the first number in the list\n",
    "smallest=list[0]\n",
    "\n",
    "for i in list:\n",
    "    if i < smallest:\n",
    "        # If the current number is smaller than the smallest number,\n",
    "        # update the smallest number to be the current number\n",
    "        smallest = i\n",
    "print(\"Smallest no is: \" ,smallest)"
   ]
  },
  {
   "cell_type": "code",
   "execution_count": null,
   "id": "5855a292",
   "metadata": {},
   "outputs": [],
   "source": [
    "*************************************************************************************"
   ]
  },
  {
   "cell_type": "code",
   "execution_count": null,
   "id": "55ad7f13",
   "metadata": {},
   "outputs": [],
   "source": [
    "4. Write a Python program to find largest number in a list?"
   ]
  },
  {
   "cell_type": "code",
   "execution_count": 39,
   "id": "5f0ee9bf",
   "metadata": {},
   "outputs": [],
   "source": [
    "def largest_number(l):\n",
    "    largest = None\n",
    "    for i in l:\n",
    "        if isinstance(i, (int, float)):\n",
    "            if largest is None or i > largest:\n",
    "                largest = i \n",
    "    return largest"
   ]
  },
  {
   "cell_type": "code",
   "execution_count": 40,
   "id": "fdac0fc3",
   "metadata": {},
   "outputs": [
    {
     "name": "stdout",
     "output_type": "stream",
     "text": [
      "The largest number in the list is: 9.6\n"
     ]
    }
   ],
   "source": [
    "l = [1, 2, 3, 4, 5, 9.6, \"mrinal\"]\n",
    "largest = largest_number(l)\n",
    "print(\"The largest number in the list is:\", largest)"
   ]
  },
  {
   "cell_type": "code",
   "execution_count": 6,
   "id": "77b7574b",
   "metadata": {},
   "outputs": [
    {
     "name": "stdout",
     "output_type": "stream",
     "text": [
      "largest no is:  9\n"
     ]
    }
   ],
   "source": [
    "list = [0,1,2,3,7,8,9]\n",
    "largest=list[0]\n",
    "\n",
    "for i in list:\n",
    "        if i >= largest:\n",
    "            largest = i\n",
    "print(\"largest no is: \" ,largest)"
   ]
  },
  {
   "cell_type": "code",
   "execution_count": null,
   "id": "169f2dc5",
   "metadata": {},
   "outputs": [],
   "source": [
    "*************************************************************************************"
   ]
  },
  {
   "cell_type": "code",
   "execution_count": null,
   "id": "1e57910a",
   "metadata": {},
   "outputs": [],
   "source": [
    "5. Write a Python program to find second largest number in a list?"
   ]
  },
  {
   "cell_type": "code",
   "execution_count": 18,
   "id": "cf1cbd48",
   "metadata": {},
   "outputs": [],
   "source": [
    "def find_second_largest(l):\n",
    "    largest = l[0]\n",
    "    second_largest = None \n",
    "    \n",
    "    for i in l[1:]:\n",
    "        if i > largest:\n",
    "            second_largest = largest\n",
    "            largest = i \n",
    "        elif second_largest is None or i > second_largest:\n",
    "            second_largest = i\n",
    "    return second_largest\n",
    "    \n",
    "    "
   ]
  },
  {
   "cell_type": "code",
   "execution_count": 21,
   "id": "43512e19",
   "metadata": {},
   "outputs": [
    {
     "data": {
      "text/plain": [
       "7"
      ]
     },
     "execution_count": 21,
     "metadata": {},
     "output_type": "execute_result"
    }
   ],
   "source": [
    "l=[3, 7, 2, 9, 4, 1]\n",
    "find_second_largest(l)"
   ]
  },
  {
   "cell_type": "code",
   "execution_count": null,
   "id": "bb7e3996",
   "metadata": {},
   "outputs": [],
   "source": [
    "*************************************************************************************"
   ]
  },
  {
   "cell_type": "code",
   "execution_count": null,
   "id": "caf18e0b",
   "metadata": {},
   "outputs": [],
   "source": [
    "6. Write a Python program to find N largest elements from a list?"
   ]
  },
  {
   "cell_type": "code",
   "execution_count": 22,
   "id": "0270def2",
   "metadata": {},
   "outputs": [
    {
     "name": "stdout",
     "output_type": "stream",
     "text": [
      "[10, 8, 7]\n"
     ]
    }
   ],
   "source": [
    "def find_n_largest_elements(lst, n):\n",
    "    \"\"\"Returns a list containing the N largest elements from the given list.\"\"\"\n",
    "    largest = []\n",
    "    for i in range(n):\n",
    "        max_element = max(lst)\n",
    "        largest.append(max_element)\n",
    "        lst.remove(max_element)\n",
    "    return largest\n",
    "\n",
    "# Example usage\n",
    "my_list = [1, 8, 4, 10, 5, 7]\n",
    "n_largest = find_n_largest_elements(my_list, 3)\n",
    "print(n_largest)"
   ]
  },
  {
   "cell_type": "code",
   "execution_count": null,
   "id": "9f3a81f4",
   "metadata": {},
   "outputs": [],
   "source": [
    "*************************************************************************************"
   ]
  },
  {
   "cell_type": "code",
   "execution_count": null,
   "id": "cd6b7a49",
   "metadata": {},
   "outputs": [],
   "source": [
    "Ques 7 : Write a Python program to print even numbers in a list?"
   ]
  },
  {
   "cell_type": "code",
   "execution_count": 24,
   "id": "67c539ce",
   "metadata": {},
   "outputs": [],
   "source": [
    "def Even(l):\n",
    "    l1 = []\n",
    "    for i in l:\n",
    "        if i%2==0:\n",
    "            l1.append(i)\n",
    "    return l1"
   ]
  },
  {
   "cell_type": "code",
   "execution_count": 26,
   "id": "89b65157",
   "metadata": {},
   "outputs": [
    {
     "data": {
      "text/plain": [
       "[2, 4, 6, 8, 10]"
      ]
     },
     "execution_count": 26,
     "metadata": {},
     "output_type": "execute_result"
    }
   ],
   "source": [
    "l = [1,2,3,4,5,6,7,8,9,10]\n",
    "Even(l)"
   ]
  },
  {
   "cell_type": "code",
   "execution_count": null,
   "id": "7c98fbc4",
   "metadata": {},
   "outputs": [],
   "source": [
    "*************************************************************************************"
   ]
  },
  {
   "cell_type": "code",
   "execution_count": null,
   "id": "301ab96c",
   "metadata": {},
   "outputs": [],
   "source": [
    "Ques 8 : Write a Python program to print odd numbers in a List?"
   ]
  },
  {
   "cell_type": "code",
   "execution_count": 35,
   "id": "b4de51a0",
   "metadata": {},
   "outputs": [],
   "source": [
    "def odd(l):\n",
    "    l2 = []\n",
    "    for i in l:\n",
    "        if i%2!=0:\n",
    "            l2.append(i)\n",
    "    return l2"
   ]
  },
  {
   "cell_type": "code",
   "execution_count": 36,
   "id": "99bb916e",
   "metadata": {},
   "outputs": [
    {
     "data": {
      "text/plain": [
       "[1, 3, 5, 7, 9]"
      ]
     },
     "execution_count": 36,
     "metadata": {},
     "output_type": "execute_result"
    }
   ],
   "source": [
    "l = [1,2,3,4,5,6,7,8,9,10]\n",
    "odd(l)"
   ]
  },
  {
   "cell_type": "code",
   "execution_count": null,
   "id": "c5e3e76f",
   "metadata": {},
   "outputs": [],
   "source": [
    "*************************************************************************************"
   ]
  },
  {
   "cell_type": "code",
   "execution_count": null,
   "id": "b48b239e",
   "metadata": {},
   "outputs": [],
   "source": [
    "Ques 9 : Write a Python program to Remove empty List from List?"
   ]
  },
  {
   "cell_type": "code",
   "execution_count": 39,
   "id": "14a76b0f",
   "metadata": {},
   "outputs": [
    {
     "name": "stdout",
     "output_type": "stream",
     "text": [
      "Original list: [[1, 2, 3], [], [4, 5], [], [], [6, 7, 8], []]\n",
      "List with empty lists removed: [[1, 2, 3], [4, 5], [6, 7, 8]]\n"
     ]
    }
   ],
   "source": [
    "original_list = [[1, 2, 3], [], [4, 5], [], [], [6, 7, 8], []]\n",
    "\n",
    "# using a list comprehension to filter out empty lists\n",
    "new_list = [lst for lst in original_list if lst]\n",
    "\n",
    "print(\"Original list:\", original_list)\n",
    "print(\"List with empty lists removed:\", new_list)"
   ]
  },
  {
   "cell_type": "code",
   "execution_count": null,
   "id": "a23f524d",
   "metadata": {},
   "outputs": [],
   "source": [
    "*************************************************************************************"
   ]
  },
  {
   "cell_type": "code",
   "execution_count": null,
   "id": "3e15dbaf",
   "metadata": {},
   "outputs": [],
   "source": [
    "Ques 10 : Write a Python program to Cloning or Copying a list?"
   ]
  },
  {
   "cell_type": "code",
   "execution_count": 49,
   "id": "7cd2c7d3",
   "metadata": {},
   "outputs": [
    {
     "name": "stdout",
     "output_type": "stream",
     "text": [
      "Original list: [1, 2, 3, 4, 5]\n",
      "Cloned list: [1, 2, 3, 4, 5]\n"
     ]
    }
   ],
   "source": [
    "original_list = [1, 2, 3, 4, 5]\n",
    "cloned_list = original_list[:]\n",
    "\n",
    "print(\"Original list:\", original_list)\n",
    "print(\"Cloned list:\", cloned_list)"
   ]
  },
  {
   "cell_type": "code",
   "execution_count": null,
   "id": "92eafda5",
   "metadata": {},
   "outputs": [],
   "source": [
    "*************************************************************************************"
   ]
  },
  {
   "cell_type": "code",
   "execution_count": null,
   "id": "f118174f",
   "metadata": {},
   "outputs": [],
   "source": [
    "11. Write a Python program to Count occurrences of an element in a list?"
   ]
  },
  {
   "cell_type": "code",
   "execution_count": 51,
   "id": "a54a9f60",
   "metadata": {},
   "outputs": [],
   "source": [
    "def occu_count(list,element):\n",
    "    count = 0\n",
    "    for i in list:\n",
    "        if i ==element:\n",
    "            count+=1\n",
    "    return count"
   ]
  },
  {
   "cell_type": "code",
   "execution_count": 54,
   "id": "54000ed2",
   "metadata": {},
   "outputs": [],
   "source": [
    "list = [1, 2, 3, 4, 5, 2, 2, 3,2,2]"
   ]
  },
  {
   "cell_type": "code",
   "execution_count": 55,
   "id": "ef701131",
   "metadata": {},
   "outputs": [
    {
     "data": {
      "text/plain": [
       "5"
      ]
     },
     "execution_count": 55,
     "metadata": {},
     "output_type": "execute_result"
    }
   ],
   "source": [
    "occu_count(list,2)"
   ]
  },
  {
   "cell_type": "code",
   "execution_count": null,
   "id": "4915b651",
   "metadata": {},
   "outputs": [],
   "source": []
  }
 ],
 "metadata": {
  "kernelspec": {
   "display_name": "Python 3 (ipykernel)",
   "language": "python",
   "name": "python3"
  },
  "language_info": {
   "codemirror_mode": {
    "name": "ipython",
    "version": 3
   },
   "file_extension": ".py",
   "mimetype": "text/x-python",
   "name": "python",
   "nbconvert_exporter": "python",
   "pygments_lexer": "ipython3",
   "version": "3.9.13"
  }
 },
 "nbformat": 4,
 "nbformat_minor": 5
}
