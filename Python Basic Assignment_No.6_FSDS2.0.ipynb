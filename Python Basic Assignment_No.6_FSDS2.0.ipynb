{
 "cells": [
  {
   "cell_type": "code",
   "execution_count": null,
   "id": "d09e6719",
   "metadata": {},
   "outputs": [],
   "source": [
    "Ques 1 :  What are escape characters, and how do you use them?"
   ]
  },
  {
   "cell_type": "code",
   "execution_count": null,
   "id": "b00c6b6a",
   "metadata": {},
   "outputs": [],
   "source": [
    "Ans :Escape characters are represented in python by backlash() and after that letter is use "
   ]
  },
  {
   "cell_type": "code",
   "execution_count": 1,
   "id": "a39bc91b",
   "metadata": {},
   "outputs": [
    {
     "name": "stdout",
     "output_type": "stream",
     "text": [
      "Hellow\n",
      "world\n"
     ]
    }
   ],
   "source": [
    "print (\"Hellow\\nworld\") # \\n use for newline "
   ]
  },
  {
   "cell_type": "code",
   "execution_count": null,
   "id": "3db74dec",
   "metadata": {},
   "outputs": [],
   "source": [
    "\\n for newline\n",
    "\\t for tab\n",
    "\\\\ represent backlash\n",
    "\\' represent single quote \n",
    "\\\" represent double quote "
   ]
  },
  {
   "cell_type": "code",
   "execution_count": null,
   "id": "95a8d615",
   "metadata": {},
   "outputs": [],
   "source": [
    "----------------------------------------------------------------------------------------------------------------------------"
   ]
  },
  {
   "cell_type": "code",
   "execution_count": null,
   "id": "fd95c722",
   "metadata": {},
   "outputs": [],
   "source": [
    "Ques 2 : What do the escape characters n and t stand for?"
   ]
  },
  {
   "cell_type": "code",
   "execution_count": null,
   "id": "c89bcf24",
   "metadata": {},
   "outputs": [],
   "source": [
    "\\n for newline\n",
    "\\t for tab"
   ]
  },
  {
   "cell_type": "code",
   "execution_count": 2,
   "id": "9a2f26a9",
   "metadata": {},
   "outputs": [
    {
     "name": "stdout",
     "output_type": "stream",
     "text": [
      "Hellow\n",
      "world\n",
      "Hellow\tworld\n"
     ]
    }
   ],
   "source": [
    "print (\"Hellow\\nworld\")\n",
    "print (\"Hellow\\tworld\")"
   ]
  },
  {
   "cell_type": "code",
   "execution_count": null,
   "id": "82b88a0e",
   "metadata": {},
   "outputs": [],
   "source": [
    "----------------------------------------------------------------------------------------------------------------------------"
   ]
  },
  {
   "cell_type": "code",
   "execution_count": null,
   "id": "19c68d42",
   "metadata": {},
   "outputs": [],
   "source": [
    "Ques 3 : What is the way to include backslash characters in a string?"
   ]
  },
  {
   "cell_type": "code",
   "execution_count": null,
   "id": "2dd083da",
   "metadata": {},
   "outputs": [],
   "source": [
    "ans : The \\ escape character will represent a backslash character."
   ]
  },
  {
   "cell_type": "code",
   "execution_count": null,
   "id": "fd909141",
   "metadata": {},
   "outputs": [],
   "source": [
    "----------------------------------------------------------------------------------------------------------------------------"
   ]
  },
  {
   "cell_type": "code",
   "execution_count": null,
   "id": "c6cb3208",
   "metadata": {},
   "outputs": [],
   "source": [
    "Ques 4 : The string \"Howl's Moving Castle\" is a correct value. Why isn't the single quote character in the word Howl's not escaped a problem?"
   ]
  },
  {
   "cell_type": "code",
   "execution_count": null,
   "id": "a9afee36",
   "metadata": {},
   "outputs": [],
   "source": [
    "Ans: The single quote in Howl's is fine because we have used double quotes to mark the beginning and end of the string."
   ]
  },
  {
   "cell_type": "code",
   "execution_count": null,
   "id": "1c96804a",
   "metadata": {},
   "outputs": [],
   "source": [
    "---------------------------------------------------------------------------------------------------------------------------"
   ]
  },
  {
   "cell_type": "code",
   "execution_count": null,
   "id": "dfadb214",
   "metadata": {},
   "outputs": [],
   "source": [
    "Ques 5 :How do you write a string of newlines if you don't want to use the n character?"
   ]
  },
  {
   "cell_type": "code",
   "execution_count": null,
   "id": "16a3b72a",
   "metadata": {},
   "outputs": [],
   "source": [
    "Ans: Multiline strings allow us to use newlines in strings without the \\n escape character."
   ]
  },
  {
   "cell_type": "code",
   "execution_count": 6,
   "id": "5e91f52c",
   "metadata": {},
   "outputs": [
    {
     "name": "stdout",
     "output_type": "stream",
     "text": [
      "Hello\n",
      "This is\n",
      "from,\n",
      "Tech tutorials.\n"
     ]
    }
   ],
   "source": [
    "my = \"\"\"Hello\n",
    "This is\n",
    "from,\n",
    "Tech tutorials.\"\"\"\n",
    "\n",
    "print(my)"
   ]
  },
  {
   "cell_type": "code",
   "execution_count": null,
   "id": "7f810ec6",
   "metadata": {},
   "outputs": [],
   "source": [
    "---------------------------------------------------------------------------------------------------------------------------"
   ]
  },
  {
   "cell_type": "code",
   "execution_count": null,
   "id": "afb22e02",
   "metadata": {},
   "outputs": [],
   "source": [
    "Ques 6 :What are the values of the given expressions?\n",
    "\n",
    "'Hello, world!'[1]\n",
    "'Hello, world!'[0:5]\n",
    "'Hello, world!'[:5]\n",
    "'Hello, world!'[3:]"
   ]
  },
  {
   "cell_type": "code",
   "execution_count": 7,
   "id": "7e4a1a48",
   "metadata": {},
   "outputs": [
    {
     "data": {
      "text/plain": [
       "'e'"
      ]
     },
     "execution_count": 7,
     "metadata": {},
     "output_type": "execute_result"
    }
   ],
   "source": [
    "'Hello, world!'[1]"
   ]
  },
  {
   "cell_type": "code",
   "execution_count": 8,
   "id": "f7bb4d02",
   "metadata": {},
   "outputs": [
    {
     "data": {
      "text/plain": [
       "'Hello'"
      ]
     },
     "execution_count": 8,
     "metadata": {},
     "output_type": "execute_result"
    }
   ],
   "source": [
    "'Hello, world!'[0:5]"
   ]
  },
  {
   "cell_type": "code",
   "execution_count": 9,
   "id": "0a991833",
   "metadata": {},
   "outputs": [
    {
     "data": {
      "text/plain": [
       "'Hello'"
      ]
     },
     "execution_count": 9,
     "metadata": {},
     "output_type": "execute_result"
    }
   ],
   "source": [
    "'Hello, world!'[:5]"
   ]
  },
  {
   "cell_type": "code",
   "execution_count": 10,
   "id": "9167d614",
   "metadata": {},
   "outputs": [
    {
     "data": {
      "text/plain": [
       "'lo, world!'"
      ]
     },
     "execution_count": 10,
     "metadata": {},
     "output_type": "execute_result"
    }
   ],
   "source": [
    "'Hello, world!'[3:]"
   ]
  },
  {
   "cell_type": "code",
   "execution_count": null,
   "id": "cbf1c137",
   "metadata": {},
   "outputs": [],
   "source": [
    "---------------------------------------------------------------------------------------------------------------------------"
   ]
  },
  {
   "cell_type": "code",
   "execution_count": null,
   "id": "8befd36b",
   "metadata": {},
   "outputs": [],
   "source": [
    "Ques 7 : What are the values of the following expressions?\n",
    "\n",
    "'Hello'.upper()\n",
    "'Hello'.upper().isupper()\n",
    "'Hello'.upper().lower()"
   ]
  },
  {
   "cell_type": "code",
   "execution_count": 11,
   "id": "0f7f6305",
   "metadata": {},
   "outputs": [
    {
     "data": {
      "text/plain": [
       "'HELLO'"
      ]
     },
     "execution_count": 11,
     "metadata": {},
     "output_type": "execute_result"
    }
   ],
   "source": [
    "'Hello'.upper()"
   ]
  },
  {
   "cell_type": "code",
   "execution_count": 12,
   "id": "bdbc5b82",
   "metadata": {},
   "outputs": [
    {
     "data": {
      "text/plain": [
       "True"
      ]
     },
     "execution_count": 12,
     "metadata": {},
     "output_type": "execute_result"
    }
   ],
   "source": [
    "'Hello'.upper().isupper()"
   ]
  },
  {
   "cell_type": "code",
   "execution_count": 13,
   "id": "cdcde574",
   "metadata": {},
   "outputs": [
    {
     "data": {
      "text/plain": [
       "'hello'"
      ]
     },
     "execution_count": 13,
     "metadata": {},
     "output_type": "execute_result"
    }
   ],
   "source": [
    "'Hello'.upper().lower()"
   ]
  },
  {
   "cell_type": "code",
   "execution_count": null,
   "id": "e87ecf98",
   "metadata": {},
   "outputs": [],
   "source": [
    "---------------------------------------------------------------------------------------------------------------------------"
   ]
  },
  {
   "cell_type": "code",
   "execution_count": null,
   "id": "c0729726",
   "metadata": {},
   "outputs": [],
   "source": [
    "Ques 8 : What are the values of the following expressions?\n",
    "\n",
    "'Remember, remember, the fifth of July.'.split()\n",
    "'-'.join('There can only one.'.split())"
   ]
  },
  {
   "cell_type": "code",
   "execution_count": 14,
   "id": "102282de",
   "metadata": {},
   "outputs": [
    {
     "data": {
      "text/plain": [
       "['Remember,', 'remember,', 'the', 'fifth', 'of', 'July.']"
      ]
     },
     "execution_count": 14,
     "metadata": {},
     "output_type": "execute_result"
    }
   ],
   "source": [
    "'Remember, remember, the fifth of July.'.split() # split by using '"
   ]
  },
  {
   "cell_type": "code",
   "execution_count": 18,
   "id": "8e58352e",
   "metadata": {},
   "outputs": [
    {
     "data": {
      "text/plain": [
       "'There-can-only-one.'"
      ]
     },
     "execution_count": 18,
     "metadata": {},
     "output_type": "execute_result"
    }
   ],
   "source": [
    "'-'.join('There can only one.'.split()) # split by using -"
   ]
  },
  {
   "cell_type": "code",
   "execution_count": null,
   "id": "38035959",
   "metadata": {},
   "outputs": [],
   "source": [
    "------------------------------------------------------------------------------------------------------------------------------"
   ]
  },
  {
   "cell_type": "code",
   "execution_count": null,
   "id": "8b69dac4",
   "metadata": {},
   "outputs": [],
   "source": [
    "Ques 9 :What are the methods for right-justifying, left-justifying, and centering a string?"
   ]
  },
  {
   "cell_type": "code",
   "execution_count": null,
   "id": "293fdacf",
   "metadata": {},
   "outputs": [],
   "source": [
    "The rjust(), ljust(), and center() string methods, respectively are the methods for right-justifying, left-justifying, and centering a string"
   ]
  },
  {
   "cell_type": "code",
   "execution_count": 28,
   "id": "19569b7a",
   "metadata": {},
   "outputs": [],
   "source": [
    "a = \"ineuron\""
   ]
  },
  {
   "cell_type": "code",
   "execution_count": 30,
   "id": "7ff67934",
   "metadata": {},
   "outputs": [
    {
     "data": {
      "text/plain": [
       "'*************ineuron'"
      ]
     },
     "execution_count": 30,
     "metadata": {},
     "output_type": "execute_result"
    }
   ],
   "source": [
    "a.rjust(20,\"*\")"
   ]
  },
  {
   "cell_type": "code",
   "execution_count": 31,
   "id": "afc59d01",
   "metadata": {},
   "outputs": [
    {
     "data": {
      "text/plain": [
       "'ineuron*************'"
      ]
     },
     "execution_count": 31,
     "metadata": {},
     "output_type": "execute_result"
    }
   ],
   "source": [
    "a.ljust(20,\"*\")"
   ]
  },
  {
   "cell_type": "code",
   "execution_count": 32,
   "id": "dbc2e3c7",
   "metadata": {},
   "outputs": [
    {
     "data": {
      "text/plain": [
       "'******ineuron*******'"
      ]
     },
     "execution_count": 32,
     "metadata": {},
     "output_type": "execute_result"
    }
   ],
   "source": [
    "a.center(20,\"*\")"
   ]
  },
  {
   "cell_type": "code",
   "execution_count": null,
   "id": "fb22c8a3",
   "metadata": {},
   "outputs": [],
   "source": [
    "--------------------------------------------------------------------------------------------------------------------------"
   ]
  },
  {
   "cell_type": "code",
   "execution_count": null,
   "id": "ac030c83",
   "metadata": {},
   "outputs": [],
   "source": [
    "Ques 10 : What is the best way to remove whitespace characters from the start or end?"
   ]
  },
  {
   "cell_type": "code",
   "execution_count": null,
   "id": "1b8a05d4",
   "metadata": {},
   "outputs": [],
   "source": [
    "Ans : The lstrip() and rstrip() methods remove whitespace from the left and right ends of a string, respectively."
   ]
  },
  {
   "cell_type": "code",
   "execution_count": 34,
   "id": "7b0b355e",
   "metadata": {},
   "outputs": [],
   "source": [
    "x=\"       ineuron       \""
   ]
  },
  {
   "cell_type": "code",
   "execution_count": 35,
   "id": "ed7c16ec",
   "metadata": {},
   "outputs": [
    {
     "data": {
      "text/plain": [
       "'ineuron       '"
      ]
     },
     "execution_count": 35,
     "metadata": {},
     "output_type": "execute_result"
    }
   ],
   "source": [
    "x.lstrip()"
   ]
  },
  {
   "cell_type": "code",
   "execution_count": 36,
   "id": "7c3d5f01",
   "metadata": {},
   "outputs": [
    {
     "data": {
      "text/plain": [
       "'       ineuron'"
      ]
     },
     "execution_count": 36,
     "metadata": {},
     "output_type": "execute_result"
    }
   ],
   "source": [
    "x.rstrip()"
   ]
  },
  {
   "cell_type": "code",
   "execution_count": null,
   "id": "0b80e941",
   "metadata": {},
   "outputs": [],
   "source": [
    "---------------------------------------------------------------------------------------------------------------------------"
   ]
  },
  {
   "cell_type": "code",
   "execution_count": null,
   "id": "fa336154",
   "metadata": {},
   "outputs": [],
   "source": []
  },
  {
   "cell_type": "code",
   "execution_count": null,
   "id": "f2060775",
   "metadata": {},
   "outputs": [],
   "source": []
  },
  {
   "cell_type": "code",
   "execution_count": null,
   "id": "b2ab9b8b",
   "metadata": {},
   "outputs": [],
   "source": []
  },
  {
   "cell_type": "code",
   "execution_count": null,
   "id": "ce177c89",
   "metadata": {},
   "outputs": [],
   "source": []
  }
 ],
 "metadata": {
  "kernelspec": {
   "display_name": "Python 3 (ipykernel)",
   "language": "python",
   "name": "python3"
  },
  "language_info": {
   "codemirror_mode": {
    "name": "ipython",
    "version": 3
   },
   "file_extension": ".py",
   "mimetype": "text/x-python",
   "name": "python",
   "nbconvert_exporter": "python",
   "pygments_lexer": "ipython3",
   "version": "3.9.12"
  }
 },
 "nbformat": 4,
 "nbformat_minor": 5
}
