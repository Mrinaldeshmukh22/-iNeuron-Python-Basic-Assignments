{
 "cells": [
  {
   "cell_type": "code",
   "execution_count": null,
   "id": "30557ec6",
   "metadata": {},
   "outputs": [],
   "source": [
    "Ques 1 : Create a function that takes an integer and returns a list from 1 to the given number, where:\n",
    "\n",
    "If the number can be divided evenly by 4, amplify it by 10 (i.e. return 10 times the number).\n",
    "If the number cannot be divided evenly by 4, simply return the number."
   ]
  },
  {
   "cell_type": "code",
   "execution_count": 5,
   "id": "bb6ec59b",
   "metadata": {},
   "outputs": [],
   "source": [
    "def amplify_10(x):\n",
    "    l = []\n",
    "    for i in range(x+1):\n",
    "        if i%4==0:\n",
    "            l.append(i*10)\n",
    "        else:\n",
    "            l.append(i)\n",
    "    return l"
   ]
  },
  {
   "cell_type": "code",
   "execution_count": 7,
   "id": "f7ad2709",
   "metadata": {},
   "outputs": [
    {
     "data": {
      "text/plain": [
       "[0, 1, 2, 3, 40, 5, 6, 7, 80, 9, 10, 11, 120, 13, 14, 15, 160, 17, 18, 19, 200]"
      ]
     },
     "execution_count": 7,
     "metadata": {},
     "output_type": "execute_result"
    }
   ],
   "source": [
    "amplify_10(20)"
   ]
  },
  {
   "cell_type": "code",
   "execution_count": null,
   "id": "13ff07ca",
   "metadata": {},
   "outputs": [],
   "source": [
    "*****************************************************************************"
   ]
  },
  {
   "cell_type": "code",
   "execution_count": null,
   "id": "68e71dbe",
   "metadata": {},
   "outputs": [],
   "source": [
    "Ques 2 : Create a function that takes a list of numbers and return the number that's unique."
   ]
  },
  {
   "cell_type": "code",
   "execution_count": 19,
   "id": "462b0dc6",
   "metadata": {},
   "outputs": [],
   "source": [
    "from collections import Counter\n",
    "def unique(l):\n",
    "    s=Counter(l)\n",
    "    for i in s:\n",
    "        if s[i]==1:\n",
    "            return i"
   ]
  },
  {
   "cell_type": "code",
   "execution_count": 24,
   "id": "65daf683",
   "metadata": {},
   "outputs": [
    {
     "data": {
      "text/plain": [
       "7"
      ]
     },
     "execution_count": 24,
     "metadata": {},
     "output_type": "execute_result"
    }
   ],
   "source": [
    "unique([3, 3, 3, 7, 3, 3])"
   ]
  },
  {
   "cell_type": "code",
   "execution_count": 25,
   "id": "9c01265b",
   "metadata": {},
   "outputs": [
    {
     "data": {
      "text/plain": [
       "0.77"
      ]
     },
     "execution_count": 25,
     "metadata": {},
     "output_type": "execute_result"
    }
   ],
   "source": [
    "unique([0, 0, 0.77, 0, 0]) "
   ]
  },
  {
   "cell_type": "code",
   "execution_count": null,
   "id": "85e0fd59",
   "metadata": {},
   "outputs": [],
   "source": [
    "*****************************************************************************"
   ]
  },
  {
   "cell_type": "code",
   "execution_count": null,
   "id": "6528e9d4",
   "metadata": {},
   "outputs": [],
   "source": [
    "Ques 3 : Your task is to create a Circle constructor that creates a circle with a radius provided by an argument. The circles constructed must have two getters getArea() (PIr^2) and getPerimeter() (2PI*r) which give both respective areas and perimeter (circumference)."
   ]
  },
  {
   "cell_type": "code",
   "execution_count": 26,
   "id": "3c1bb092",
   "metadata": {},
   "outputs": [],
   "source": [
    "class circle:\n",
    "    def __init__(self,radius):\n",
    "        self.radius=radius \n",
    "    def getArea(self):\n",
    "        return (round(3.14*self.radius*self.radius))\n",
    "    def getPerimeter(self):\n",
    "        return (round(2*3.14*self.radius))"
   ]
  },
  {
   "cell_type": "code",
   "execution_count": 28,
   "id": "916f13df",
   "metadata": {},
   "outputs": [
    {
     "data": {
      "text/plain": [
       "380"
      ]
     },
     "execution_count": 28,
     "metadata": {},
     "output_type": "execute_result"
    }
   ],
   "source": [
    "circy = circle(11)\n",
    "circy.getArea()"
   ]
  },
  {
   "cell_type": "code",
   "execution_count": 29,
   "id": "785e44b6",
   "metadata": {},
   "outputs": [
    {
     "data": {
      "text/plain": [
       "28"
      ]
     },
     "execution_count": 29,
     "metadata": {},
     "output_type": "execute_result"
    }
   ],
   "source": [
    "circy = circle(4.44)\n",
    "circy.getPerimeter()"
   ]
  },
  {
   "cell_type": "code",
   "execution_count": null,
   "id": "6052e3ad",
   "metadata": {},
   "outputs": [],
   "source": [
    "*****************************************************************************"
   ]
  },
  {
   "cell_type": "code",
   "execution_count": null,
   "id": "afc83375",
   "metadata": {},
   "outputs": [],
   "source": [
    "Ques 4: Create a function that takes a list of strings and return a list, sorted from shortest to longest."
   ]
  },
  {
   "cell_type": "code",
   "execution_count": 30,
   "id": "4afeea0b",
   "metadata": {},
   "outputs": [],
   "source": [
    "def sort_by_length(l):\n",
    "    l.sort(key=len)\n",
    "    return l"
   ]
  },
  {
   "cell_type": "code",
   "execution_count": 31,
   "id": "ca44254f",
   "metadata": {},
   "outputs": [
    {
     "data": {
      "text/plain": [
       "['Apple', 'Google', 'Microsoft']"
      ]
     },
     "execution_count": 31,
     "metadata": {},
     "output_type": "execute_result"
    }
   ],
   "source": [
    "sort_by_length([\"Google\", \"Apple\", \"Microsoft\"])"
   ]
  },
  {
   "cell_type": "code",
   "execution_count": 32,
   "id": "308023a0",
   "metadata": {},
   "outputs": [
    {
     "data": {
      "text/plain": [
       "['Raphael', 'Leonardo', 'Donatello', 'Michelangelo']"
      ]
     },
     "execution_count": 32,
     "metadata": {},
     "output_type": "execute_result"
    }
   ],
   "source": [
    "sort_by_length([\"Leonardo\", \"Michelangelo\", \"Raphael\", \"Donatello\"])"
   ]
  },
  {
   "cell_type": "code",
   "execution_count": 33,
   "id": "a1d90e25",
   "metadata": {},
   "outputs": [
    {
     "data": {
      "text/plain": [
       "['Jung', 'Turing', 'Einstein']"
      ]
     },
     "execution_count": 33,
     "metadata": {},
     "output_type": "execute_result"
    }
   ],
   "source": [
    "sort_by_length([\"Turing\", \"Einstein\", \"Jung\"])"
   ]
  },
  {
   "cell_type": "code",
   "execution_count": null,
   "id": "2cfded92",
   "metadata": {},
   "outputs": [],
   "source": [
    "*****************************************************************************"
   ]
  },
  {
   "cell_type": "code",
   "execution_count": null,
   "id": "e4e82ddc",
   "metadata": {},
   "outputs": [],
   "source": [
    "Create a function that validates whether three given integers form a Pythagorean triplet. The sum of the squares of the two smallest integers must equal the square of the largest number to be validated."
   ]
  },
  {
   "cell_type": "code",
   "execution_count": 34,
   "id": "c56013bc",
   "metadata": {},
   "outputs": [],
   "source": [
    "def is_triplet(a,b,c) :\n",
    "    l=[a,b,c]\n",
    "    l.sort()\n",
    "    if ( l[0]*l[0]+l[1]*l[1]==l[2]*l[2]):\n",
    "        return True\n",
    "    else:\n",
    "        return False"
   ]
  },
  {
   "cell_type": "code",
   "execution_count": 35,
   "id": "ec7d1c97",
   "metadata": {},
   "outputs": [
    {
     "data": {
      "text/plain": [
       "True"
      ]
     },
     "execution_count": 35,
     "metadata": {},
     "output_type": "execute_result"
    }
   ],
   "source": [
    "is_triplet(3, 4, 5) "
   ]
  },
  {
   "cell_type": "code",
   "execution_count": 36,
   "id": "57a786c4",
   "metadata": {},
   "outputs": [
    {
     "data": {
      "text/plain": [
       "False"
      ]
     },
     "execution_count": 36,
     "metadata": {},
     "output_type": "execute_result"
    }
   ],
   "source": [
    "is_triplet(1, 2, 3) "
   ]
  },
  {
   "cell_type": "code",
   "execution_count": null,
   "id": "078dc484",
   "metadata": {},
   "outputs": [],
   "source": []
  }
 ],
 "metadata": {
  "kernelspec": {
   "display_name": "Python 3 (ipykernel)",
   "language": "python",
   "name": "python3"
  },
  "language_info": {
   "codemirror_mode": {
    "name": "ipython",
    "version": 3
   },
   "file_extension": ".py",
   "mimetype": "text/x-python",
   "name": "python",
   "nbconvert_exporter": "python",
   "pygments_lexer": "ipython3",
   "version": "3.9.13"
  }
 },
 "nbformat": 4,
 "nbformat_minor": 5
}
