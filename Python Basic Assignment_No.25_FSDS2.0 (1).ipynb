{
 "cells": [
  {
   "cell_type": "code",
   "execution_count": null,
   "id": "008e9786",
   "metadata": {},
   "outputs": [],
   "source": [
    "Ques 1):  What is the difference between enclosing a list comprehension in square brackets and\n",
    "parentheses?"
   ]
  },
  {
   "cell_type": "code",
   "execution_count": 5,
   "id": "5e444dae",
   "metadata": {},
   "outputs": [
    {
     "name": "stdout",
     "output_type": "stream",
     "text": [
      "[0, 1, 2, 3, 4, 5, 6, 7, 8, 9] <class 'list'>\n"
     ]
    }
   ],
   "source": [
    "l = [i for i in range(10)]\n",
    "print(l, type(l))"
   ]
  },
  {
   "cell_type": "code",
   "execution_count": 6,
   "id": "004fa9f1",
   "metadata": {},
   "outputs": [
    {
     "name": "stdout",
     "output_type": "stream",
     "text": [
      "<generator object <genexpr> at 0x00000254E40B0E40> <class 'generator'>\n"
     ]
    }
   ],
   "source": [
    "g = (i for i in range(10))\n",
    "print(g, type(g))"
   ]
  },
  {
   "cell_type": "code",
   "execution_count": null,
   "id": "5f7b2ae8",
   "metadata": {},
   "outputs": [],
   "source": [
    "Ans : Enclosing a list comprehension in square brackets returns a list.\n",
    "    but where as enclosing a list comprehension in parentheses returns a generator object"
   ]
  },
  {
   "cell_type": "code",
   "execution_count": null,
   "id": "0f2963eb",
   "metadata": {},
   "outputs": [],
   "source": [
    "--------------------------------------------------------------------------------------------------------------------------"
   ]
  },
  {
   "cell_type": "code",
   "execution_count": null,
   "id": "9db99554",
   "metadata": {},
   "outputs": [],
   "source": [
    "Ques : 2) What is the relationship between generators and iterators?"
   ]
  },
  {
   "cell_type": "code",
   "execution_count": null,
   "id": "18b069bb",
   "metadata": {},
   "outputs": [],
   "source": [
    "Ans: An iterator is an object which contains a countable number of values \n",
    "    and it is used to iterate over iterable objects like list, tuples, sets, etc. \n",
    "    Iterators are implemented using a class. It follows lazy evaluation \n",
    "    where the evaluation of the expression will be on hold and stored in the memory until the item is called specifically which helps us to avoid repeated evaluation. \n",
    "    As lazy evaluation is implemented, it requires only 1 memory location to process the value and when we are using a large dataset then, wastage of RAM space will be reduced the need to load the entire dataset at the same time will not be there.\n",
    "    \n",
    "    For an iterator: iter() keyword is used to create an iterator containing an iterable object.next() keyword is used to call the next element in the iterable object.\n",
    "    Similarly Generators are an another way of creating iterators in a simple way where it uses the keyword yield statement instead of return statement in a defined function.\n",
    "    Generators are implemented using a function. Just as iterators, generators also follow lazy evaluation. \n",
    "    Here, the yield function returns the data without affecting or exiting the function. \n",
    "    It will return a sequence of data in an iterable format where we need to iterate over the sequence to use the data as they won’t store the entire sequence in the memory."
   ]
  },
  {
   "cell_type": "code",
   "execution_count": null,
   "id": "c2984d00",
   "metadata": {},
   "outputs": [],
   "source": [
    "-------------------------------------------------------------------------------------------------------------------------"
   ]
  },
  {
   "cell_type": "code",
   "execution_count": null,
   "id": "756603bc",
   "metadata": {},
   "outputs": [],
   "source": [
    "Ques 3 :  What are the signs that a function is a generator function?"
   ]
  },
  {
   "cell_type": "code",
   "execution_count": null,
   "id": "8d8eb7ba",
   "metadata": {},
   "outputs": [],
   "source": [
    "Ans : A generator function uses a yield statement instead of a return statement. \n",
    "A generator function will always return a iterable object called generator and we iterate it using for loop\n",
    "where as a normal function can return a string/list/tuple/dict/NoneType ... etc"
   ]
  },
  {
   "cell_type": "code",
   "execution_count": null,
   "id": "13e3e234",
   "metadata": {},
   "outputs": [],
   "source": [
    "------------------------------------------------------------------------------------------------------------------------"
   ]
  },
  {
   "cell_type": "code",
   "execution_count": null,
   "id": "4478af14",
   "metadata": {},
   "outputs": [],
   "source": [
    "Ques 4  : What is the purpose of a yield statement?"
   ]
  },
  {
   "cell_type": "code",
   "execution_count": null,
   "id": "8c435192",
   "metadata": {},
   "outputs": [],
   "source": [
    "Ans : The yield statement suspends function’s execution and sends a value back to the caller, but retains enough state to enable function to resume where it is left off. \n",
    "    When resumed, the function continues execution immediately after the last yield run. This allows its code to produce a series of values over time, \n",
    "    rather than computing them at once and sending them back like a list."
   ]
  },
  {
   "cell_type": "code",
   "execution_count": null,
   "id": "1071c588",
   "metadata": {},
   "outputs": [],
   "source": [
    "--------------------------------------------------------------------------------------------------------------------"
   ]
  },
  {
   "cell_type": "code",
   "execution_count": null,
   "id": "f8ff58bf",
   "metadata": {},
   "outputs": [],
   "source": [
    "Ques 5 : What is the relationship between map calls and list comprehensions? Make a comparison and contrast between the two ?"
   ]
  },
  {
   "cell_type": "code",
   "execution_count": null,
   "id": "03446946",
   "metadata": {},
   "outputs": [],
   "source": [
    "Ans: The main differences between map calls and list comprehensiosn are:\n",
    "\n",
    "List comprehension is more concise and easier to read as compared to map. \n",
    "List comprehension allows filtering. In map, we have no such facility. \n",
    "For example, to print all odd numbers in range of 50, we can write [n for n in range(50) if n%2 != 0]. \n",
    "There is no alternate for it in map List comprehension are used when a list of results is required as final output.\n",
    "but map only returns a map object. \n",
    "it needs to be explicitly coverted to desired datatype. \n",
    "List comprehension is faster than map when we need to evaluate expressions that are too long or complicated to express Map is faster in case of calling an already defined function on a set of values."
   ]
  },
  {
   "cell_type": "code",
   "execution_count": null,
   "id": "28b6f542",
   "metadata": {},
   "outputs": [],
   "source": [
    "--------------------------------------------------------------------------------------------------------------------------------"
   ]
  },
  {
   "cell_type": "code",
   "execution_count": null,
   "id": "4896ee74",
   "metadata": {},
   "outputs": [],
   "source": []
  }
 ],
 "metadata": {
  "kernelspec": {
   "display_name": "Python 3 (ipykernel)",
   "language": "python",
   "name": "python3"
  },
  "language_info": {
   "codemirror_mode": {
    "name": "ipython",
    "version": 3
   },
   "file_extension": ".py",
   "mimetype": "text/x-python",
   "name": "python",
   "nbconvert_exporter": "python",
   "pygments_lexer": "ipython3",
   "version": "3.9.13"
  }
 },
 "nbformat": 4,
 "nbformat_minor": 5
}
