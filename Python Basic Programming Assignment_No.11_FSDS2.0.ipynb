{
 "cells": [
  {
   "cell_type": "code",
   "execution_count": null,
   "id": "77c2cec3",
   "metadata": {},
   "outputs": [],
   "source": [
    "1. Write a Python program to find words which are greater than given length k?"
   ]
  },
  {
   "cell_type": "code",
   "execution_count": 1,
   "id": "4108a06b",
   "metadata": {},
   "outputs": [],
   "source": [
    "def func1(str ,k ):\n",
    "    l=[]\n",
    "    for i in str.split():\n",
    "        if len(i) > k:\n",
    "            l.append(i)\n",
    "    return l"
   ]
  },
  {
   "cell_type": "code",
   "execution_count": 10,
   "id": "c5652151",
   "metadata": {},
   "outputs": [
    {
     "data": {
      "text/plain": [
       "['Asssignment', 'python']"
      ]
     },
     "execution_count": 10,
     "metadata": {},
     "output_type": "execute_result"
    }
   ],
   "source": [
    "func1('Asssignment no 11 of python ' ,2)"
   ]
  },
  {
   "cell_type": "code",
   "execution_count": null,
   "id": "ea781fa4",
   "metadata": {},
   "outputs": [],
   "source": [
    "**************************************************************************************************"
   ]
  },
  {
   "cell_type": "code",
   "execution_count": null,
   "id": "c3909dcc",
   "metadata": {},
   "outputs": [],
   "source": [
    "2. Write a Python program for removing i-th character from a string?"
   ]
  },
  {
   "cell_type": "code",
   "execution_count": 12,
   "id": "d6c827f5",
   "metadata": {},
   "outputs": [],
   "source": [
    "def remove(string, i):\n",
    "  \n",
    "    # Characters before the i-th indexed\n",
    "    # is stored in a variable a\n",
    "    a = string[: i]\n",
    "  \n",
    "    # Characters after the nth indexed\n",
    "    # is stored in a variable b\n",
    "    b = string[i + 1:]\n",
    "  \n",
    "    # Returning string after removing\n",
    "    # nth indexed character.\n",
    "    return a + b"
   ]
  },
  {
   "cell_type": "code",
   "execution_count": 14,
   "id": "0e80ebc8",
   "metadata": {},
   "outputs": [
    {
     "data": {
      "text/plain": [
       "'Mrnal'"
      ]
     },
     "execution_count": 14,
     "metadata": {},
     "output_type": "execute_result"
    }
   ],
   "source": [
    "remove(\"Mrinal\",2)"
   ]
  },
  {
   "cell_type": "code",
   "execution_count": null,
   "id": "e9b3337e",
   "metadata": {},
   "outputs": [],
   "source": [
    "**************************************************************************************************"
   ]
  },
  {
   "cell_type": "code",
   "execution_count": null,
   "id": "3cf0a7fc",
   "metadata": {},
   "outputs": [],
   "source": [
    "3. Write a Python program to split and join a string?"
   ]
  },
  {
   "cell_type": "code",
   "execution_count": 22,
   "id": "8a45c1aa",
   "metadata": {},
   "outputs": [],
   "source": [
    "def string_operation(s):\n",
    "    list_string=s.split(\" \")\n",
    "    print(\"Split string\" ,list_string)\n",
    "    join_string = \" \".join(list_string)\n",
    "    \n",
    "    return join_string"
   ]
  },
  {
   "cell_type": "code",
   "execution_count": 23,
   "id": "e573422b",
   "metadata": {},
   "outputs": [
    {
     "name": "stdout",
     "output_type": "stream",
     "text": [
      "Split string ['Mrinal', 'Deshmukh']\n"
     ]
    },
    {
     "data": {
      "text/plain": [
       "'Mrinal Deshmukh'"
      ]
     },
     "execution_count": 23,
     "metadata": {},
     "output_type": "execute_result"
    }
   ],
   "source": [
    "string_operation(\"Mrinal Deshmukh\")"
   ]
  },
  {
   "cell_type": "code",
   "execution_count": null,
   "id": "eaddcda4",
   "metadata": {},
   "outputs": [],
   "source": [
    "**************************************************************************************************"
   ]
  },
  {
   "cell_type": "code",
   "execution_count": null,
   "id": "d0211b6b",
   "metadata": {},
   "outputs": [],
   "source": [
    "4. Write a Python to check if a given string is binary string or not?"
   ]
  },
  {
   "cell_type": "code",
   "execution_count": 24,
   "id": "8b840d0f",
   "metadata": {},
   "outputs": [],
   "source": [
    "def is_binary_string(s):\n",
    "    for char in s:\n",
    "        if char not in ['0', '1']:\n",
    "            return False\n",
    "    return True"
   ]
  },
  {
   "cell_type": "code",
   "execution_count": 25,
   "id": "e4889b7a",
   "metadata": {},
   "outputs": [
    {
     "data": {
      "text/plain": [
       "False"
      ]
     },
     "execution_count": 25,
     "metadata": {},
     "output_type": "execute_result"
    }
   ],
   "source": [
    "is_binary_string(\"0190\")"
   ]
  },
  {
   "cell_type": "code",
   "execution_count": 27,
   "id": "3c20fd72",
   "metadata": {},
   "outputs": [
    {
     "data": {
      "text/plain": [
       "True"
      ]
     },
     "execution_count": 27,
     "metadata": {},
     "output_type": "execute_result"
    }
   ],
   "source": [
    "is_binary_string('0110101')"
   ]
  },
  {
   "cell_type": "code",
   "execution_count": 37,
   "id": "987a39e3",
   "metadata": {},
   "outputs": [],
   "source": [
    "def bi(s):\n",
    "    for i in s:\n",
    "        if i!=\"0\" and i!=\"1\":\n",
    "            return False\n",
    "    return True"
   ]
  },
  {
   "cell_type": "code",
   "execution_count": 38,
   "id": "e5718a47",
   "metadata": {},
   "outputs": [
    {
     "data": {
      "text/plain": [
       "False"
      ]
     },
     "execution_count": 38,
     "metadata": {},
     "output_type": "execute_result"
    }
   ],
   "source": [
    "bi(\"0190\")"
   ]
  },
  {
   "cell_type": "code",
   "execution_count": 39,
   "id": "a484277f",
   "metadata": {},
   "outputs": [
    {
     "data": {
      "text/plain": [
       "True"
      ]
     },
     "execution_count": 39,
     "metadata": {},
     "output_type": "execute_result"
    }
   ],
   "source": [
    "bi(\"0110101\")"
   ]
  },
  {
   "cell_type": "code",
   "execution_count": null,
   "id": "19daba68",
   "metadata": {},
   "outputs": [],
   "source": [
    "**************************************************************************************************"
   ]
  },
  {
   "cell_type": "code",
   "execution_count": null,
   "id": "9d01766e",
   "metadata": {},
   "outputs": [],
   "source": [
    "5. Write a Python program to find uncommon words from two Strings?"
   ]
  },
  {
   "cell_type": "code",
   "execution_count": 52,
   "id": "500ac55f",
   "metadata": {},
   "outputs": [],
   "source": [
    "def UncommonWords(A, B):\n",
    "    A=A.split()\n",
    "    B=B.split()\n",
    "    x = []\n",
    "    for i in A:\n",
    "        if i not in B:\n",
    "            x.append(i)\n",
    "    for i in B:\n",
    "        if i not in A:\n",
    "            x.append(i)\n",
    "    x=list(set(x))\n",
    "    \n",
    "    return x "
   ]
  },
  {
   "cell_type": "code",
   "execution_count": 53,
   "id": "725b9d43",
   "metadata": {},
   "outputs": [],
   "source": [
    "A= \"I am learning Python\"\n",
    "B= \"Python is imp for DS\""
   ]
  },
  {
   "cell_type": "code",
   "execution_count": 54,
   "id": "5f387995",
   "metadata": {},
   "outputs": [],
   "source": [
    "un=UncommonWords(A, B)"
   ]
  },
  {
   "cell_type": "code",
   "execution_count": 55,
   "id": "ef365976",
   "metadata": {},
   "outputs": [
    {
     "data": {
      "text/plain": [
       "['for', 'imp', 'is', 'am', 'DS', 'I', 'learning']"
      ]
     },
     "execution_count": 55,
     "metadata": {},
     "output_type": "execute_result"
    }
   ],
   "source": [
    "un"
   ]
  },
  {
   "cell_type": "code",
   "execution_count": null,
   "id": "471d30a9",
   "metadata": {},
   "outputs": [],
   "source": [
    "**************************************************************************************************"
   ]
  },
  {
   "cell_type": "code",
   "execution_count": null,
   "id": "eba72a8b",
   "metadata": {},
   "outputs": [],
   "source": [
    "6. Write a Python to find all duplicate characters in string?"
   ]
  },
  {
   "cell_type": "code",
   "execution_count": 60,
   "id": "bc84ca8c",
   "metadata": {},
   "outputs": [
    {
     "name": "stdout",
     "output_type": "stream",
     "text": [
      "learning\n",
      "The following characters are duplicates in the string: ['n']\n"
     ]
    }
   ],
   "source": [
    "string = input()\n",
    "duplicates = []\n",
    "\n",
    "for char in string:\n",
    "    # if the character appears more than once in the string\n",
    "    if string.count(char) > 1:\n",
    "        # if the character has not already been added to the duplicates list\n",
    "        if char not in duplicates:\n",
    "            # add the character to the duplicates list\n",
    "            duplicates.append(char)\n",
    "\n",
    "# print the list of duplicates\n",
    "print(\"The following characters are duplicates in the string:\", duplicates)"
   ]
  },
  {
   "cell_type": "code",
   "execution_count": null,
   "id": "9ac4ba02",
   "metadata": {},
   "outputs": [],
   "source": [
    "**************************************************************************************************"
   ]
  },
  {
   "cell_type": "code",
   "execution_count": null,
   "id": "6a4e734a",
   "metadata": {},
   "outputs": [],
   "source": [
    "7. Write a Python Program to check if a string contains any special character?"
   ]
  },
  {
   "cell_type": "code",
   "execution_count": 62,
   "id": "5161683e",
   "metadata": {},
   "outputs": [
    {
     "name": "stdout",
     "output_type": "stream",
     "text": [
      "True\n",
      "False\n"
     ]
    }
   ],
   "source": [
    "import re\n",
    "\n",
    "def is_special_char(string):\n",
    "    regex = re.compile('[@_!#$%^&*()<>?/\\|}{~:]') # set of special characters to check\n",
    "    return regex.search(string) is not None\n",
    "\n",
    "# example usage\n",
    "string_with_special_char = \"Hello, World!\"\n",
    "string_without_special_char = \"Hello World\"\n",
    "print(is_special_char(string_with_special_char)) \n",
    "print(is_special_char(string_without_special_char)) "
   ]
  },
  {
   "cell_type": "code",
   "execution_count": null,
   "id": "5b2821ad",
   "metadata": {},
   "outputs": [],
   "source": [
    "**************************************************************************************************"
   ]
  },
  {
   "cell_type": "code",
   "execution_count": null,
   "id": "a70abc0c",
   "metadata": {},
   "outputs": [],
   "source": []
  },
  {
   "cell_type": "code",
   "execution_count": null,
   "id": "a81a7d80",
   "metadata": {},
   "outputs": [],
   "source": []
  }
 ],
 "metadata": {
  "kernelspec": {
   "display_name": "Python 3 (ipykernel)",
   "language": "python",
   "name": "python3"
  },
  "language_info": {
   "codemirror_mode": {
    "name": "ipython",
    "version": 3
   },
   "file_extension": ".py",
   "mimetype": "text/x-python",
   "name": "python",
   "nbconvert_exporter": "python",
   "pygments_lexer": "ipython3",
   "version": "3.9.13"
  }
 },
 "nbformat": 4,
 "nbformat_minor": 5
}
