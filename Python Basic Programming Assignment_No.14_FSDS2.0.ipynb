{
 "cells": [
  {
   "cell_type": "code",
   "execution_count": null,
   "id": "b4fcd389",
   "metadata": {},
   "outputs": [],
   "source": [
    "Ques 1 :Define a class with a generator which can iterate the numbers, which are divisible by\n",
    "7, between a given range 0 and n."
   ]
  },
  {
   "cell_type": "code",
   "execution_count": 13,
   "id": "102b9cf8",
   "metadata": {},
   "outputs": [],
   "source": [
    "class divbyseven:\n",
    "    def __init__(self,n):\n",
    "        self.n=n\n",
    "        \n",
    "    def gener(self):\n",
    "        for i in range (self.n+1):\n",
    "            if i % 7==0:\n",
    "                yield i\n",
    "    "
   ]
  },
  {
   "cell_type": "code",
   "execution_count": 15,
   "id": "b22722ab",
   "metadata": {},
   "outputs": [],
   "source": [
    "a=s=divbyseven(50)"
   ]
  },
  {
   "cell_type": "code",
   "execution_count": 27,
   "id": "51f9198e",
   "metadata": {},
   "outputs": [
    {
     "name": "stdout",
     "output_type": "stream",
     "text": [
      "0\n",
      "7\n",
      "14\n",
      "21\n",
      "28\n",
      "35\n",
      "42\n",
      "49\n"
     ]
    }
   ],
   "source": [
    "b=a.gener()\n",
    "for i in b:\n",
    "    print (i)"
   ]
  },
  {
   "cell_type": "code",
   "execution_count": null,
   "id": "82a13d3e",
   "metadata": {},
   "outputs": [],
   "source": [
    "*************************************************************************"
   ]
  },
  {
   "cell_type": "code",
   "execution_count": null,
   "id": "ac9ce993",
   "metadata": {},
   "outputs": [],
   "source": [
    "Question 2: Write a program to compute the frequency of the words from the input. The output should output after sorting \n",
    "the key alphanumerically.Suppose the following input is supplied to the program:\n",
    "\n",
    "New to Python or choosing between Python 2 and Python 3? Read Python 2 or Python 3.\n",
    "\n",
    "Then, the output should be:\n",
    "\n",
    "2:2\n",
    "\n",
    "3.:1\n",
    "\n",
    "3?:1\n",
    "\n",
    "New:1\n",
    "\n",
    "Python:5\n",
    "\n",
    "Read:1\n",
    "\n",
    "and:1\n",
    "\n",
    "between:1\n",
    "\n",
    "choosing:1\n",
    "\n",
    "or:2\n",
    "\n",
    "to:1"
   ]
  },
  {
   "cell_type": "code",
   "execution_count": null,
   "id": "6bd1fb25",
   "metadata": {},
   "outputs": [],
   "source": []
  },
  {
   "cell_type": "code",
   "execution_count": null,
   "id": "80f0b544",
   "metadata": {},
   "outputs": [],
   "source": [
    "*************************************************************************"
   ]
  },
  {
   "cell_type": "code",
   "execution_count": null,
   "id": "e82a222a",
   "metadata": {},
   "outputs": [],
   "source": [
    "Ques 3 :Define a class Person and its two child classes: Male and Female. All classes have a method \"getGender\" which can print \"Male\" for Male class and \"Female\" for Female class."
   ]
  },
  {
   "cell_type": "code",
   "execution_count": 29,
   "id": "51c72f97",
   "metadata": {},
   "outputs": [],
   "source": [
    "class Person:\n",
    "    def getGender(self):\n",
    "        print(\"From getGender\")\n",
    "\n",
    "class Male(Person):\n",
    "    def getGender(self):\n",
    "        print(\"Male\")\n",
    "\n",
    "class Female(Person):\n",
    "    def getGender(self):\n",
    "        print(\"Female\")"
   ]
  },
  {
   "cell_type": "code",
   "execution_count": 30,
   "id": "96a1b7d1",
   "metadata": {},
   "outputs": [],
   "source": [
    "a = Male()"
   ]
  },
  {
   "cell_type": "code",
   "execution_count": 31,
   "id": "5fa43dd2",
   "metadata": {},
   "outputs": [
    {
     "name": "stdout",
     "output_type": "stream",
     "text": [
      "Male\n"
     ]
    }
   ],
   "source": [
    "a.getGender()"
   ]
  },
  {
   "cell_type": "code",
   "execution_count": 32,
   "id": "8323a72e",
   "metadata": {},
   "outputs": [],
   "source": [
    "b = Female()"
   ]
  },
  {
   "cell_type": "code",
   "execution_count": 33,
   "id": "83e86f88",
   "metadata": {},
   "outputs": [
    {
     "name": "stdout",
     "output_type": "stream",
     "text": [
      "Female\n"
     ]
    }
   ],
   "source": [
    "b.getGender()"
   ]
  },
  {
   "cell_type": "code",
   "execution_count": null,
   "id": "31facd70",
   "metadata": {},
   "outputs": [],
   "source": [
    "*************************************************************************"
   ]
  },
  {
   "cell_type": "code",
   "execution_count": null,
   "id": "e78b38f7",
   "metadata": {},
   "outputs": [],
   "source": [
    "Ques 4 : Please write a program to generate all sentences where subject is in [\"I\", \"You\"] and verb is in [\"Play\", \"Love\"] \n",
    "    and the object is in [\"Hockey\",\"Football\"]."
   ]
  },
  {
   "cell_type": "code",
   "execution_count": 34,
   "id": "201c1b6e",
   "metadata": {},
   "outputs": [],
   "source": [
    "def sentences():\n",
    "    subject= [\"I\", \"You\"]\n",
    "    verb= [\"Play\", \"Love\"]\n",
    "    obj=[\"Hockey\",\"Football\"]\n",
    "    for i in subject:\n",
    "        for j in verb:\n",
    "            for k in obj:\n",
    "                print(i +' '+ j+' '+k)"
   ]
  },
  {
   "cell_type": "code",
   "execution_count": 35,
   "id": "31a7515d",
   "metadata": {},
   "outputs": [
    {
     "name": "stdout",
     "output_type": "stream",
     "text": [
      "I Play Hockey\n",
      "I Play Football\n",
      "I Love Hockey\n",
      "I Love Football\n",
      "You Play Hockey\n",
      "You Play Football\n",
      "You Love Hockey\n",
      "You Love Football\n"
     ]
    }
   ],
   "source": [
    "a = sentences()"
   ]
  },
  {
   "cell_type": "code",
   "execution_count": null,
   "id": "8270882c",
   "metadata": {},
   "outputs": [],
   "source": [
    "*************************************************************************"
   ]
  },
  {
   "cell_type": "code",
   "execution_count": null,
   "id": "35ae8fa2",
   "metadata": {},
   "outputs": [],
   "source": [
    "Question 5: Please write a program to compress and decompress the string \"hello world!hello world!hello world!hello world!\"."
   ]
  },
  {
   "cell_type": "code",
   "execution_count": 37,
   "id": "c113564f",
   "metadata": {},
   "outputs": [
    {
     "name": "stdout",
     "output_type": "stream",
     "text": [
      "String: hello world!hello world!hello world!hello world!\n",
      "=========================\n",
      "compressed_string: b'\\x1f\\x8b\\x08\\x00\\x11\\xdf]d\\x02\\xff\\xcbH\\xcd\\xc9\\xc9W(\\xcf/\\xcaIQ\\xcc \\x82\\r\\x00\\xd3\\xe6\\xcf\\xae0\\x00\\x00\\x00'\n",
      "=========================\n",
      "decompressed_string: hello world!hello world!hello world!hello world!\n",
      "=========================\n"
     ]
    }
   ],
   "source": [
    "import gzip\n",
    "import io\n",
    "\n",
    "string = \"hello world!hello world!hello world!hello world!\"\n",
    "\n",
    "# compress the string\n",
    "\n",
    "compressed_string = gzip.compress(string.encode())\n",
    "\n",
    "# Decompress the compress string\n",
    "\n",
    "decompressed_string=gzip.decompress(compressed_string).decode()\n",
    "\n",
    "# Print the results\n",
    "print(\"String:\", string)\n",
    "print(\"=\"*25)\n",
    "print(\"compressed_string:\", compressed_string)\n",
    "print(\"=\"*25)\n",
    "print(\"decompressed_string:\", decompressed_string)\n",
    "print(\"=\"*25)"
   ]
  },
  {
   "cell_type": "code",
   "execution_count": null,
   "id": "1b033fc4",
   "metadata": {},
   "outputs": [],
   "source": [
    "*************************************************************************"
   ]
  },
  {
   "cell_type": "code",
   "execution_count": null,
   "id": "13d7c5d1",
   "metadata": {},
   "outputs": [],
   "source": [
    "Question 6: Please write a binary search function which searches an item in a sorted list. \n",
    "    The function should return the index of element to be searched in the list."
   ]
  },
  {
   "cell_type": "code",
   "execution_count": 38,
   "id": "7c5caf59",
   "metadata": {},
   "outputs": [
    {
     "name": "stdout",
     "output_type": "stream",
     "text": [
      "Index of 9 in the list: 4\n"
     ]
    }
   ],
   "source": [
    "\n",
    "def binary_search(arr, target):\n",
    "    low = 0\n",
    "    high = len(arr) - 1\n",
    "\n",
    "    while low <= high:\n",
    "        mid = (low + high) // 2\n",
    "\n",
    "        if arr[mid] == target:\n",
    "            return mid\n",
    "        elif arr[mid] < target:\n",
    "            low = mid + 1\n",
    "        else:\n",
    "            high = mid - 1\n",
    "\n",
    "    # If the target is not found\n",
    "    return -1\n",
    "\n",
    "\n",
    "# Example usage\n",
    "sorted_list = [1, 3, 5, 7, 9, 11, 13, 15, 17]\n",
    "target_element = 9\n",
    "\n",
    "index = binary_search(sorted_list, target_element)\n",
    "print(\"Index of\", target_element, \"in the list:\", index)"
   ]
  },
  {
   "cell_type": "code",
   "execution_count": null,
   "id": "2082556f",
   "metadata": {},
   "outputs": [],
   "source": []
  },
  {
   "cell_type": "code",
   "execution_count": null,
   "id": "1a0e31ff",
   "metadata": {},
   "outputs": [],
   "source": []
  },
  {
   "cell_type": "code",
   "execution_count": null,
   "id": "e3746257",
   "metadata": {},
   "outputs": [],
   "source": []
  }
 ],
 "metadata": {
  "kernelspec": {
   "display_name": "Python 3 (ipykernel)",
   "language": "python",
   "name": "python3"
  },
  "language_info": {
   "codemirror_mode": {
    "name": "ipython",
    "version": 3
   },
   "file_extension": ".py",
   "mimetype": "text/x-python",
   "name": "python",
   "nbconvert_exporter": "python",
   "pygments_lexer": "ipython3",
   "version": "3.9.13"
  }
 },
 "nbformat": 4,
 "nbformat_minor": 5
}
