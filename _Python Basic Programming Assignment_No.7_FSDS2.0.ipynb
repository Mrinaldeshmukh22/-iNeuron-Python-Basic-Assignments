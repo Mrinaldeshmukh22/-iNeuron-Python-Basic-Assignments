{
 "cells": [
  {
   "cell_type": "code",
   "execution_count": null,
   "id": "8647c646",
   "metadata": {},
   "outputs": [],
   "source": [
    "1. Write a Python Program to find sum of array"
   ]
  },
  {
   "cell_type": "code",
   "execution_count": 19,
   "id": "1d7b63ef",
   "metadata": {},
   "outputs": [
    {
     "name": "stdout",
     "output_type": "stream",
     "text": [
      "Sum of array: 15\n"
     ]
    }
   ],
   "source": [
    "def array_sum(arr):\n",
    "    sum = 0\n",
    "    for num in arr:\n",
    "        sum += num\n",
    "    return sum\n",
    "\n",
    "\n",
    "l = [1, 2, 3, 4, 5]\n",
    "print(\"Sum of array:\", array_sum(l))"
   ]
  },
  {
   "cell_type": "code",
   "execution_count": null,
   "id": "d61e46c7",
   "metadata": {},
   "outputs": [],
   "source": [
    "****************************************************************************"
   ]
  },
  {
   "cell_type": "code",
   "execution_count": null,
   "id": "2d220a48",
   "metadata": {},
   "outputs": [],
   "source": [
    "2. Write a Python Program to find largest element in an array?"
   ]
  },
  {
   "cell_type": "code",
   "execution_count": 23,
   "id": "d1071269",
   "metadata": {},
   "outputs": [],
   "source": [
    "def my_array(arr):\n",
    "    largest = arr[0]\n",
    "    for i in range(1,len(arr)):\n",
    "        if arr[i] > largest:\n",
    "            largest  = arr[i]\n",
    "    return largest"
   ]
  },
  {
   "cell_type": "code",
   "execution_count": 24,
   "id": "d96fd904",
   "metadata": {},
   "outputs": [],
   "source": [
    "array=[8,9,2,3,67,8]"
   ]
  },
  {
   "cell_type": "code",
   "execution_count": 28,
   "id": "975407d9",
   "metadata": {},
   "outputs": [
    {
     "name": "stdout",
     "output_type": "stream",
     "text": [
      "largest element in an array: 67\n"
     ]
    }
   ],
   "source": [
    "print(\"largest element in an array:\",my_array(array))"
   ]
  },
  {
   "cell_type": "code",
   "execution_count": null,
   "id": "b5428459",
   "metadata": {},
   "outputs": [],
   "source": [
    "****************************************************************************"
   ]
  },
  {
   "cell_type": "code",
   "execution_count": null,
   "id": "44cee9cc",
   "metadata": {},
   "outputs": [],
   "source": [
    "3. Write a Python Program for array rotation?"
   ]
  },
  {
   "cell_type": "code",
   "execution_count": null,
   "id": "e0aa15e0",
   "metadata": {},
   "outputs": [],
   "source": [
    "****************************************************************************"
   ]
  },
  {
   "cell_type": "code",
   "execution_count": null,
   "id": "1d62c9ac",
   "metadata": {},
   "outputs": [],
   "source": [
    "4. Write a Python Program to Split the array and add the first part to the end?"
   ]
  },
  {
   "cell_type": "code",
   "execution_count": null,
   "id": "81c3739c",
   "metadata": {},
   "outputs": [],
   "source": [
    "****************************************************************************"
   ]
  },
  {
   "cell_type": "code",
   "execution_count": null,
   "id": "70d4885e",
   "metadata": {},
   "outputs": [],
   "source": [
    "5. Write a Python Program to check if given array is Monotonic?"
   ]
  },
  {
   "cell_type": "code",
   "execution_count": null,
   "id": "1e6555e1",
   "metadata": {},
   "outputs": [],
   "source": [
    "****************************************************************************"
   ]
  },
  {
   "cell_type": "code",
   "execution_count": 38,
   "id": "f8cf5d92",
   "metadata": {},
   "outputs": [
    {
     "name": "stdout",
     "output_type": "stream",
     "text": [
      "The array is monotonic.\n"
     ]
    }
   ],
   "source": [
    "def is_monotonic(arr):\n",
    "    increasing = decreasing = True\n",
    "    \n",
    "    for i in range(len(arr)-1):\n",
    "        if arr[i] > arr[i+1]:\n",
    "            increasing = False\n",
    "        if arr[i] < arr[i+1]:\n",
    "            decreasing = False\n",
    "    \n",
    "    return increasing or decreasing\n",
    "\n",
    "arr = [1,2,3,4,5]\n",
    "if is_monotonic(arr):\n",
    "    print(\"The array is monotonic.\")\n",
    "else:\n",
    "    print(\"The array is not monotonic.\")"
   ]
  },
  {
   "cell_type": "code",
   "execution_count": 39,
   "id": "9e9e9d41",
   "metadata": {},
   "outputs": [
    {
     "name": "stdout",
     "output_type": "stream",
     "text": [
      "The array is not monotonic.\n"
     ]
    }
   ],
   "source": [
    "arr = [1,2,3,4,3]\n",
    "if is_monotonic(arr):\n",
    "    print(\"The array is monotonic.\")\n",
    "else:\n",
    "    print(\"The array is not monotonic.\")"
   ]
  },
  {
   "cell_type": "code",
   "execution_count": null,
   "id": "1195596d",
   "metadata": {},
   "outputs": [],
   "source": []
  },
  {
   "cell_type": "code",
   "execution_count": null,
   "id": "ba702800",
   "metadata": {},
   "outputs": [],
   "source": []
  }
 ],
 "metadata": {
  "kernelspec": {
   "display_name": "Python 3 (ipykernel)",
   "language": "python",
   "name": "python3"
  },
  "language_info": {
   "codemirror_mode": {
    "name": "ipython",
    "version": 3
   },
   "file_extension": ".py",
   "mimetype": "text/x-python",
   "name": "python",
   "nbconvert_exporter": "python",
   "pygments_lexer": "ipython3",
   "version": "3.9.13"
  }
 },
 "nbformat": 4,
 "nbformat_minor": 5
}
