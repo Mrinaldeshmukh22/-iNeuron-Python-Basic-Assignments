{
 "cells": [
  {
   "cell_type": "code",
   "execution_count": null,
   "id": "13c90c0e",
   "metadata": {},
   "outputs": [],
   "source": [
    "1. Write a Python Program to Find LCM?"
   ]
  },
  {
   "cell_type": "code",
   "execution_count": 19,
   "id": "c64b483a",
   "metadata": {},
   "outputs": [
    {
     "name": "stdout",
     "output_type": "stream",
     "text": [
      "Enter first number: 5\n",
      "Enter second number: 10\n",
      "LCM of 5 and 10 is 10\n"
     ]
    }
   ],
   "source": [
    "def gcd(a, b):\n",
    "    # function to find greatest common divisor\n",
    "    while b:\n",
    "        a, b = b, a % b\n",
    "    return a\n",
    "\n",
    "def lcm(a, b):\n",
    "    # function to find least common multiple\n",
    "    return (a*b) // gcd(a,b)\n",
    "\n",
    "# taking user inputs\n",
    "num1 = int(input(\"Enter first number: \"))\n",
    "num2 = int(input(\"Enter second number: \"))\n",
    "\n",
    "print(\"LCM of\", num1, \"and\", num2, \"is\", lcm(num1, num2))"
   ]
  },
  {
   "cell_type": "code",
   "execution_count": null,
   "id": "74a100e1",
   "metadata": {},
   "outputs": [],
   "source": [
    "***********************************************************************************************************"
   ]
  },
  {
   "cell_type": "code",
   "execution_count": null,
   "id": "a0a3a19f",
   "metadata": {},
   "outputs": [],
   "source": [
    "2. Write a Python Program to Find HCF?"
   ]
  },
  {
   "cell_type": "code",
   "execution_count": 21,
   "id": "cc53df52",
   "metadata": {},
   "outputs": [
    {
     "name": "stdout",
     "output_type": "stream",
     "text": [
      "Enter first number: 5\n",
      "Enter second number: 10\n",
      "HCF of 5 and 10 is 5\n"
     ]
    }
   ],
   "source": [
    "def hcf(a, b):\n",
    "    # function to find highest common factor using Euclid's algorithm\n",
    "    while b:\n",
    "        a, b = b, a % b\n",
    "    return a\n",
    "\n",
    "# taking user inputs\n",
    "num1 = int(input(\"Enter first number: \"))\n",
    "num2 = int(input(\"Enter second number: \"))\n",
    "\n",
    "print(\"HCF of\", num1, \"and\", num2, \"is\", hcf(num1, num2))"
   ]
  },
  {
   "cell_type": "code",
   "execution_count": null,
   "id": "508d326a",
   "metadata": {},
   "outputs": [],
   "source": [
    "***********************************************************************************************************"
   ]
  },
  {
   "cell_type": "code",
   "execution_count": null,
   "id": "33a4237b",
   "metadata": {},
   "outputs": [],
   "source": [
    "3. Write a Python Program to Convert Decimal to Binary, Octal and Hexadecimal?"
   ]
  },
  {
   "cell_type": "code",
   "execution_count": 11,
   "id": "986a8f3b",
   "metadata": {},
   "outputs": [
    {
     "name": "stdout",
     "output_type": "stream",
     "text": [
      "Enter a decimal number: 1024\n",
      "The binary equivalent of 1024 is 0b10000000000\n",
      "The octal equivalent of 1024 is 0o2000\n",
      "The hexadecimal equivalent of 1024 is 0x400\n"
     ]
    }
   ],
   "source": [
    "decimal_num = int(input(\"Enter a decimal number: \"))\n",
    "\n",
    "# Converting decimal to binary, octal and hexadecimal\n",
    "binary_num = bin(decimal_num)\n",
    "octal_num = oct(decimal_num)\n",
    "hexadecimal_num = hex(decimal_num)\n",
    "\n",
    "# Printing the results\n",
    "print(\"The binary equivalent of\", decimal_num, \"is\", binary_num)\n",
    "print(\"The octal equivalent of\", decimal_num, \"is\", octal_num)\n",
    "print(\"The hexadecimal equivalent of\", decimal_num, \"is\", hexadecimal_num)"
   ]
  },
  {
   "cell_type": "code",
   "execution_count": null,
   "id": "f569a0af",
   "metadata": {},
   "outputs": [],
   "source": [
    "# built-in functions bin(), oct(), and hex()"
   ]
  },
  {
   "cell_type": "code",
   "execution_count": 17,
   "id": "872b38c7",
   "metadata": {},
   "outputs": [
    {
     "name": "stdout",
     "output_type": "stream",
     "text": [
      "Enter a decimal number: 1024\n",
      "Enter a decimal number: 1024\n",
      "Enter a decimal number: 1024\n",
      "Binary equivalent: 10000000000\n",
      "Octal equivalent: 2000\n",
      "Hexadecimal equivalent: 400\n"
     ]
    }
   ],
   "source": [
    "decimal = int(input(\"Enter a decimal number: \"))\n",
    "\n",
    "binary = \"\"\n",
    "octal = \"\"\n",
    "hexadecimal = \"\"\n",
    "\n",
    "# converting to binary\n",
    "while decimal > 0:\n",
    "    binary = str(decimal % 2) + binary\n",
    "    decimal //= 2\n",
    "\n",
    "# converting to octal\n",
    "decimal = int(input(\"Enter a decimal number: \"))\n",
    "while decimal > 0:\n",
    "    octal = str(decimal % 8) + octal\n",
    "    decimal //= 8\n",
    "\n",
    "# converting to hexadecimal\n",
    "decimal = int(input(\"Enter a decimal number: \"))\n",
    "while decimal > 0:\n",
    "    rem = decimal % 16\n",
    "    if rem < 10:\n",
    "        hexadecimal = str(rem) + hexadecimal\n",
    "    else:\n",
    "        hexadecimal = chr(rem + 55) + hexadecimal\n",
    "    decimal //= 16\n",
    "\n",
    "print(\"Binary equivalent:\", binary)\n",
    "print(\"Octal equivalent:\", octal)\n",
    "print(\"Hexadecimal equivalent:\", hexadecimal)"
   ]
  },
  {
   "cell_type": "code",
   "execution_count": null,
   "id": "8d299b14",
   "metadata": {},
   "outputs": [],
   "source": [
    "***********************************************************************************************************"
   ]
  },
  {
   "cell_type": "code",
   "execution_count": null,
   "id": "4da0af52",
   "metadata": {},
   "outputs": [],
   "source": [
    "4. Write a Python Program To Find ASCII value of a character?"
   ]
  },
  {
   "cell_type": "code",
   "execution_count": 9,
   "id": "06d47d71",
   "metadata": {},
   "outputs": [
    {
     "name": "stdout",
     "output_type": "stream",
     "text": [
      "Enter the chara: a\n",
      "a ASCII value is 97\n"
     ]
    }
   ],
   "source": [
    "char = input(\"Enter the chara: \")\n",
    "ASCII_value  = ord(char)\n",
    "print(char, \"ASCII value is\", ASCII_value)"
   ]
  },
  {
   "cell_type": "code",
   "execution_count": null,
   "id": "f3b2f2f3",
   "metadata": {},
   "outputs": [],
   "source": [
    "# In Python, ord() is a built-in function that returns the integer representing the Unicode character."
   ]
  },
  {
   "cell_type": "code",
   "execution_count": null,
   "id": "23830702",
   "metadata": {},
   "outputs": [],
   "source": [
    "***********************************************************************************************************"
   ]
  },
  {
   "cell_type": "code",
   "execution_count": null,
   "id": "52441bbb",
   "metadata": {},
   "outputs": [],
   "source": [
    "5. Write a Python Program to Make a Simple Calculator with 4 basic mathematical operations?"
   ]
  },
  {
   "cell_type": "code",
   "execution_count": 4,
   "id": "38b24923",
   "metadata": {},
   "outputs": [
    {
     "name": "stdout",
     "output_type": "stream",
     "text": [
      "Enter the value of a: 90\n",
      "Enter the value of b: 3\n",
      "Choose an operation (+, -, *, /): /\n",
      "90 / 3 = 30.0\n"
     ]
    }
   ],
   "source": [
    "a = int(input(\"Enter the value of a: \"))\n",
    "b = int(input(\"Enter the value of b: \"))\n",
    "operation = input(\"Choose an operation (+, -, *, /): \")\n",
    "\n",
    "def add(a,b):\n",
    "    return a+b\n",
    "def subtract(a,b):\n",
    "    return a-b\n",
    "def multiply(a,b):\n",
    "    return a*b\n",
    "def divide(a,b):\n",
    "    return a/b\n",
    "\n",
    "# perform the chosen operation\n",
    "if operation == '+':\n",
    "    result = add(a, b)\n",
    "elif operation == '-':\n",
    "    result = subtract(a, b)\n",
    "elif operation == '*':\n",
    "    result = multiply(a, b)\n",
    "elif operation == '/':\n",
    "    result = divide(a, b)\n",
    "else:\n",
    "    print(\"Invalid operation. Please try again.\")\n",
    "\n",
    "print(f\"{a} {operation} {b} = {result}\")"
   ]
  },
  {
   "cell_type": "code",
   "execution_count": null,
   "id": "2bb3b51f",
   "metadata": {},
   "outputs": [],
   "source": [
    "***********************************************************************************************************"
   ]
  },
  {
   "cell_type": "code",
   "execution_count": null,
   "id": "af15e823",
   "metadata": {},
   "outputs": [],
   "source": []
  }
 ],
 "metadata": {
  "kernelspec": {
   "display_name": "Python 3 (ipykernel)",
   "language": "python",
   "name": "python3"
  },
  "language_info": {
   "codemirror_mode": {
    "name": "ipython",
    "version": 3
   },
   "file_extension": ".py",
   "mimetype": "text/x-python",
   "name": "python",
   "nbconvert_exporter": "python",
   "pygments_lexer": "ipython3",
   "version": "3.9.13"
  }
 },
 "nbformat": 4,
 "nbformat_minor": 5
}
