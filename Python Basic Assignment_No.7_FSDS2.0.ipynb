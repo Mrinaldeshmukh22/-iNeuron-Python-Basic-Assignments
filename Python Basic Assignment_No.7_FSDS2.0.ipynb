{
 "cells": [
  {
   "cell_type": "markdown",
   "id": "liberal-account",
   "metadata": {},
   "source": [
    "Ques 1\n",
    "What is the name of the feature responsible for generating Regex objects?\n",
    "\n",
    "- Answer -\n",
    "The name of the feature responsible for generating Regex objects is re.compile() function which returns Regex objects."
   ]
  },
  {
   "cell_type": "code",
   "execution_count": null,
   "id": "c1cc4b68",
   "metadata": {},
   "outputs": [],
   "source": [
    "*************************************************************************************************************************"
   ]
  },
  {
   "cell_type": "markdown",
   "id": "sharing-council",
   "metadata": {},
   "source": [
    "Ques 2 Why do raw strings often appear in Regex objects?\n",
    "\n",
    "- Answer -Raw strings are used so that backslashes do not have to be escaped.\n"
   ]
  },
  {
   "cell_type": "code",
   "execution_count": null,
   "id": "09e642c8",
   "metadata": {},
   "outputs": [],
   "source": [
    "*************************************************************************************************************************"
   ]
  },
  {
   "cell_type": "markdown",
   "id": "acute-talent",
   "metadata": {},
   "source": [
    "Ques 3 What is the return value of the search() method?\n",
    "\n",
    "- Answer -\n",
    "the return value of the search() method is that it returns Match objects.The search() function searches the string for a match, and returns a Match object if there is a match.\n",
    "\n",
    "    \n"
   ]
  },
  {
   "cell_type": "code",
   "execution_count": 1,
   "id": "express-organ",
   "metadata": {},
   "outputs": [
    {
     "name": "stdout",
     "output_type": "stream",
     "text": [
      "The first i character is located in position: 2\n"
     ]
    },
    {
     "data": {
      "text/plain": [
       "re.Match"
      ]
     },
     "execution_count": 1,
     "metadata": {},
     "output_type": "execute_result"
    }
   ],
   "source": [
    "import re\n",
    "\n",
    "data = \"This is iNeuron Full Stack Data Science Class\"\n",
    "x = re.search(\"i\", data)\n",
    "\n",
    "print(\"The first i character is located in position:\", x.start()) \n",
    "type(x)"
   ]
  },
  {
   "cell_type": "code",
   "execution_count": null,
   "id": "76942b1e",
   "metadata": {},
   "outputs": [],
   "source": [
    "*************************************************************************************************************************"
   ]
  },
  {
   "cell_type": "markdown",
   "id": "outdoor-setup",
   "metadata": {},
   "source": [
    "Ques 4 From a Match item, how do you get the actual strings that match the pattern?\n",
    "\n",
    "- Answer -\n",
    "The group() method returns strings of the matched text.\n"
   ]
  },
  {
   "cell_type": "code",
   "execution_count": null,
   "id": "931f9b3f",
   "metadata": {},
   "outputs": [],
   "source": [
    "*************************************************************************************************************************"
   ]
  },
  {
   "cell_type": "markdown",
   "id": "caring-viewer",
   "metadata": {},
   "source": [
    "Ques 5 In the regex which created from the r'(\\d\\d\\d)-(\\d\\d\\d-\\d\\d\\d\\d)', what does group zero cover? Group 2? Group 1?\n",
    "\n",
    "- Answer -\n",
    "Group 0 is the entire match, group 1 covers the first set of parentheses, and group 2 covers the second set of parentheses.\n"
   ]
  },
  {
   "cell_type": "code",
   "execution_count": null,
   "id": "b1d9c976",
   "metadata": {},
   "outputs": [],
   "source": [
    "*************************************************************************************************************************"
   ]
  },
  {
   "cell_type": "markdown",
   "id": "complimentary-cabinet",
   "metadata": {},
   "source": [
    "Ques 6 in standard expression syntax, parentheses and intervals have distinct meanings. How can you tell a regex that you want it to fit real parentheses and periods?\n",
    "\n",
    "- Answer -\n",
    "Periods and parentheses can be escaped with a backslash: \\\n"
   ]
  },
  {
   "cell_type": "code",
   "execution_count": null,
   "id": "d2241053",
   "metadata": {},
   "outputs": [],
   "source": [
    "*************************************************************************************************************************"
   ]
  },
  {
   "cell_type": "markdown",
   "id": "special-graduation",
   "metadata": {},
   "source": [
    "Ques 7 The findall() method returns a string list or a list of string tuples. What causes it to return one of the two options?\n",
    "\n",
    "- Answer -\n",
    "If the regex has no groups, a list of strings is returned. If the regex has groups, a list of tuples of strings is returned.\n"
   ]
  },
  {
   "cell_type": "code",
   "execution_count": null,
   "id": "2aae1c63",
   "metadata": {},
   "outputs": [],
   "source": [
    "*************************************************************************************************************************"
   ]
  },
  {
   "cell_type": "markdown",
   "id": "conscious-adult",
   "metadata": {},
   "source": [
    "Ques 8 \n",
    "> In standard expressions, what does the | character mean?\n",
    "\n",
    "- Answer -The | character signifies matching \"either, or\" between two groups.\n"
   ]
  },
  {
   "cell_type": "code",
   "execution_count": null,
   "id": "b88238d5",
   "metadata": {},
   "outputs": [],
   "source": [
    "*************************************************************************************************************************"
   ]
  },
  {
   "cell_type": "markdown",
   "id": "dynamic-madison",
   "metadata": {},
   "source": [
    "Ques 9 \n",
    "> What two things does the ? character signify in regular expressions?\n",
    "\n",
    "- Answer -The ? character can either mean \"match zero or one of the preceding group\" or be used to signify nongreedy matching.\n"
   ]
  },
  {
   "cell_type": "code",
   "execution_count": null,
   "id": "c937403c",
   "metadata": {},
   "outputs": [],
   "source": [
    "*************************************************************************************************************************"
   ]
  },
  {
   "cell_type": "markdown",
   "id": "continuing-drama",
   "metadata": {},
   "source": [
    "Ques 10 In regular expressions, what is the difference between the + and * characters?\n",
    "\n",
    "- Answer - The + matches one or more. The * matches zero or more.\n"
   ]
  },
  {
   "cell_type": "code",
   "execution_count": null,
   "id": "ce38edf8",
   "metadata": {},
   "outputs": [],
   "source": [
    "*************************************************************************************************************************"
   ]
  },
  {
   "cell_type": "markdown",
   "id": "dietary-russia",
   "metadata": {},
   "source": [
    "Ques 11 What is the difference between {4} and {4,5} in regular expression?\n",
    "\n",
    "- Answer -The {4} matches exactly three instances of the preceding group. The {4,5} matches between four and five instances.\n"
   ]
  },
  {
   "cell_type": "code",
   "execution_count": null,
   "id": "fde0c3c7",
   "metadata": {},
   "outputs": [],
   "source": [
    "*************************************************************************************************************************"
   ]
  },
  {
   "cell_type": "markdown",
   "id": "allied-institute",
   "metadata": {},
   "source": [
    "Ques 12\n",
    "> What do you mean by the \\d, \\w, and \\s shorthand character classes signify in regular expressions?\n",
    "\n",
    "- Answer - The \\d, \\w, and \\s shorthand character classes match a single digit, word, or space character, respectively.\n"
   ]
  },
  {
   "cell_type": "code",
   "execution_count": null,
   "id": "635f257e",
   "metadata": {},
   "outputs": [],
   "source": [
    "*************************************************************************************************************************"
   ]
  },
  {
   "cell_type": "markdown",
   "id": "stopped-coupon",
   "metadata": {},
   "source": [
    "Ques 13 What do means by \\D, \\W, and \\S shorthand character classes signify in regular expressions?\n",
    "\n",
    "- Answer - The \\D, \\W, and \\S shorthand character classes match a single character that is not a digit, word, or space character, respectively."
   ]
  },
  {
   "cell_type": "code",
   "execution_count": null,
   "id": "9fc4cce2",
   "metadata": {},
   "outputs": [],
   "source": [
    "*************************************************************************************************************************"
   ]
  },
  {
   "cell_type": "markdown",
   "id": "civic-library",
   "metadata": {},
   "source": [
    "Ques 14 What is the difference between .* and .*??\n",
    "\n",
    "- Answer - The .* performs a greedy match, and the .*? performs a nongreedy match.\n"
   ]
  },
  {
   "cell_type": "code",
   "execution_count": null,
   "id": "ced4dc21",
   "metadata": {},
   "outputs": [],
   "source": [
    "*************************************************************************************************************************"
   ]
  },
  {
   "cell_type": "markdown",
   "id": "theoretical-invention",
   "metadata": {},
   "source": [
    "Ques 15  What is the syntax for matching both numbers and lowercase letters with a character class?\n",
    "\n",
    "- Answer - Either [0-9a-z] or [a-z0-9]\n"
   ]
  },
  {
   "cell_type": "code",
   "execution_count": null,
   "id": "ca8db61d",
   "metadata": {},
   "outputs": [],
   "source": [
    "*************************************************************************************************************************"
   ]
  },
  {
   "cell_type": "markdown",
   "id": "developed-density",
   "metadata": {},
   "source": [
    "Ques 16  What is the procedure for making a normal expression in regex case insensitive?\n",
    "\n",
    "- Answer - Passing re.I or re.IGNORECASE as the second argument to re.compile() will make the matching case insensitive.\n"
   ]
  },
  {
   "cell_type": "code",
   "execution_count": null,
   "id": "b5575cfe",
   "metadata": {},
   "outputs": [],
   "source": [
    "*************************************************************************************************************************"
   ]
  },
  {
   "cell_type": "markdown",
   "id": "purple-rating",
   "metadata": {},
   "source": [
    "Ques 17  What does the . character normally match? What does it match if re.DOTALL is passed as 2nd argument in re.compile()?\n",
    "\n",
    "- Answer - The . character normally matches any character except the newline character. If re.DOTALL is passed as the second argument to re.compile(), then the dot will also match newline characters.\n"
   ]
  },
  {
   "cell_type": "code",
   "execution_count": null,
   "id": "360effea",
   "metadata": {},
   "outputs": [],
   "source": [
    "*************************************************************************************************************************"
   ]
  },
  {
   "cell_type": "markdown",
   "id": "honey-underwear",
   "metadata": {},
   "source": [
    "Ques 18  \n",
    "- Question - If numRegex = re.compile(r'\\d+'), what will numRegex.sub('X', '11 drummers, 10 pipers, five rings, 4 hen') return?\n"
   ]
  },
  {
   "cell_type": "code",
   "execution_count": 4,
   "id": "marine-headline",
   "metadata": {},
   "outputs": [],
   "source": [
    "import re\n",
    "numRegex = re.compile(r'\\d+')"
   ]
  },
  {
   "cell_type": "code",
   "execution_count": 5,
   "id": "suffering-ferry",
   "metadata": {},
   "outputs": [
    {
     "data": {
      "text/plain": [
       "'X drummers, X pipers, five rings, X hen'"
      ]
     },
     "execution_count": 5,
     "metadata": {},
     "output_type": "execute_result"
    }
   ],
   "source": [
    "numRegex.sub('X', '11 drummers, 10 pipers, five rings, 4 hen')"
   ]
  },
  {
   "cell_type": "code",
   "execution_count": null,
   "id": "7c2bd363",
   "metadata": {},
   "outputs": [],
   "source": [
    "*************************************************************************************************************************"
   ]
  },
  {
   "cell_type": "markdown",
   "id": "polar-struggle",
   "metadata": {},
   "source": [
    "Ques 19 What does passing re.VERBOSE as the 2nd argument to re.compile() allow to do?\n",
    "\n",
    "- Answer -The re.VERBOSE argument allows you to add whitespace and comments to the string passed to re.compile().\n"
   ]
  },
  {
   "cell_type": "code",
   "execution_count": null,
   "id": "bb67bac7",
   "metadata": {},
   "outputs": [],
   "source": [
    "*************************************************************************************************************************"
   ]
  },
  {
   "cell_type": "markdown",
   "id": "destroyed-messenger",
   "metadata": {},
   "source": [
    "Ques 20\n",
    "> How would you write a regex that match a number with comma for every three digits? It must match the given following:\n",
    ">- '42'\n",
    ">- '1,234'\n",
    ">- '6,368,745'\n",
    ">- but not the following:\n",
    ">- '12,34,567' (which has only two digits between the commas)\n",
    ">- '1234' (which lacks commas)\n",
    "\n",
    "\n",
    "- Answer -\n",
    "re.compile(r'^\\d{1,3}(,\\d{3})*$') will create this regex, but other regex strings can produce a similar regular expression.\n"
   ]
  },
  {
   "cell_type": "code",
   "execution_count": null,
   "id": "20d114d8",
   "metadata": {},
   "outputs": [],
   "source": [
    "*************************************************************************************************************************"
   ]
  },
  {
   "cell_type": "markdown",
   "id": "sized-portal",
   "metadata": {},
   "source": [
    "Ques 21 How would you write a regex that matches the full name of someone whose last name is Watanabe? You can assume that the first name that comes before it will always be one word that begins with a capital letter. The regex must match the following:\n",
    ">- 'Haruto Watanabe'\n",
    ">- 'Alice Watanabe'\n",
    ">- 'RoboCop Watanabe'\n",
    ">- but not the following:\n",
    ">- 'haruto Watanabe' (where the first name is not capitalized)\n",
    ">- 'Mr. Watanabe' (where the preceding word has a nonletter character)\n",
    ">- 'Watanabe' (which has no first name)\n",
    ">- 'Haruto watanabe' (where Watanabe is not capitalized)\n",
    "\n",
    "\n",
    "- Answer -re.compile(r'[A-Z][a-z]*\\sNakamoto')\n"
   ]
  },
  {
   "cell_type": "code",
   "execution_count": null,
   "id": "aaea71cd",
   "metadata": {},
   "outputs": [],
   "source": [
    "*************************************************************************************************************************"
   ]
  },
  {
   "cell_type": "markdown",
   "id": "detailed-tobacco",
   "metadata": {},
   "source": [
    "Ques 22 How would you write a regex that matches a sentence where the first word is either Alice, Bob, or Carol; the second word is either eats, pets, or throws; the third word is apples, cats, or baseballs; and the sentence ends with a period? This regex should be case-insensitive. It must match the following:\n",
    ">- 'Alice eats apples.'\n",
    ">- 'Bob pets cats.'\n",
    ">- 'Carol throws baseballs.'\n",
    ">- 'Alice throws Apples.'\n",
    ">- 'BOB EATS CATS.'\n",
    ">- but not the following:\n",
    ">- 'RoboCop eats apples.'\n",
    ">- 'ALICE THROWS FOOTBALLS.'\n",
    ">- 'Carol eats 7 cats.'\n",
    "\n",
    "\n",
    "- Answer -\n",
    " re.compile(r'(Alice|Bob|Carol)\\s(eats|pets|throws)\\s(apples|cats|baseballs)\\.', re.IGNORECASE)\n"
   ]
  },
  {
   "cell_type": "code",
   "execution_count": null,
   "id": "cc11b633",
   "metadata": {},
   "outputs": [],
   "source": [
    "*************************************************************************************************************************"
   ]
  }
 ],
 "metadata": {
  "kernelspec": {
   "display_name": "Python 3 (ipykernel)",
   "language": "python",
   "name": "python3"
  },
  "language_info": {
   "codemirror_mode": {
    "name": "ipython",
    "version": 3
   },
   "file_extension": ".py",
   "mimetype": "text/x-python",
   "name": "python",
   "nbconvert_exporter": "python",
   "pygments_lexer": "ipython3",
   "version": "3.9.13"
  },
  "toc": {
   "base_numbering": 1,
   "nav_menu": {},
   "number_sections": true,
   "sideBar": true,
   "skip_h1_title": false,
   "title_cell": "Table of Contents",
   "title_sidebar": "Contents",
   "toc_cell": false,
   "toc_position": {},
   "toc_section_display": true,
   "toc_window_display": false
  }
 },
 "nbformat": 4,
 "nbformat_minor": 5
}
