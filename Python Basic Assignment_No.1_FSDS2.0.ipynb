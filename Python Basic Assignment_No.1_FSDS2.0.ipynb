{
 "cells": [
  {
   "cell_type": "raw",
   "id": "e07eb835",
   "metadata": {},
   "source": [
    "# Ques 1 :  In the below elements which of them are values or an expression? eg:- values can be integer or string and expressions will be mathematical operators.\n",
    "* \n",
    "'hello'\n",
    "-87.8\n",
    "- \n",
    "/ \n",
    "+\t\n",
    "6 \n"
   ]
  },
  {
   "cell_type": "raw",
   "id": "cbf89d91",
   "metadata": {},
   "source": [
    "#Ans:\n",
    "Arithmatic Operator(*)\n",
    "String Value (\"hello\")\n",
    "Floating point value (-87.8)\n",
    "Arithmatic Operator (-)\n",
    "Arithmatic Operator (/)\n",
    "Arithmatic Operator (+)\n",
    "integer value (6)"
   ]
  },
  {
   "cell_type": "code",
   "execution_count": null,
   "id": "d655cbdc",
   "metadata": {},
   "outputs": [],
   "source": [
    "---------------------------------------------------------------------------------------------------------------------------"
   ]
  },
  {
   "cell_type": "raw",
   "id": "6f950a09",
   "metadata": {},
   "source": [
    "# Ques2 : What is the difference between string and variable?"
   ]
  },
  {
   "cell_type": "raw",
   "id": "fbfbed00",
   "metadata": {},
   "source": [
    "Ans\n",
    "a string is a value representing text and Strings always start and end with quotes (Eg. String= \"Hello\") \n",
    "a variable is a name that can refer to any value (Eg. variable = 10, variable = hello a = 25 (here a is variable))"
   ]
  },
  {
   "cell_type": "code",
   "execution_count": null,
   "id": "5fbf758a",
   "metadata": {},
   "outputs": [],
   "source": [
    "------------------------------------------------------------------------------------------------------------------------"
   ]
  },
  {
   "cell_type": "raw",
   "id": "5319e44f",
   "metadata": {},
   "source": [
    "# Ques 3 : Describe three different data types."
   ]
  },
  {
   "cell_type": "raw",
   "id": "e7482040",
   "metadata": {},
   "source": [
    "Ans :\n",
    "String : The string data is used to stores characters.\n",
    "(Eg. S=\"India\")\n",
    "\n",
    "\n",
    "list : list is used to store the collection of different data types of elements, and it is mutable \n",
    "(Eg. l =[1,2,3,4,4.5,15+4j])\n",
    "\n",
    "\n",
    "Tuple  :Tuple is used to stores a collection of different data types of elements, and it is immutable.\n",
    "[Eg. T= (\"hi\", 100, 23.55)]\n",
    "\n",
    "\n",
    "Dictionary: Dictionary is used to store a collection of different data types of elements in the form of key-value pairs,and it is mutable \n",
    "(Eg. D={\"name\":\"Ram\", \"Age\": \"25\"})"
   ]
  },
  {
   "cell_type": "code",
   "execution_count": null,
   "id": "f6551baa",
   "metadata": {},
   "outputs": [],
   "source": [
    "-----------------------------------------------------------------------------------------------------------------------------"
   ]
  },
  {
   "cell_type": "raw",
   "id": "2c2d569e",
   "metadata": {},
   "source": [
    "#Ques 4: What is an expression made up of? What do all expressions do?"
   ]
  },
  {
   "cell_type": "raw",
   "id": "c565b044",
   "metadata": {},
   "source": [
    "Ans:  expression is a combination of values, variables, operators There are three kinds of expressions: An arithmetic expression evaluates to a single arithmetic value. A character expression evaluates to a single value of type character. A logical or relational expression evaluates to a single logical value. All expressions evaluate (that is, reduce) to a single value."
   ]
  },
  {
   "cell_type": "code",
   "execution_count": null,
   "id": "5ca1154c",
   "metadata": {},
   "outputs": [],
   "source": [
    "----------------------------------------------------------------------------------------------------------------------------"
   ]
  },
  {
   "cell_type": "code",
   "execution_count": null,
   "id": "bec66bce",
   "metadata": {},
   "outputs": [],
   "source": [
    "Ques5 : This assignment statements, like spam = 10. What is the difference between an expression and a statement?"
   ]
  },
  {
   "cell_type": "raw",
   "id": "8d768875",
   "metadata": {},
   "source": [
    "Ans : An expression evaluates to a single value. A statement does not."
   ]
  },
  {
   "cell_type": "code",
   "execution_count": null,
   "id": "45b596c7",
   "metadata": {},
   "outputs": [],
   "source": [
    "---------------------------------------------------------------------------------------------------------------------------"
   ]
  },
  {
   "cell_type": "code",
   "execution_count": null,
   "id": "aa9c5743",
   "metadata": {},
   "outputs": [],
   "source": [
    "Ques6 : After running the following code, what does the variable bacon contain?\n",
    "bacon = 22\n",
    "bacon + 1"
   ]
  },
  {
   "cell_type": "code",
   "execution_count": 2,
   "id": "b2c79061",
   "metadata": {},
   "outputs": [
    {
     "data": {
      "text/plain": [
       "23"
      ]
     },
     "execution_count": 2,
     "metadata": {},
     "output_type": "execute_result"
    }
   ],
   "source": [
    "bacon = 22\n",
    "bacon + 1"
   ]
  },
  {
   "cell_type": "code",
   "execution_count": 3,
   "id": "ae711620",
   "metadata": {},
   "outputs": [
    {
     "data": {
      "text/plain": [
       "22"
      ]
     },
     "execution_count": 3,
     "metadata": {},
     "output_type": "execute_result"
    }
   ],
   "source": [
    "bacon"
   ]
  },
  {
   "cell_type": "raw",
   "id": "ae16feb8",
   "metadata": {},
   "source": [
    "Ans bacon = 22 and after that bacon +1 = 23 but 23 value is not reassign to bacon so the value of bacon is 22 \n",
    "for reassign we need to do (bacon =bacon+1)"
   ]
  },
  {
   "cell_type": "code",
   "execution_count": null,
   "id": "a3935838",
   "metadata": {},
   "outputs": [],
   "source": [
    "-------------------------------------------------------------------------------------------------------------------------"
   ]
  },
  {
   "cell_type": "code",
   "execution_count": null,
   "id": "1e26852c",
   "metadata": {},
   "outputs": [],
   "source": [
    "Ques7:What should the following two expressions evaluate to?\n",
    "\n",
    "'spam' + 'spamspam'\n",
    "'spam' * 3"
   ]
  },
  {
   "cell_type": "code",
   "execution_count": 6,
   "id": "a54f6bb7",
   "metadata": {},
   "outputs": [
    {
     "name": "stdout",
     "output_type": "stream",
     "text": [
      "spamspamspam\n",
      "spamspamspam\n"
     ]
    }
   ],
   "source": [
    "print('spam' + 'spamspam')\n",
    "print('spam' * 3)"
   ]
  },
  {
   "cell_type": "raw",
   "id": "3bfd3a43",
   "metadata": {},
   "source": [
    "Ans: Both give same output and evaluate to spamspamspam"
   ]
  },
  {
   "cell_type": "code",
   "execution_count": null,
   "id": "999d1d06",
   "metadata": {},
   "outputs": [],
   "source": [
    "--------------------------------------------------------------------------------------------------------------------------------"
   ]
  },
  {
   "cell_type": "raw",
   "id": "671d4329",
   "metadata": {},
   "source": [
    "Ques8: Why is it that eggs is a true variable name but 100 is not?"
   ]
  },
  {
   "cell_type": "raw",
   "id": "d2c3dc6e",
   "metadata": {},
   "source": [
    "ans : Variable names cannot begin with a number it should always begin with character "
   ]
  },
  {
   "cell_type": "code",
   "execution_count": null,
   "id": "9c058164",
   "metadata": {},
   "outputs": [],
   "source": [
    "---------------------------------------------------------------------------------------------------------------------------"
   ]
  },
  {
   "cell_type": "raw",
   "id": "b02cad29",
   "metadata": {},
   "source": [
    "Ques 9 : What three functions can be used to get the integer, floating-point number, or string version of a value?"
   ]
  },
  {
   "cell_type": "raw",
   "id": "4e275505",
   "metadata": {},
   "source": [
    "Ans: integer = int()\n",
    "    floating-point = float()\n",
    "    string = str()\n",
    "    \n",
    "this function is use "
   ]
  },
  {
   "cell_type": "code",
   "execution_count": null,
   "id": "6fbe38b8",
   "metadata": {},
   "outputs": [],
   "source": [
    "-------------------------------------------------------------------------------------------------------------------------------"
   ]
  },
  {
   "cell_type": "code",
   "execution_count": null,
   "id": "8cfbb188",
   "metadata": {},
   "outputs": [],
   "source": [
    "Ques 10 : Why does this expression cause an error? How can you fix it?\n",
    "    'I have eaten ' + 99 + ' burritos.'"
   ]
  },
  {
   "cell_type": "code",
   "execution_count": 11,
   "id": "13c4c760",
   "metadata": {},
   "outputs": [
    {
     "ename": "TypeError",
     "evalue": "can only concatenate str (not \"int\") to str",
     "output_type": "error",
     "traceback": [
      "\u001b[1;31m---------------------------------------------------------------------------\u001b[0m",
      "\u001b[1;31mTypeError\u001b[0m                                 Traceback (most recent call last)",
      "Input \u001b[1;32mIn [11]\u001b[0m, in \u001b[0;36m<cell line: 1>\u001b[1;34m()\u001b[0m\n\u001b[1;32m----> 1\u001b[0m \u001b[38;5;124;43m'\u001b[39;49m\u001b[38;5;124;43mI have eaten \u001b[39;49m\u001b[38;5;124;43m'\u001b[39;49m\u001b[43m \u001b[49m\u001b[38;5;241;43m+\u001b[39;49m\u001b[43m \u001b[49m\u001b[38;5;241;43m99\u001b[39;49m \u001b[38;5;241m+\u001b[39m \u001b[38;5;124m'\u001b[39m\u001b[38;5;124m burritos.\u001b[39m\u001b[38;5;124m'\u001b[39m\n",
      "\u001b[1;31mTypeError\u001b[0m: can only concatenate str (not \"int\") to str"
     ]
    }
   ],
   "source": [
    " 'I have eaten ' + 99 + ' burritos.'"
   ]
  },
  {
   "cell_type": "markdown",
   "id": "aeec86b8",
   "metadata": {},
   "source": [
    "it gives error becz 99 is intger and only string concatenate with string so if we want to do this concad then we need to covert 99 into str means typecasting we need to do"
   ]
  },
  {
   "cell_type": "code",
   "execution_count": 13,
   "id": "4260fdf2",
   "metadata": {},
   "outputs": [
    {
     "data": {
      "text/plain": [
       "'I have eaten 99 burritos.'"
      ]
     },
     "execution_count": 13,
     "metadata": {},
     "output_type": "execute_result"
    }
   ],
   "source": [
    " 'I have eaten ' + str(99) + ' burritos.'"
   ]
  },
  {
   "cell_type": "code",
   "execution_count": null,
   "id": "8eb266c3",
   "metadata": {},
   "outputs": [],
   "source": []
  },
  {
   "cell_type": "code",
   "execution_count": null,
   "id": "cbd2d777",
   "metadata": {},
   "outputs": [],
   "source": []
  }
 ],
 "metadata": {
  "kernelspec": {
   "display_name": "Python 3 (ipykernel)",
   "language": "python",
   "name": "python3"
  },
  "language_info": {
   "codemirror_mode": {
    "name": "ipython",
    "version": 3
   },
   "file_extension": ".py",
   "mimetype": "text/x-python",
   "name": "python",
   "nbconvert_exporter": "python",
   "pygments_lexer": "ipython3",
   "version": "3.9.12"
  }
 },
 "nbformat": 4,
 "nbformat_minor": 5
}
